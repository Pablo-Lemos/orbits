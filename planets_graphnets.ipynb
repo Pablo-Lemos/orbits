{
 "cells": [
  {
   "cell_type": "code",
   "execution_count": 1,
   "metadata": {},
   "outputs": [],
   "source": [
    "import time\n",
    "import sys\n",
    "\n",
    "from graph_nets import blocks\n",
    "from graph_nets import utils_np\n",
    "from graph_nets import utils_tf\n",
    "from graph_nets.demos import models\n",
    "from matplotlib import pyplot as plt\n",
    "from simulate_orbits import *\n",
    "import numpy as np\n",
    "from copy import deepcopy\n",
    "\n",
    "import random as rand\n",
    "\n",
    "import graph_nets as gn\n",
    "import sonnet as snt\n",
    "import tensorflow as tf\n",
    "import networkx as nx\n",
    "\n",
    "# For debugging only\n",
    "#tf.compat.v1.enable_eager_execution()"
   ]
  },
  {
   "cell_type": "code",
   "execution_count": 2,
   "metadata": {},
   "outputs": [],
   "source": [
    "def get_orbital_velocity(radius, mass_planet, mass_star, G, ellipcity_noise = 0):\n",
    "    \"\"\"Calculate the velocity required to keep an orbit\n",
    "\n",
    "    Parameters\n",
    "    ---------- \n",
    "    radius : float\n",
    "      the radial distance from the body to the center of the orbit\n",
    "    mass_planet : float\n",
    "      mass of the planet orbiting\n",
    "    mass_star : float\n",
    "      mass of the body at the center of the orbit\n",
    "    G : float \n",
    "      Gravitational Constant\n",
    "    noise: float\n",
    "      The maximum fractional amount by which the initial velocity is perturbed. \n",
    "      Defaults to zero\n",
    "\n",
    "    Returns\n",
    "    ---------- \n",
    "    velocity : float\n",
    "      the orbital velocity\n",
    "\n",
    "    \"\"\"\n",
    "\n",
    "    velocity = np.sqrt(G*mass_star/radius)\n",
    "\n",
    "    # Add noise\n",
    "    if ellipcity_noise > 0:\n",
    "        delta_vel = np.random.normal(0, ellipcity_noise, size = np.shape(velocity))\n",
    "        #delta_vel = rand.uniform(*(-ellipcity_noise,ellipcity_noise), size = np.shape(velocity))\n",
    "        velocity *= (1.+delta_vel)\n",
    "\n",
    "    return np.array(velocity)\n",
    "\n",
    "def get_trajectory(planets, num_time_steps):\n",
    "    '''\n",
    "    Calculate real trajectory using Euler integration\n",
    "    \n",
    "    Parameters\n",
    "    ----------\n",
    "    planets : ls\n",
    "        A list of planets using the Body class\n",
    "    num_time_steps : float\n",
    "        The number of integration steps    \n",
    "      \n",
    "    Returns\n",
    "    -------\n",
    "    x_traj, p_traj: np.array([num_time_steps, nplanets, 2])\n",
    "        The positions and momenta of the trajectory for each planet\n",
    "    '''\n",
    "    \n",
    "    nplanets = len(planets)\n",
    "    x_traj = np.zeros([num_time_steps, nplanets, 2])\n",
    "    p_traj = np.zeros([num_time_steps, nplanets, 2])\n",
    "    for i in range(num_time_steps):\n",
    "        pos = []\n",
    "        mom = []\n",
    "        for planet in planets:\n",
    "            pos.append(planet.orbit[i][0:2])\n",
    "            mom.append(planet.orbit[i][3:5]*planet.mass)\n",
    "        \n",
    "        x_traj[i] = np.array(pos) #km\n",
    "        p_traj[i] = np.array(mom)#km/s\n",
    "\n",
    "    return x_traj, p_traj"
   ]
  },
  {
   "cell_type": "code",
   "execution_count": 3,
   "metadata": {},
   "outputs": [],
   "source": [
    "def get_input_graph(planets, xtraj, t, noise_level = 0.0):\n",
    "    '''\n",
    "    Convert a given time into a GraphNets graph that can be used to train a model\n",
    "    \n",
    "    Parameters\n",
    "    ----------\n",
    "    planets : ls\n",
    "        A list of planets using the Body class\n",
    "    xtraj: np.array([num_time_steps, nplanets, 2])\n",
    "        The positions and momenta of the trajectory for each planet\n",
    "    t: int\n",
    "        The time at which the trajectory is evaluated\n",
    "    noise_level: float\n",
    "        Fractional noise added to the training, defaults to 0.05\n",
    "        \n",
    "    Returns\n",
    "    -------\n",
    "    graph_dict: dict\n",
    "        A dictionary containing globals, edges, nodes, senders and receivers\n",
    "    '''\n",
    "    nplanets = len(planets)\n",
    "    nodes, edges, senders, receivers = [], [], [], []\n",
    "    for i in range(nplanets):\n",
    "        noise_mass = np.random.normal(0, noise_level)\n",
    "        mass = planets[i].mass#*(1+noise_mass)\n",
    "        nodes.append([mass]) #Use Mercury's mass for units to normalize\n",
    "        for j in range(nplanets):\n",
    "            # I do this instead of if i != j, so the distances and forces are not duplicate, this\n",
    "            # improves the model. I am basically telling the model that F(ij)=F(ji)\n",
    "            if i > j:\n",
    "                d = xtraj[t,j,:] - xtraj[t,i,:]\n",
    "                if noise_level > 0:\n",
    "                    noise_dist = tf.random.normal([2], 0, noise_level, tf.float32) \n",
    "                    edges.append(d*(1+noise_dist))\n",
    "                else:\n",
    "                    edges.append(d)\n",
    " \n",
    "                receivers.append(i)\n",
    "                senders.append(j)\n",
    "    \n",
    "    return{\n",
    "      \"globals\": [G],\n",
    "      \"nodes\": nodes,\n",
    "      \"edges\": edges, \n",
    "      \"receivers\": receivers, \n",
    "      \"senders\": senders \n",
    "    }  "
   ]
  },
  {
   "cell_type": "markdown",
   "metadata": {},
   "source": [
    "## Integration Functions"
   ]
  },
  {
   "cell_type": "code",
   "execution_count": 4,
   "metadata": {},
   "outputs": [],
   "source": [
    "def generate_random_planets(mstar_lims = [0.9, 1.1], \n",
    "                            mplanet_lims = [0.4, 0.6],\n",
    "                            rplanet_lims = [0.4, 0.6],\n",
    "                            nplanets=1,\n",
    "                           ellipcity_noise = 0.):\n",
    " \n",
    "    star = Body()\n",
    "    star.name = 'star'\n",
    "    #star.mass = np.random.uniform(mstar_lims[0], mstar_lims[1])*MSUN/MEARTH # solar masses\n",
    "    star.mass = MSUN/MEARTH\n",
    "    \n",
    "    planets = [star]\n",
    "    total_mom = np.zeros(3)\n",
    "    total_cm = np.zeros(3)\n",
    "    \n",
    "    for i in range(nplanets):\n",
    "        planet = Body()\n",
    "        planet.name = 'planet_' + str(i)\n",
    "        planet.mass = np.random.uniform(mplanet_lims[0], mplanet_lims[1])*1e24/MEARTH # Earth masses\n",
    "        #planet.mass = mercury.mass\n",
    "        #pos_planet = pos_mercury\n",
    "        pos_planet = np.random.uniform(rplanet_lims[0], rplanet_lims[1])\n",
    "        vel_planet = get_orbital_velocity(pos_planet, planet.mass, star.mass, G, ellipcity_noise)\n",
    "        planet.initiate(pos_planet, vel_planet)\n",
    "        planets.append(planet)\n",
    "        total_mom += np.array(planet.vel)*planet.mass\n",
    "        total_cm += np.array(planet.pos)*planet.mass\n",
    "        \n",
    "    planets[0].vel = - total_mom/star.mass\n",
    "    planets[0].pos = - total_cm/star.mass\n",
    "    \n",
    "    return planets"
   ]
  },
  {
   "cell_type": "code",
   "execution_count": 5,
   "metadata": {},
   "outputs": [],
   "source": [
    "def generate_batch(planets, total_time, delta_time, batch_size, norm_factor = 1, ellipcity_noise = 0):\n",
    "    num_time_steps = int(total_time/delta_time)\n",
    "    x_traj_ls = []\n",
    "    p_traj_ls = []\n",
    "    dp_traj_ls = []\n",
    "    for i in range(batch_size):\n",
    "        if isinstance(planets[0],list): # If we are using different planet lists for each batch\n",
    "            planets_batch = deepcopy(planets[i])\n",
    "        else:\n",
    "            planets_batch = deepcopy(planets)\n",
    "        \n",
    "        total_mom = np.zeros(3)\n",
    "        total_cm = np.zeros(3)\n",
    "        for planet in planets_batch:\n",
    "            if planet.name not in ['Sun', 'star']:\n",
    "                pos_planet = np.linalg.norm(planet.pos)\n",
    "                vel_planet = get_orbital_velocity(pos_planet, \n",
    "                                                  planet.mass, \n",
    "                                                  planets_batch[0].mass, \n",
    "                                                  G, \n",
    "                                                  ellipcity_noise)\n",
    "                planet.initiate(pos_planet, vel_planet)\n",
    "                total_mom += np.array(planet.vel)*planet.mass\n",
    "                total_cm += np.array(planet.pos)*planet.mass\n",
    "        \n",
    "        planets_batch[0].vel = - total_mom/planets_batch[0].mass\n",
    "        planets_batch[0].pos = - total_cm/planets_batch[0].mass\n",
    "        \n",
    "        simulate(planets_batch, total_time, delta_time)\n",
    "        x_traj_np, p_traj_np = get_trajectory(planets_batch, int(total_time/delta_time))\n",
    "        dp_traj_np = p_traj_np[1:] - p_traj_np[:-1]\n",
    "        \n",
    "        x_traj_ls.append(x_traj_np)\n",
    "        p_traj_ls.append(p_traj_np)\n",
    "        dp_traj_ls.append(dp_traj_np/norm_factor)\n",
    "\n",
    "    x_traj = tf.convert_to_tensor(np.asarray(x_traj_ls), dtype=np.float32)\n",
    "    dp_traj = tf.convert_to_tensor(np.asarray(dp_traj_ls), dtype=np.float32)\n",
    "    p_traj = tf.convert_to_tensor(np.asarray(p_traj_ls), dtype=np.float32)\n",
    "        \n",
    "    return x_traj, dp_traj, p_traj\n"
   ]
  },
  {
   "cell_type": "code",
   "execution_count": 6,
   "metadata": {},
   "outputs": [],
   "source": [
    "def get_distances(x, input_graph):\n",
    "    '''\n",
    "    Convert positions to distances\n",
    "    '''\n",
    "    new_graph = input_graph.replace(nodes = x)\n",
    "    e1 = blocks.broadcast_sender_nodes_to_edges(new_graph)\n",
    "    e2 = blocks.broadcast_receiver_nodes_to_edges(new_graph)\n",
    "    dx = e1 - e2\n",
    "    return dx\n",
    "\n",
    "def model_gn(dx, input_graph, num_processing_steps, normalization = 1):\n",
    "    '''\n",
    "    Use the model to go from dx to dp\n",
    "    '''\n",
    "    graph = input_graph.replace(edges = dx)\n",
    "    outputs = model(graph, num_processing_steps)\n",
    "    outputs_p = get_momentum_update(outputs)\n",
    "    output = sum(outputs_p)/num_processing_steps\n",
    "    dp = output*normalization\n",
    "\n",
    "    edges = [output.edges for output in outputs]\n",
    "    forces_unnorm = sum(edges)/num_processing_steps\n",
    "    forces = forces_unnorm*normalization\n",
    "    return dp, forces\n",
    "\n",
    "def get_leapfrog_step(x0, ph, delta_time, input_graph, model, num_processing_steps, normalization = 1):\n",
    "    \n",
    "    delta_x = delta_time/input_graph.nodes\n",
    "    \n",
    "    x1 = x0 + ph*delta_x\n",
    "    \n",
    "    dx = get_distances(x0, input_graph)\n",
    "    \n",
    "    dp, force = model(dx, input_graph, num_processing_steps, normalization)\n",
    "    ph3 = ph + dp\n",
    "\n",
    "    return x1, ph3, dp, force\n",
    "\n",
    "def leapfrog_integration(x0, p0, delta_time, input_graph, num_steps, model, num_processing_steps, normalization = 1):\n",
    "    '''\n",
    "    Learn the orbit through leapfrom integration\n",
    "    '''\n",
    "    def body(i, x0, p0, x_pred, dp_pred, f_pred):\n",
    "        x, ph, dp, force =  get_leapfrog_step(\n",
    "            x0, p0, delta_time, \n",
    "            input_graph, \n",
    "            model, \n",
    "            num_processing_steps, \n",
    "            normalization)\n",
    "        return i+1, x, ph, x_pred.write(i, x), dp_pred.write(i-1, dp/normalization), f_pred.write(i-1, force)\n",
    "    \n",
    "    # Distance\n",
    "    dx = get_distances(x0, input_graph)\n",
    "\n",
    "    # Model predict*norm_p = F*dt\n",
    "    # (ph = phalf)\n",
    "    dph, fh = model(dx, input_graph, num_processing_steps, normalization)\n",
    "    ph = p0 + 0.5*dph\n",
    "    x = tf.identity(x0)\n",
    "    \n",
    "    i = 0\n",
    "\n",
    "    x_pred = tf.TensorArray(\n",
    "      dtype=tf.float32, size=num_steps, element_shape=x0.shape)\n",
    "    dp_pred = tf.TensorArray(\n",
    "      dtype=tf.float32, size=num_steps-1, element_shape=x0.shape)\n",
    "    f_pred = tf.TensorArray(\n",
    "      dtype=tf.float32, size=num_steps-1, element_shape=fh.shape)\n",
    "\n",
    "    x_pred = x_pred.write(0, x0)\n",
    "    \n",
    "    _, _, _, x_pred, dp_pred, f_pred = tf.while_loop(\n",
    "    lambda i, *unused_args: i < num_steps,\n",
    "        body,\n",
    "        loop_vars = [1, x0, ph, x_pred, dp_pred, f_pred]\n",
    "    )\n",
    "    return x_pred.stack(), dp_pred.stack(), f_pred.stack()"
   ]
  },
  {
   "cell_type": "markdown",
   "metadata": {},
   "source": [
    "# OLD"
   ]
  },
  {
   "cell_type": "code",
   "execution_count": 7,
   "metadata": {},
   "outputs": [],
   "source": [
    "def get_distances_old(x0, nplanets, as_tensor = True):\n",
    "    '''\n",
    "    Convert positions to distances\n",
    "    '''\n",
    "    dx = []\n",
    "    for i in range(nplanets):\n",
    "        for j in range(nplanets):\n",
    "            if i > j:\n",
    "                dx.append(x0[j] - x0[i])\n",
    "    \n",
    "    if as_tensor == True:\n",
    "        dx = tf.convert_to_tensor(dx, dtype=np.float32)\n",
    "    else:\n",
    "        dx = np.array(dx)\n",
    "        \n",
    "    return dx\n",
    "\n",
    "def model_gn_old(dx, num_processing_steps):\n",
    "    '''\n",
    "    Use the model to go from dx to dp\n",
    "    '''\n",
    "    graph = input_graph_test_old.replace(edges=dx)\n",
    "    outputs = model(graph, num_processing_steps)\n",
    "    outputs_p = get_momentum_update(outputs)\n",
    "    output = sum(outputs_p)/num_processing_steps\n",
    "    dp = output*np.std(dp_traj_np)\n",
    "\n",
    "    edges = [output.edges for output in outputs]\n",
    "    forces_unnorm = sum(edges)/num_processing_steps\n",
    "    forces = forces_unnorm*np.std(dp_traj_np)\n",
    "    return dp, forces\n",
    "\n",
    "def get_leapfrog_step_old(x, ph, dt, planets, model, num_processing_steps):   #(x, ph, dt, m1, m2, model):\n",
    "    '''\n",
    "    Perform a step for the leapfrog integration\n",
    "    '''\n",
    "    dtm = []\n",
    "    for planet in planets:\n",
    "        dtm.append([dt/planet.mass])\n",
    "    \n",
    "    deltax=ph*tf.convert_to_tensor(dtm,dtype = np.float32)\n",
    "    \n",
    "    x1 = x+deltax\n",
    "\n",
    "    dx = get_distances_old(x, len(planets))\n",
    "\n",
    "    dp, force = model(dx, num_processing_steps)\n",
    "    ph3 = ph + dp\n",
    "\n",
    "    return x1, ph3, dp, force\n",
    "\n",
    "def leapfrog_integration_old(x0, p0, planets,dt, num_steps, model, num_processing_steps):\n",
    "    '''\n",
    "    Learn the orbit through leapfrom integration\n",
    "    '''\n",
    "    def body(i, x0, p0, x_pred, dp_pred, f_pred):\n",
    "        x, ph, dp, force =  get_leapfrog_step_old(x0, p0, dt, planets,model, num_processing_steps)\n",
    "        return i+1, x, ph, x_pred.write(i, x), dp_pred.write(i-1, dp/np.std(dp_traj_np)), f_pred.write(i-1, force)\n",
    "    \n",
    "    # Distance\n",
    "    dx = get_distances_old(x0, len(planets))\n",
    "\n",
    "    # Model predict*norm_p = F*dt\n",
    "    # (ph = phalf)\n",
    "    dph, fh = model(dx,  num_processing_steps)\n",
    "    ph = p0 + 0.5*dph\n",
    "    x = tf.identity(x0)\n",
    "    \n",
    "    i = 0\n",
    "\n",
    "    x_pred = tf.TensorArray(\n",
    "      dtype=tf.float32, size=num_steps, element_shape=x0.shape)\n",
    "    dp_pred = tf.TensorArray(\n",
    "      dtype=tf.float32, size=num_steps-1, element_shape=x0.shape)\n",
    "    f_pred = tf.TensorArray(\n",
    "      dtype=tf.float32, size=num_steps-1, element_shape=fh.shape)\n",
    "\n",
    "    x_pred = x_pred.write(0, x0)\n",
    "    \n",
    "    _, _, _, x_pred, dp_pred, f_pred = tf.while_loop(\n",
    "    lambda i, *unused_args: i < num_steps,\n",
    "        body,\n",
    "        loop_vars = [1, x0, ph, x_pred, dp_pred, f_pred]\n",
    "    )\n",
    "    return x_pred.stack(), dp_pred.stack(), f_pred.stack()"
   ]
  },
  {
   "cell_type": "code",
   "execution_count": 8,
   "metadata": {},
   "outputs": [
    {
     "name": "stdout",
     "output_type": "stream",
     "text": [
      "WARNING:tensorflow:From /Users/Pablo/Projets/orbits/conda-env/lib/python3.7/site-packages/tensorflow_core/python/ops/array_ops.py:1475: where (from tensorflow.python.ops.array_ops) is deprecated and will be removed in a future version.\n",
      "Instructions for updating:\n",
      "Use tf.where in 2.0, which has the same broadcast rule as np.where\n"
     ]
    }
   ],
   "source": [
    "# Global constants\n",
    "DAY = 24*3600. # Day in seconds\n",
    "YEAR = 365.25*DAY #Year\n",
    "delta_time = (2/24.)*DAY/YEAR # 2 hours\n",
    "#delta_time = 0.1*DAY/YEAR # 1 hour\n",
    "\n",
    "total_time_test = 1\n",
    "num_time_steps_test = int(total_time_test/delta_time)\n",
    "\n",
    "total_time_tr = 200*delta_time\n",
    "num_time_steps_tr = int(total_time_tr/delta_time)\n",
    "\n",
    "batch_size_table = 50\n",
    "total_time_table = 200*delta_time\n",
    "num_time_steps_table = int(total_time_table/delta_time)\n",
    "\n",
    "num_processing_steps_tr = 1\n",
    "patience = 10\n",
    "batch_size = 500\n",
    "d_patience = 1e-4\n",
    "#d_patience = 0\n",
    "noise_level = 0.05\n",
    "\n",
    "# How much time between logging and printing the current results.\n",
    "log_every_iterations = 1000\n",
    "num_training_iterations = 150000\n",
    "\n",
    "sun = Body()\n",
    "sun.name = 'Sun'\n",
    "sun.mass = MSUN/MEARTH # solar masses\n",
    "sun.pos = np.zeros(3) \n",
    "\n",
    "mercury = Body()\n",
    "mercury.name = 'Mercury'\n",
    "mercury.mass = 0.33011 * 10**24/MEARTH # Earth masses\n",
    "pos_mercury = 0.387 # AU\n",
    "vel_mercury = get_orbital_velocity(pos_mercury, \n",
    "                                   mercury.mass, \n",
    "                                   sun.mass, \n",
    "                                   G,\n",
    "                                   ellipcity_noise = 0.01\n",
    "                                  )\n",
    "mercury.initiate(pos_mercury, vel_mercury)\n",
    "    \n",
    "venus = Body()\n",
    "venus.name = 'Venus'\n",
    "venus.mass = 4.8685 * 10**24/MEARTH # Earth masses\n",
    "pos_venus = 0.723 # AU\n",
    "vel_venus = get_orbital_velocity(pos_venus, \n",
    "                                 venus.mass, \n",
    "                                 sun.mass, \n",
    "                                 G,\n",
    "                                ellipcity_noise = 0.01)\n",
    "venus.initiate(pos_venus, vel_venus)\n",
    "\n",
    "earth = Body()\n",
    "earth.name = 'Earth'\n",
    "earth.mass =1. # Earth masses\n",
    "pos_earth = 1 # AU\n",
    "vel_earth = get_orbital_velocity(pos_earth, \n",
    "                                 earth.mass, \n",
    "                                 sun.mass, \n",
    "                                 G, \n",
    "                                ellipcity_noise = 0.01)\n",
    "earth.initiate(pos_earth, vel_earth)\n",
    "\n",
    "mars = Body()\n",
    "mars.name = 'Mars'\n",
    "mars.mass =0.642 * 10**24/MEARTH # Earth masses\n",
    "pos_mars = 1.52341740516 # AU\n",
    "vel_mars = get_orbital_velocity(pos_mars, \n",
    "                                 mars.mass, \n",
    "                                 sun.mass, \n",
    "                                 G, \n",
    "                                ellipcity_noise = 0.01)\n",
    "mars.initiate(pos_mars, vel_mars)\n",
    "\n",
    "\n",
    "sun.vel = -(np.array(mercury.vel)*mercury.mass + \n",
    "            np.array(venus.vel)*venus.mass +\n",
    "            np.array(earth.vel)*earth.mass #+\n",
    "            #np.array(mars.vel)*mars.mass\n",
    "            )/sun.mass\n",
    "\n",
    "# Center at zero (improves stability)\n",
    "sun.pos = -(np.array(mercury.pos)*mercury.mass + \n",
    "            np.array(venus.pos)*venus.mass +\n",
    "            np.array(earth.pos)*earth.mass #+ \n",
    "            #np.array(mars.pos)*mars.mass\n",
    "            )/sun.mass\n",
    "#sun.pos = np.zeros(3)\n",
    "\n",
    "planets = [sun, mercury, venus, earth]#, mars]\n",
    "nplanets = len(planets)\n",
    "    \n",
    "planets_gn = deepcopy(planets)\n",
    "\n",
    "simulate(planets, total_time_test, delta_time)\n",
    "\n",
    "x_traj_np, p_traj_np = get_trajectory(planets, num_time_steps_test)\n",
    "dp_traj_np = p_traj_np[1:] - p_traj_np[:-1]\n",
    "\n",
    "dp_traj_norm = tf.convert_to_tensor(\n",
    "    dp_traj_np/np.std(dp_traj_np), dtype=np.float32)\n",
    "\n",
    "p_norm = np.std(dp_traj_np)\n",
    "\n",
    "x_traj_test = tf.convert_to_tensor(x_traj_np, dtype=np.float32)\n",
    "p_traj_test = tf.convert_to_tensor(p_traj_np, dtype=np.float32)\n",
    "\n",
    "input_dict_test = get_input_graph(planets, x_traj_test, 0, noise_level = 0.0)\n",
    "\n",
    "input_graph_test = utils_tf.data_dicts_to_graphs_tuple([input_dict_test])\n",
    "input_graph_test_old = utils_tf.data_dicts_to_graphs_tuple([input_dict_test])"
   ]
  },
  {
   "cell_type": "code",
   "execution_count": 9,
   "metadata": {},
   "outputs": [],
   "source": [
    "x_traj_tr, dp_traj_tr, _ = generate_batch(\n",
    "    planets_gn, total_time_tr, delta_time, batch_size, norm_factor = p_norm, ellipcity_noise = 0.03)"
   ]
  },
  {
   "cell_type": "code",
   "execution_count": 10,
   "metadata": {},
   "outputs": [
    {
     "data": {
      "text/plain": [
       "Text(0.5, 1.0, 'Graph')"
      ]
     },
     "execution_count": 10,
     "metadata": {},
     "output_type": "execute_result"
    },
    {
     "data": {
      "image/png": "[encoded data removed]",
      "text/plain": [
       "<Figure size 216x216 with 1 Axes>"
      ]
     },
     "metadata": {},
     "output_type": "display_data"
    }
   ],
   "source": [
    "# Generate and visualize a Graph\n",
    "\n",
    "data_dict = get_input_graph(planets, x_traj_test,0)\n",
    "graphs_tuple = utils_np.data_dicts_to_graphs_tuple([data_dict])\n",
    "graphs_nx = utils_np.graphs_tuple_to_networkxs(graphs_tuple)\n",
    "\n",
    "ax = plt.figure(figsize=(3, 3)).gca()\n",
    "nx.draw(graphs_nx[0], ax=ax)\n",
    "ax.set_title(\"Graph\")"
   ]
  },
  {
   "cell_type": "code",
   "execution_count": 11,
   "metadata": {},
   "outputs": [],
   "source": [
    "graphs_tuple = utils_tf.data_dicts_to_graphs_tuple([data_dict])"
   ]
  },
  {
   "cell_type": "code",
   "execution_count": 12,
   "metadata": {},
   "outputs": [],
   "source": [
    "# Get sum over all received nodes for each body\n",
    "\n",
    "reducer = tf.unsorted_segment_sum\n",
    "t1 = blocks.ReceivedEdgesToNodesAggregator(reducer=reducer)(graphs_tuple)\n",
    "t2 = blocks.SentEdgesToNodesAggregator(reducer=reducer)(graphs_tuple)\n",
    "\n",
    "#with tf.Session() as sess:\n",
    "#    print(t.eval())\n",
    "\n",
    "#print(t1)\n",
    "#print(t2)\n",
    "#print(t1-t2)"
   ]
  },
  {
   "cell_type": "code",
   "execution_count": 13,
   "metadata": {},
   "outputs": [],
   "source": [
    "# Create the model.\n",
    "model = models.EncodeProcessDecode(node_output_size=0, edge_output_size=2, global_output_size=0)"
   ]
  },
  {
   "cell_type": "code",
   "execution_count": 14,
   "metadata": {},
   "outputs": [],
   "source": [
    "def get_momentum_update(output_ops):\n",
    "    reducer = tf.unsorted_segment_sum\n",
    "    \n",
    "    dp = []\n",
    "    for output_op in output_ops:\n",
    "        b1 = blocks.ReceivedEdgesToNodesAggregator(reducer=reducer)(output_op)\n",
    "        b2 = blocks.SentEdgesToNodesAggregator(reducer=reducer)(output_op)\n",
    "        dp.append(b1-b2)\n",
    "    '''\n",
    "    dp = [\n",
    "        blocks.ReceivedEdgesToNodesAggregator(reducer=reducer)(output_op)\n",
    "        for output_op in output_ops]\n",
    "    '''\n",
    "    return dp\n",
    "\n",
    "\n",
    "def create_loss_ops(target_op, output_ops):\n",
    "    \"\"\"Create supervised loss operations from targets and outputs.\n",
    "\n",
    "    Args:\n",
    "        target_op: The target velocity tf.Tensor.\n",
    "        output_ops: The list of output graphs from the model.\n",
    "\n",
    "    Returns:\n",
    "        A list of loss values (tf.Tensor), one per output op.\n",
    "    \"\"\"\n",
    "    loss_ops = [\n",
    "        tf.reduce_mean(\n",
    "            tf.reduce_sum((output_op - target_op)**2, axis=-1))\n",
    "        for output_op in output_ops\n",
    "    ]\n",
    "    return loss_ops"
   ]
  },
  {
   "cell_type": "code",
   "execution_count": 15,
   "metadata": {},
   "outputs": [
    {
     "name": "stdout",
     "output_type": "stream",
     "text": [
      "WARNING:tensorflow:From /Users/Pablo/Projets/orbits/conda-env/lib/python3.7/site-packages/sonnet/python/modules/basic.py:127: calling TruncatedNormal.__init__ (from tensorflow.python.ops.init_ops) with dtype is deprecated and will be removed in a future version.\n",
      "Instructions for updating:\n",
      "Call initializer instance with the dtype argument instead of passing it to the constructor\n",
      "WARNING:tensorflow:From /Users/Pablo/Projets/orbits/conda-env/lib/python3.7/site-packages/sonnet/python/modules/basic.py:132: calling Zeros.__init__ (from tensorflow.python.ops.init_ops) with dtype is deprecated and will be removed in a future version.\n",
      "Instructions for updating:\n",
      "Call initializer instance with the dtype argument instead of passing it to the constructor\n"
     ]
    }
   ],
   "source": [
    "t = tf.random_uniform([], minval=0, maxval=num_time_steps_tr - 1, dtype=tf.int32)\n",
    "input_dict_tr = []\n",
    "for i in range(batch_size):\n",
    "    input_dict_tr.append(get_input_graph(planets, x_traj_tr[i], t, noise_level = noise_level))\n",
    "    \n",
    "input_graph_tr = utils_tf.data_dicts_to_graphs_tuple(input_dict_tr)\n",
    "output_model = model(input_graph_tr, num_processing_steps_tr)\n",
    "output_ops_tr = get_momentum_update(output_model)\n",
    "target_nodes_tr = tf.reshape(dp_traj_tr[:,t], shape=[batch_size*nplanets, 2])\n",
    "\n"
   ]
  },
  {
   "cell_type": "code",
   "execution_count": 16,
   "metadata": {},
   "outputs": [],
   "source": [
    "# Integration (test)\n",
    "x0 = x_traj_test[0]\n",
    "p0 = p_traj_test[0]\n",
    "xp, pp, fp = leapfrog_integration(\n",
    "    x0, p0, \n",
    "    delta_time, \n",
    "    input_graph_test, \n",
    "    num_time_steps_test, \n",
    "    model_gn, \n",
    "    num_processing_steps_tr,\n",
    "    normalization = p_norm)\n",
    "\n",
    "loss_test = tf.reduce_mean(\n",
    "    tf.reduce_sum(\n",
    "    (pp - dp_traj_norm)**2., axis = -1\n",
    "    ))"
   ]
  },
  {
   "cell_type": "code",
   "execution_count": 17,
   "metadata": {},
   "outputs": [
    {
     "data": {
      "text/plain": [
       "'\\n# Integration (old)\\nnsteps_int = num_time_steps_test\\nx0_old = x_traj_test[0]\\np0_old = p_traj_test[0]\\nxp_old, pp_old, fp_old = leapfrog_integration_old(\\n    x0_old, p0_old, planets_gn, delta_time, nsteps_int, model_gn_old, num_processing_steps_tr)\\n\\nloss_test_old = tf.reduce_mean(\\n    tf.reduce_sum(\\n    (pp_old - dp_traj_norm[:nsteps_int-1])**2., axis = -1\\n    ))\\n'"
      ]
     },
     "execution_count": 17,
     "metadata": {},
     "output_type": "execute_result"
    }
   ],
   "source": [
    "'''\n",
    "# Integration (old)\n",
    "nsteps_int = num_time_steps_test\n",
    "x0_old = x_traj_test[0]\n",
    "p0_old = p_traj_test[0]\n",
    "xp_old, pp_old, fp_old = leapfrog_integration_old(\n",
    "    x0_old, p0_old, planets_gn, delta_time, nsteps_int, model_gn_old, num_processing_steps_tr)\n",
    "\n",
    "loss_test_old = tf.reduce_mean(\n",
    "    tf.reduce_sum(\n",
    "    (pp_old - dp_traj_norm[:nsteps_int-1])**2., axis = -1\n",
    "    ))\n",
    "'''"
   ]
  },
  {
   "cell_type": "code",
   "execution_count": 18,
   "metadata": {},
   "outputs": [],
   "source": [
    "planets_table = []\n",
    "for i in range(batch_size_table):\n",
    "    planets_table.append(generate_random_planets())\n",
    "\n",
    "batch_size_table = 3\n",
    "planets_table = [[sun,mercury],[sun,venus],[sun,earth]]\n",
    "    \n",
    "x_traj_table, dp_traj_table, p_traj_table = generate_batch(\n",
    "    planets_table, total_time_table, delta_time, batch_size_table, \n",
    "    norm_factor = p_norm, ellipcity_noise = 0.0)\n",
    "\n",
    "# Integration (table)\n",
    "input_dict_table= []\n",
    "for i in range(batch_size_table):\n",
    "    input_dict_table.append(get_input_graph(planets_table[i], x_traj_table[i], 0, noise_level = 0))\n",
    "    \n",
    "input_graph_table = utils_tf.data_dicts_to_graphs_tuple(input_dict_table)"
   ]
  },
  {
   "cell_type": "code",
   "execution_count": 19,
   "metadata": {},
   "outputs": [],
   "source": [
    "planets_flat = sum(planets_table, [])\n",
    "#get_leapfrog_step(x0, p0, delta_time, input_graph_table, model_gn, num_processing_steps_tr, p_norm)\n",
    "x0_table = tf.reshape(x_traj_table[:,0], shape=(len(planets_flat),2))\n",
    "p0_table = tf.reshape(p_traj_table[:,0], shape=(len(planets_flat),2))\n",
    "xp_table, dp_table, fp_table = leapfrog_integration(\n",
    "    x0_table, p0_table, delta_time, input_graph_table, \n",
    "    num_time_steps_table, model_gn, num_processing_steps_tr, p_norm)\n",
    "\n",
    "dp_traj_table_flat = tf.transpose(dp_traj_table, perm=[1,0,2,3])\n",
    "dp_traj_table_flat = tf.reshape(dp_traj_table_flat, shape=(num_time_steps_table-1, len(planets_flat), 2))\n",
    "\n",
    "loss_table = tf.reduce_mean(\n",
    "    tf.reduce_sum(\n",
    "    (dp_table - dp_traj_table_flat)**2., axis = -1\n",
    "    ))\n",
    "\n",
    "#xp_table = tf.reshape(xp_table, shape=x_traj_table.shape)\n",
    "#fp_table = tf.reshape(fp_table, shape=(num_time_steps_table-1, len(input_dict_table), 2))"
   ]
  },
  {
   "cell_type": "code",
   "execution_count": 20,
   "metadata": {},
   "outputs": [],
   "source": [
    "# Training loss.\n",
    "loss_ops_tr = create_loss_ops(target_nodes_tr, output_ops_tr)\n",
    "# Training loss across processing steps.\n",
    "loss_op_tr = sum(loss_ops_tr) / num_processing_steps_tr"
   ]
  },
  {
   "cell_type": "code",
   "execution_count": 21,
   "metadata": {},
   "outputs": [],
   "source": [
    "# Optimizer.\n",
    "learning_rate = 1e-5\n",
    "optimizer = tf.train.AdamOptimizer(learning_rate)\n",
    "step_op = optimizer.minimize(loss_op_tr)"
   ]
  },
  {
   "cell_type": "code",
   "execution_count": 22,
   "metadata": {},
   "outputs": [],
   "source": [
    "# This cell resets the Tensorflow session, but keeps the same computational\n",
    "# graph.\n",
    "\n",
    "try:\n",
    "    sess.close()\n",
    "except NameError:\n",
    "    pass\n",
    "sess = tf.Session()\n",
    "sess.run(tf.global_variables_initializer())\n",
    "\n",
    "nsteps_no_improvement = 0\n",
    "last_iteration = 0\n",
    "previous_loss = 0\n",
    "iterations = []\n",
    "losses_tr = []\n",
    "losses_test = []\n",
    "losses_table = []"
   ]
  },
  {
   "cell_type": "code",
   "execution_count": 23,
   "metadata": {},
   "outputs": [
    {
     "name": "stdout",
     "output_type": "stream",
     "text": [
      "# (iteration number), T (elapsed seconds), Ltr (training 1-step loss), \n",
      "# 000000, T 30.9, Ltr 5.026910, Ltest 3.189619, Ltable 1.006207\n",
      "# 001000, T 67.2, Ltr 0.722767, Ltest 1.593290, Ltable 0.927347\n",
      "# 002000, T 105.4, Ltr 0.594561, Ltest 1.531541, Ltable 0.879389\n",
      "# 003000, T 146.4, Ltr 0.517629, Ltest 1.569952, Ltable 0.852780\n",
      "# 004000, T 186.0, Ltr 0.450174, Ltest 1.503018, Ltable 0.807067\n",
      "# 005000, T 224.3, Ltr 0.362439, Ltest 1.567740, Ltable 0.850733\n",
      "# 006000, T 266.4, Ltr 0.239806, Ltest 0.941368, Ltable 1.035981\n",
      "# 007000, T 307.3, Ltr 0.137441, Ltest 1.235323, Ltable 1.262863\n",
      "# 008000, T 347.0, Ltr 0.080860, Ltest 1.212972, Ltable 1.352383\n",
      "# 009000, T 385.1, Ltr 0.059659, Ltest 1.035846, Ltable 1.346000\n",
      "# 010000, T 422.3, Ltr 0.046715, Ltest 0.861987, Ltable 1.316545\n",
      "# 011000, T 459.4, Ltr 0.033698, Ltest 0.515019, Ltable 1.266292\n",
      "# 012000, T 497.2, Ltr 0.026739, Ltest 0.428102, Ltable 1.220543\n",
      "# 013000, T 534.7, Ltr 0.023784, Ltest 0.225022, Ltable 1.201417\n",
      "# 014000, T 572.0, Ltr 0.015006, Ltest 0.232885, Ltable 1.175761\n",
      "# 015000, T 609.3, Ltr 0.012840, Ltest 0.204102, Ltable 1.179022\n",
      "# 016000, T 646.4, Ltr 0.011328, Ltest 0.143952, Ltable 1.182154\n",
      "# 017000, T 684.4, Ltr 0.008953, Ltest 0.152547, Ltable 1.185671\n",
      "# 018000, T 721.5, Ltr 0.009502, Ltest 0.162716, Ltable 1.193107\n",
      "# 019000, T 758.3, Ltr 0.007966, Ltest 0.214768, Ltable 1.192737\n",
      "# 020000, T 797.1, Ltr 0.007092, Ltest 0.182848, Ltable 1.196005\n",
      "# 021000, T 1135.6, Ltr 0.006358, Ltest 0.203480, Ltable 1.187183\n",
      "# 022000, T 3318.7, Ltr 0.005715, Ltest 0.169098, Ltable 1.186232\n",
      "# 023000, T 3382.6, Ltr 0.004740, Ltest 0.136531, Ltable 1.184508\n",
      "# 024000, T 3419.8, Ltr 0.005394, Ltest 0.156045, Ltable 1.183705\n",
      "# 025000, T 3456.0, Ltr 0.004388, Ltest 0.153253, Ltable 1.183120\n",
      "# 026000, T 3493.2, Ltr 0.004121, Ltest 0.132853, Ltable 1.183295\n",
      "# 027000, T 3530.5, Ltr 0.003731, Ltest 0.112570, Ltable 1.184100\n",
      "# 028000, T 3568.5, Ltr 0.004047, Ltest 0.119650, Ltable 1.179110\n",
      "Convergence achieved\n",
      "Iterations =  28359\n",
      "Time =  3581.6772100925446 seconds.\n",
      "Training 1-step loss =  0.003816488\n"
     ]
    }
   ],
   "source": [
    "start_time = time.time()\n",
    "last_log_time = start_time\n",
    "\n",
    "print(\"# (iteration number), T (elapsed seconds), \"\n",
    "      \"Ltr (training 1-step loss), \")\n",
    "\n",
    "for iteration in range(last_iteration, num_training_iterations):\n",
    "    last_iteration = iteration\n",
    "    train_values = sess.run({\n",
    "        \"step\": step_op,\n",
    "        \"loss\": loss_op_tr,\n",
    "        \"input_graph\": input_graph_tr,\n",
    "        \"target_nodes\": target_nodes_tr,\n",
    "        \"outputs\": output_ops_tr\n",
    "    })\n",
    "    the_time = time.time()\n",
    "    \n",
    "    if train_values[\"loss\"] >= (previous_loss - d_patience): \n",
    "        nsteps_no_improvement += 1\n",
    "    else: \n",
    "        nsteps_no_improvement = 0\n",
    "    \n",
    "    previous_loss = train_values[\"loss\"]\n",
    "        \n",
    "    if nsteps_no_improvement >= patience: \n",
    "        print('Convergence achieved')\n",
    "        print('Iterations = ', iteration)\n",
    "        print('Time = ', time.time() - start_time, 'seconds.')\n",
    "        print('Training 1-step loss = ', train_values[\"loss\"])\n",
    "        break\n",
    "    \n",
    "    if iteration%log_every_iterations == 0:\n",
    "        test_orbit = sess.run({\n",
    "            \"x_pred\": xp, \n",
    "            \"dp_pred\": pp,\n",
    "            \"f_pred\": fp, \n",
    "            \"loss\": loss_test\n",
    "        })\n",
    "        #test_orbit_old = sess.run({\n",
    "        #    \"x_pred\": xp_old, \n",
    "        #    \"f_pred\": fp_old, \n",
    "        #    \"loss\": loss_test_old\n",
    "        #})\n",
    "        table_orbit = sess.run({\n",
    "            \"x_pred\": xp_table,\n",
    "            \"dp_pred\": dp_table,\n",
    "            \"f_pred\": fp_table, \n",
    "            \"loss\": loss_table\n",
    "        })\n",
    "        last_log_time = the_time\n",
    "        elapsed = time.time() - start_time\n",
    "        iterations.append(iteration)\n",
    "        losses_tr.append(train_values[\"loss\"])\n",
    "        losses_test.append(test_orbit[\"loss\"])\n",
    "        losses_table.append(table_orbit[\"loss\"])\n",
    "        print(\n",
    "            \"# {:06d}, T {:.1f}, Ltr {:.6f}, Ltest {:.6f}, Ltable {:.6f}\".format(\n",
    "                iteration, elapsed, train_values[\"loss\"], test_orbit[\"loss\"], table_orbit[\"loss\"]))"
   ]
  },
  {
   "cell_type": "markdown",
   "metadata": {},
   "source": [
    "## Plots"
   ]
  },
  {
   "cell_type": "code",
   "execution_count": 24,
   "metadata": {},
   "outputs": [
    {
     "data": {
      "text/plain": [
       "Text(0.5, 0, 'iteration')"
      ]
     },
     "execution_count": 24,
     "metadata": {},
     "output_type": "execute_result"
    },
    {
     "data": {
      "image/png": "[encoded data removed]",
      "text/plain": [
       "<Figure size 1296x432 with 3 Axes>"
      ]
     },
     "metadata": {
      "needs_background": "light"
     },
     "output_type": "display_data"
    }
   ],
   "source": [
    "fig, axs = plt.subplots(ncols = 3, nrows = 1, figsize = (18, 6))\n",
    "\n",
    "ax = axs[0]\n",
    "ax.plot(iterations,losses_tr)\n",
    "ax.set_title('Training loss')\n",
    "ax.set_xlabel('iteration')\n",
    "ax.set_yscale('log')\n",
    "ax.set_xscale('log')\n",
    "ax.set_ylabel('Training loss')\n",
    "\n",
    "ax = axs[1]\n",
    "ax.set_title('Test loss')\n",
    "ax.plot(iterations,losses_test)\n",
    "ax.set_yscale('log')\n",
    "ax.set_xscale('log')\n",
    "ax.set_xlabel('iteration')\n",
    "ax.set_ylabel('Test loss')\n",
    "\n",
    "ax = axs[2]\n",
    "ax.set_title('Table loss')\n",
    "ax.plot(iterations,losses_table)\n",
    "ax.set_yscale('log')\n",
    "ax.set_xscale('log')\n",
    "ax.set_xlabel('iteration')\n"
   ]
  },
  {
   "cell_type": "code",
   "execution_count": 25,
   "metadata": {},
   "outputs": [],
   "source": [
    "# Get prediction as numpy array\n",
    "x_pred = test_orbit[\"x_pred\"]\n",
    "#p_pred = test_orbit[\"p_pred\"]\n",
    "f_pred = test_orbit[\"f_pred\"]"
   ]
  },
  {
   "cell_type": "code",
   "execution_count": 26,
   "metadata": {},
   "outputs": [
    {
     "data": {
      "image/png": "[encoded data removed]",
      "text/plain": [
       "<Figure size 2880x720 with 4 Axes>"
      ]
     },
     "metadata": {
      "needs_background": "light"
     },
     "output_type": "display_data"
    }
   ],
   "source": [
    "nsteps_plot = 365*12\n",
    "plt.rcParams.update({'font.size': 30})\n",
    "fig, axs =plt.subplots(nrows = 1, ncols = len(planets), figsize = (10*len(planets), 10))\n",
    "\n",
    "periods = np.array([225, 88, 225, 1000, 1500])\n",
    "factor = 10*periods\n",
    "\n",
    "axs[0].set_ylabel('Y [km]')\n",
    "for i in range(len(planets)):\n",
    "    ax = axs[i]\n",
    "    \n",
    "    shift = x_traj_np[:,i,0].max()/factor[i]*np.arange(nsteps_plot)\n",
    "\n",
    "    ax.set_title(planets[i].name, fontsize = 32)\n",
    "    ax.scatter(x_traj_np[:nsteps_plot,i,0]+shift, x_traj_np[:nsteps_plot,i,1]+shift, label='Truth')\n",
    "    ax.scatter(x_pred[:nsteps_plot,i,0]+shift, x_pred[:nsteps_plot,i,1]+shift, label='Prediction')\n",
    "    ax.set_xlabel('X [km]')\n",
    "\n",
    "plt.legend();\n",
    "    \n",
    "#plt.savefig('/Users/Pablo/Desktop/orbits')"
   ]
  },
  {
   "cell_type": "code",
   "execution_count": 27,
   "metadata": {},
   "outputs": [
    {
     "data": {
      "text/plain": [
       "<matplotlib.collections.PathCollection at 0x156286fd0>"
      ]
     },
     "execution_count": 27,
     "metadata": {},
     "output_type": "execute_result"
    },
    {
     "data": {
      "image/png": "[encoded data removed]",
      "text/plain": [
       "<Figure size 432x288 with 1 Axes>"
      ]
     },
     "metadata": {
      "needs_background": "light"
     },
     "output_type": "display_data"
    }
   ],
   "source": [
    "plt.scatter(x_traj_np[:nsteps_plot,0,0], x_traj_np[:nsteps_plot,0,1])"
   ]
  },
  {
   "cell_type": "code",
   "execution_count": 28,
   "metadata": {},
   "outputs": [
    {
     "data": {
      "text/plain": [
       "[<matplotlib.lines.Line2D at 0x1562d6d50>]"
      ]
     },
     "execution_count": 28,
     "metadata": {},
     "output_type": "execute_result"
    },
    {
     "data": {
      "image/png": "[encoded data removed]",
      "text/plain": [
       "<Figure size 432x288 with 1 Axes>"
      ]
     },
     "metadata": {
      "needs_background": "light"
     },
     "output_type": "display_data"
    }
   ],
   "source": [
    "plt.plot(x_traj_np[:nsteps_plot,0,1])"
   ]
  },
  {
   "cell_type": "code",
   "execution_count": 29,
   "metadata": {},
   "outputs": [
    {
     "ename": "IndexError",
     "evalue": "index 4382 is out of bounds for axis 0 with size 4382",
     "output_type": "error",
     "traceback": [
      "\u001b[0;31m---------------------------------------------------------------------------\u001b[0m",
      "\u001b[0;31mIndexError\u001b[0m                                Traceback (most recent call last)",
      "\u001b[0;32m<ipython-input-29-b27fc24528e5>\u001b[0m in \u001b[0;36m<module>\u001b[0;34m\u001b[0m\n\u001b[1;32m     19\u001b[0m         \u001b[0mind\u001b[0m \u001b[0;34m=\u001b[0m \u001b[0morder\u001b[0m\u001b[0;34m[\u001b[0m\u001b[0mj\u001b[0m\u001b[0;34m]\u001b[0m\u001b[0;34m\u001b[0m\u001b[0;34m\u001b[0m\u001b[0m\n\u001b[1;32m     20\u001b[0m         \u001b[0;31m#print([planets[ind[0]].mass, planets[ind[1]].mass], dx[j], np.linalg.norm(dx[j]), f_pred[i, j])\u001b[0m\u001b[0;34m\u001b[0m\u001b[0;34m\u001b[0m\u001b[0;34m\u001b[0m\u001b[0m\n\u001b[0;32m---> 21\u001b[0;31m         \u001b[0mtable\u001b[0m\u001b[0;34m[\u001b[0m\u001b[0mit\u001b[0m\u001b[0;34m]\u001b[0m \u001b[0;34m=\u001b[0m \u001b[0mnp\u001b[0m\u001b[0;34m.\u001b[0m\u001b[0mconcatenate\u001b[0m\u001b[0;34m(\u001b[0m\u001b[0;34m[\u001b[0m\u001b[0;34m[\u001b[0m\u001b[0mplanets\u001b[0m\u001b[0;34m[\u001b[0m\u001b[0mind\u001b[0m\u001b[0;34m[\u001b[0m\u001b[0;36m0\u001b[0m\u001b[0;34m]\u001b[0m\u001b[0;34m]\u001b[0m\u001b[0;34m.\u001b[0m\u001b[0mmass\u001b[0m\u001b[0;34m,\u001b[0m \u001b[0mplanets\u001b[0m\u001b[0;34m[\u001b[0m\u001b[0mind\u001b[0m\u001b[0;34m[\u001b[0m\u001b[0;36m1\u001b[0m\u001b[0;34m]\u001b[0m\u001b[0;34m]\u001b[0m\u001b[0;34m.\u001b[0m\u001b[0mmass\u001b[0m\u001b[0;34m]\u001b[0m\u001b[0;34m,\u001b[0m \u001b[0mux\u001b[0m\u001b[0;34m[\u001b[0m\u001b[0mj\u001b[0m\u001b[0;34m]\u001b[0m\u001b[0;34m,\u001b[0m \u001b[0;34m[\u001b[0m\u001b[0mnp\u001b[0m\u001b[0;34m.\u001b[0m\u001b[0mlinalg\u001b[0m\u001b[0;34m.\u001b[0m\u001b[0mnorm\u001b[0m\u001b[0;34m(\u001b[0m\u001b[0mdx\u001b[0m\u001b[0;34m[\u001b[0m\u001b[0mj\u001b[0m\u001b[0;34m]\u001b[0m\u001b[0;34m)\u001b[0m\u001b[0;34m]\u001b[0m\u001b[0;34m,\u001b[0m \u001b[0mf_pred\u001b[0m\u001b[0;34m[\u001b[0m\u001b[0mi\u001b[0m\u001b[0;34m,\u001b[0m \u001b[0mj\u001b[0m\u001b[0;34m]\u001b[0m\u001b[0;34m/\u001b[0m\u001b[0mdelta_time\u001b[0m\u001b[0;34m]\u001b[0m\u001b[0;34m)\u001b[0m\u001b[0;34m\u001b[0m\u001b[0;34m\u001b[0m\u001b[0m\n\u001b[0m\u001b[1;32m     22\u001b[0m         \u001b[0mit\u001b[0m\u001b[0;34m+=\u001b[0m\u001b[0;36m1\u001b[0m\u001b[0;34m\u001b[0m\u001b[0;34m\u001b[0m\u001b[0m\n\u001b[1;32m     23\u001b[0m \u001b[0;34m\u001b[0m\u001b[0m\n",
      "\u001b[0;31mIndexError\u001b[0m: index 4382 is out of bounds for axis 0 with size 4382"
     ]
    }
   ],
   "source": [
    "nplanets = len(planets_gn)\n",
    "nforce = len(f_pred[0])\n",
    "order = [[0,1], [0,2], [1,2], [0,3], [1,3], [2,3]]\n",
    "#order = [[0,1], [0,2], [1,2]]\n",
    "\n",
    "masses_arr = np.zeros([nplanets, 1])\n",
    "for i in range(nplanets):\n",
    "    masses_arr[i] = planets_gn[i].mass\n",
    "\n",
    "nsteps_table = 5000\n",
    "\n",
    "table = np.zeros([nsteps_table*len(f_pred[0]), 7])\n",
    "it = 0\n",
    "for i in range(nsteps_table):\n",
    "    x = x_pred[i]\n",
    "    dx = get_distances_old(x, nplanets, as_tensor=False)\n",
    "    ux = dx/np.linalg.norm(dx, axis = 1, keepdims=True)\n",
    "    for j in range(nforce):\n",
    "        ind = order[j]\n",
    "        #print([planets[ind[0]].mass, planets[ind[1]].mass], dx[j], np.linalg.norm(dx[j]), f_pred[i, j])\n",
    "        table[it] = np.concatenate([[planets[ind[0]].mass, planets[ind[1]].mass], ux[j], [np.linalg.norm(dx[j])], f_pred[i, j]/delta_time])\n",
    "        it+=1\n",
    "    \n",
    "    #table[i] =  np.concatenate([masses_arr, dx, f_pred[i]], axis = 1)"
   ]
  },
  {
   "cell_type": "code",
   "execution_count": null,
   "metadata": {},
   "outputs": [],
   "source": [
    "np.savetxt('/Users/Pablo/Desktop/orbits.txt', table)"
   ]
  },
  {
   "cell_type": "code",
   "execution_count": null,
   "metadata": {},
   "outputs": [],
   "source": [
    "table"
   ]
  },
  {
   "cell_type": "code",
   "execution_count": null,
   "metadata": {},
   "outputs": [],
   "source": [
    "np.linalg.norm([-0.9890098 ,  0.14784959])"
   ]
  },
  {
   "cell_type": "code",
   "execution_count": null,
   "metadata": {},
   "outputs": [],
   "source": [
    "nplanets = len(planets_gn)\n",
    "nforce = len(f_pred[0])\n",
    "order = [[0,1], [0,2], [1,2], [0,3], [1,3], [2,3]]\n",
    "#order = [[0,1], [0,2], [1,2]]\n",
    "\n",
    "masses_arr = np.zeros([nplanets, 1])\n",
    "for i in range(nplanets):\n",
    "    masses_arr[i] = planets_gn[i].mass\n",
    "\n",
    "nsteps_table = 4000\n",
    "\n",
    "table = np.zeros([int(nsteps_table*len(f_pred[0])/2), 7])\n",
    "it = 0\n",
    "for i in range(nsteps_table):\n",
    "    x = x_pred[i]\n",
    "    dx = get_distances_old(x, nplanets, as_tensor=False)\n",
    "    #ux = dx/np.linalg.norm(dx, axis = 1, keepdims=True)\n",
    "    for j in range(nforce):\n",
    "        if j in [0,1,3]: #Keep only interactions between sun and planets\n",
    "            #All in units of solar mass, AU, year\n",
    "            ind = order[j]\n",
    "            table[it] = np.concatenate([[\n",
    "                planets[ind[0]].mass, planets[ind[1]].mass], \n",
    "                dx[j], \n",
    "                [np.linalg.norm(dx[j])], \n",
    "                f_pred[i, j]/delta_time])\n",
    "            it+=1\n",
    "\n",
    "table = table[:it]\n"
   ]
  },
  {
   "cell_type": "markdown",
   "metadata": {},
   "source": [
    "# DEBUG"
   ]
  },
  {
   "cell_type": "code",
   "execution_count": null,
   "metadata": {},
   "outputs": [],
   "source": [
    "xpt = table_orbit[\"x_pred\"]\n",
    "ppt = table_orbit[\"dp_pred\"]"
   ]
  },
  {
   "cell_type": "code",
   "execution_count": null,
   "metadata": {},
   "outputs": [],
   "source": [
    "xtable_true = x_traj_table.eval(session=sess)\n",
    "xtr_true = x_traj_tr.eval(session=sess)\n",
    "dptable_true = dp_traj_table.eval(session=sess)"
   ]
  },
  {
   "cell_type": "code",
   "execution_count": null,
   "metadata": {},
   "outputs": [],
   "source": [
    "xtable_true.shape"
   ]
  },
  {
   "cell_type": "code",
   "execution_count": null,
   "metadata": {},
   "outputs": [],
   "source": [
    "i = 1\n",
    "plt.scatter(xtr_true[i,:,0,0], xtr_true[i,:,0,1])\n",
    "plt.scatter(xtr_true[i,:,1,0], xtr_true[i,:,1,1])"
   ]
  },
  {
   "cell_type": "code",
   "execution_count": null,
   "metadata": {},
   "outputs": [],
   "source": [
    "i =0\n",
    "#plt.scatter(xtable_true[i,:,0,0], xtable_true[i,:,0,1])\n",
    "#plt.scatter(xtable_true[i,:,1,0], xtable_true[i,:,1,1])\n",
    "plt.scatter(xpt[:,2*i+1, 0], xpt[:,2*i+1, 1])\n",
    "plt.scatter(xpt[:,2*i, 0], xpt[:,2*i, 1])"
   ]
  },
  {
   "cell_type": "code",
   "execution_count": null,
   "metadata": {},
   "outputs": [],
   "source": [
    "i =0\n",
    "plt.scatter(dptable_true[i,:,0,0], dptable_true[i,:,0,1])\n",
    "plt.scatter(dptable_true[i,:,1,0], dptable_true[i,:,1,1])\n",
    "plt.scatter(ppt[:,2*i+1, 0], ppt[:,2*i+1, 1])"
   ]
  },
  {
   "cell_type": "code",
   "execution_count": null,
   "metadata": {},
   "outputs": [],
   "source": [
    "i=0\n",
    "plt.scatter(ppt[:,2*i, 0], ppt[:,2*i, 1])\n",
    "plt.scatter(ppt[:,2*i+1, 0], ppt[:,2*i+1, 1])"
   ]
  },
  {
   "cell_type": "code",
   "execution_count": null,
   "metadata": {},
   "outputs": [],
   "source": [
    "dpt_pred = dp_table.eval(session=sess)"
   ]
  },
  {
   "cell_type": "code",
   "execution_count": null,
   "metadata": {},
   "outputs": [],
   "source": [
    "dpt_true = dp_traj_table.eval(session=sess)"
   ]
  },
  {
   "cell_type": "code",
   "execution_count": null,
   "metadata": {},
   "outputs": [],
   "source": [
    "dpt_pred.shape"
   ]
  },
  {
   "cell_type": "code",
   "execution_count": null,
   "metadata": {},
   "outputs": [],
   "source": [
    "dpt_true.shape"
   ]
  },
  {
   "cell_type": "code",
   "execution_count": null,
   "metadata": {},
   "outputs": [],
   "source": [
    "i=0\n",
    "plt.scatter(dpt_true[i,:,0,0], dpt_true[i,:,0,1])\n",
    "plt.scatter(dpt_true[i,:,1,0], dpt_true[i,:,1,1])\n",
    "plt.scatter(dpt_pred[:,2*i,0], dpt_pred[:,2*i,1])\n",
    "plt.scatter(dpt_pred[:,2*i+1,0], dpt_pred[:,2*i+ 1,1])"
   ]
  },
  {
   "cell_type": "code",
   "execution_count": null,
   "metadata": {},
   "outputs": [],
   "source": [
    "i=0\n",
    "plt.scatter(dpt_pred[:,2*i,0], dpt_pred[:,2*i,1])\n",
    "plt.scatter(dpt_pred[:,2*i+1,0], dpt_pred[:,2*i+ 1,1])"
   ]
  },
  {
   "cell_type": "code",
   "execution_count": null,
   "metadata": {},
   "outputs": [],
   "source": [
    "x_pred.shape"
   ]
  },
  {
   "cell_type": "code",
   "execution_count": null,
   "metadata": {},
   "outputs": [],
   "source": [
    "plt.scatter(f_pred[:,0,0], f_pred[:,0,1])\n",
    "plt.scatter(f_pred[:,1,0], f_pred[:,1,1])\n",
    "#plt.scatter(f_pred[:2000,2,0], f_pred[:2000,2,1])\n",
    "plt.scatter(f_pred[:,3,0], f_pred[:,3,1])\n",
    "#plt.scatter(f_pred[:2000,4,0], f_pred[:2000,4,1])\n",
    "#plt.scatter(f_pred[:2000,5,0], f_pred[:2000,5,1])"
   ]
  },
  {
   "cell_type": "code",
   "execution_count": null,
   "metadata": {},
   "outputs": [],
   "source": [
    "plt.scatter(f_pred[:2000,2,0], f_pred[:2000,2,1])\n",
    "plt.scatter(f_pred[:2000,4,0], f_pred[:2000,4,1])\n",
    "plt.scatter(f_pred[:2000,5,0], f_pred[:2000,5,1])"
   ]
  },
  {
   "cell_type": "code",
   "execution_count": null,
   "metadata": {},
   "outputs": [],
   "source": [
    "plt.scatter(x_pred[:2000,0,0], x_pred[:2000,0,1])\n",
    "plt.scatter(x_pred[:2000,1,0], x_pred[:2000,1,1])\n",
    "plt.scatter(x_pred[:2000,2,0], x_pred[:2000,2,1])\n",
    "plt.scatter(x_pred[:2000,3,0], x_pred[:2000,3,1])"
   ]
  },
  {
   "cell_type": "code",
   "execution_count": null,
   "metadata": {},
   "outputs": [],
   "source": [
    "dp_traj_np.shape"
   ]
  },
  {
   "cell_type": "code",
   "execution_count": null,
   "metadata": {},
   "outputs": [],
   "source": [
    "plt.scatter(dp_traj_np[:,0,0], dp_traj_np[:,0,1], label='Sun')\n",
    "plt.scatter(dp_traj_np[:,1,0], dp_traj_np[:,1,1], label='Mercury')\n",
    "plt.scatter(dp_traj_np[:,2,0], dp_traj_np[:,2,1], label='Venus')\n",
    "plt.scatter(dp_traj_np[:,3,0], dp_traj_np[:,3,1], label='Earth')\n",
    "#plt.legend()"
   ]
  },
  {
   "cell_type": "code",
   "execution_count": null,
   "metadata": {},
   "outputs": [],
   "source": [
    "plt.scatter(p_traj_np[:2000,0,0], p_traj_np[:2000,0,1])\n",
    "plt.scatter(p_traj_np[:2000,1,0], p_traj_np[:2000,1,1])\n",
    "0plt.scatter(p_traj_np[:2000,2,0], p_traj_np[:2000,2,1])\n",
    "plt.scatter(p_traj_np[:2000,3,0], p_traj_np[:2000,3,1])"
   ]
  },
  {
   "cell_type": "code",
   "execution_count": null,
   "metadata": {},
   "outputs": [],
   "source": [
    "plt.scatter(p_traj_np[:,0,0], p_traj_np[:,0,1])"
   ]
  },
  {
   "cell_type": "code",
   "execution_count": null,
   "metadata": {},
   "outputs": [],
   "source": [
    "dx = x_traj_np[:,2] - x_traj_np[:,0]\n",
    "d = np.linalg.norm(dx, keepdims=True,axis=-1)\n",
    "fvenus = G*venus.mass*sun.mass*dx/d**3*delta_time\n",
    "plt.scatter(f_pred[:,3,0],f_pred[:,3,1])\n",
    "plt.scatter(fvenus[:,0],fvenus[:,1])"
   ]
  },
  {
   "cell_type": "code",
   "execution_count": null,
   "metadata": {},
   "outputs": [],
   "source": [
    "dx = x_traj_np[:,2] - x_traj_np[:,0]\n",
    "d = np.linalg.norm(dx, keepdims=True,axis=-1)\n",
    "fvenus = G*venus.mass*sun.mass*dx/d**3*delta_time\n",
    "plt.scatter(f_pred[:,1,0],f_pred[:,1,1])\n",
    "plt.scatter(fvenus[:,0],fvenus[:,1])"
   ]
  },
  {
   "cell_type": "code",
   "execution_count": null,
   "metadata": {},
   "outputs": [],
   "source": [
    "dx = x_traj_np[:,1] - x_traj_np[:,0]\n",
    "d = np.linalg.norm(dx, keepdims=True,axis=-1)\n",
    "fmercury = G*mercury.mass*sun.mass*dx/d**3*delta_time\n",
    "plt.scatter(f_pred[:,0,0],f_pred[:,0,1])\n",
    "plt.scatter(fmercury[:,0],fmercury[:,1])"
   ]
  },
  {
   "cell_type": "code",
   "execution_count": null,
   "metadata": {},
   "outputs": [],
   "source": [
    "dx = x_traj_np[:,3] - x_traj_np[:,0]\n",
    "d = np.linalg.norm(dx, keepdims=True,axis=-1)\n",
    "fearth = G*earth.mass*sun.mass*dx/d**3*delta_time\n",
    "plt.scatter(f_pred[:,3,0],f_pred[:,3,1])\n",
    "plt.scatter(fearth[:,0],fearth[:,1])"
   ]
  },
  {
   "cell_type": "code",
   "execution_count": null,
   "metadata": {},
   "outputs": [],
   "source": []
  }
 ],
 "metadata": {
  "kernelspec": {
   "display_name": "Python [conda env:conda-env] *",
   "language": "python",
   "name": "conda-env-conda-env-py"
  },
  "language_info": {
   "codemirror_mode": {
    "name": "ipython",
    "version": 3
   },
   "file_extension": ".py",
   "mimetype": "text/x-python",
   "name": "python",
   "nbconvert_exporter": "python",
   "pygments_lexer": "ipython3",
   "version": "3.7.6"
  }
 },
 "nbformat": 4,
 "nbformat_minor": 2
}
