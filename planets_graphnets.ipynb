{
 "cells": [
  {
   "cell_type": "code",
   "execution_count": 1,
   "metadata": {},
   "outputs": [],
   "source": [
    "import time\n",
    "import sys\n",
    "\n",
    "from graph_nets import blocks\n",
    "from graph_nets import utils_np\n",
    "from graph_nets import utils_tf\n",
    "from graph_nets.demos import models\n",
    "from matplotlib import pyplot as plt\n",
    "from simulate_orbits import *\n",
    "import numpy as np\n",
    "from copy import deepcopy\n",
    "\n",
    "import random as rand\n",
    "\n",
    "import graph_nets as gn\n",
    "import sonnet as snt\n",
    "import tensorflow as tf\n",
    "import networkx as nx\n",
    "\n",
    "# For debugging only\n",
    "#tf.compat.v1.enable_eager_execution()"
   ]
  },
  {
   "cell_type": "code",
   "execution_count": 2,
   "metadata": {},
   "outputs": [],
   "source": [
    "def get_orbital_velocity(radius, mass_planet, mass_star, G, ellipcity_noise = 0):\n",
    "    \"\"\"Calculate the velocity required to keep an orbit\n",
    "\n",
    "    Parameters\n",
    "    ---------- \n",
    "    radius : float\n",
    "      the radial distance from the body to the center of the orbit\n",
    "    mass_planet : float\n",
    "      mass of the planet orbiting\n",
    "    mass_star : float\n",
    "      mass of the body at the center of the orbit\n",
    "    G : float \n",
    "      Gravitational Constant\n",
    "    noise: float\n",
    "      The maximum fractional amount by which the initial velocity is perturbed. \n",
    "      Defaults to zero\n",
    "\n",
    "    Returns\n",
    "    ---------- \n",
    "    velocity : float\n",
    "      the orbital velocity\n",
    "\n",
    "    \"\"\"\n",
    "\n",
    "    velocity = np.sqrt(G*mass_star/radius)\n",
    "\n",
    "    # Add noise\n",
    "    if ellipcity_noise > 0:\n",
    "        delta_vel = np.random.normal(0, ellipcity_noise, size = np.shape(velocity))\n",
    "        #delta_vel = rand.uniform(*(-ellipcity_noise,ellipcity_noise), size = np.shape(velocity))\n",
    "        velocity *= (1.+delta_vel)\n",
    "\n",
    "    return np.array(velocity)\n",
    "\n",
    "def get_trajectory(planets, num_time_steps):\n",
    "    '''\n",
    "    Calculate real trajectory using Euler integration\n",
    "    \n",
    "    Parameters\n",
    "    ----------\n",
    "    planets : ls\n",
    "        A list of planets using the Body class\n",
    "    num_time_steps : float\n",
    "        The number of integration steps    \n",
    "      \n",
    "    Returns\n",
    "    -------\n",
    "    x_traj, p_traj: np.array([num_time_steps, nplanets, 2])\n",
    "        The positions and momenta of the trajectory for each planet\n",
    "    '''\n",
    "    \n",
    "    nplanets = len(planets)\n",
    "    x_traj = np.zeros([num_time_steps, nplanets, 2])\n",
    "    p_traj = np.zeros([num_time_steps, nplanets, 2])\n",
    "    for i in range(num_time_steps):\n",
    "        pos = []\n",
    "        mom = []\n",
    "        for planet in planets:\n",
    "            pos.append(planet.orbit[i][0:2])\n",
    "            mom.append(planet.orbit[i][3:5]*planet.mass)\n",
    "        \n",
    "        x_traj[i] = np.array(pos) #km\n",
    "        p_traj[i] = np.array(mom)#km/s\n",
    "\n",
    "    return x_traj, p_traj"
   ]
  },
  {
   "cell_type": "code",
   "execution_count": 3,
   "metadata": {},
   "outputs": [],
   "source": [
    "def get_input_graph(planets, xtraj, t, noise_level = 0.05):\n",
    "    '''\n",
    "    Convert a given time into a GraphNets graph that can be used to train a model\n",
    "    \n",
    "    Parameters\n",
    "    ----------\n",
    "    planets : ls\n",
    "        A list of planets using the Body class\n",
    "    xtraj: np.array([num_time_steps, nplanets, 2])\n",
    "        The positions and momenta of the trajectory for each planet\n",
    "    t: int\n",
    "        The time at which the trajectory is evaluated\n",
    "    noise_level: float\n",
    "        Fractional noise added to the training, defaults to 0.05\n",
    "        \n",
    "    Returns\n",
    "    -------\n",
    "    graph_dict: dict\n",
    "        A dictionary containing globals, edges, nodes, senders and receivers\n",
    "    '''\n",
    "    nplanets = len(planets)\n",
    "    nodes, edges, senders, receivers = [], [], [], []\n",
    "    for i in range(nplanets):\n",
    "        noise_mass = np.random.normal(0, noise_level)\n",
    "        mass = planets[i].mass#*(1+noise_mass)\n",
    "        nodes.append([mass]) #Use Mercury's mass for units to normalize\n",
    "        for j in range(nplanets):\n",
    "            # I do this instead of if i != j, so the distances and forces are not duplicate, this\n",
    "            # improves the model. I am basically telling the model that F(ij)=F(ji)\n",
    "            if i > j:\n",
    "                d = xtraj[t,j,:] - xtraj[t,i,:]\n",
    "                if noise_level > 0:\n",
    "                    noise_dist = tf.random.normal([2], 0, noise_level, tf.float32) \n",
    "                    edges.append(d*(1+noise_dist))\n",
    "                else:\n",
    "                    edges.append(d)\n",
    " \n",
    "                receivers.append(i)\n",
    "                senders.append(j)\n",
    "    \n",
    "    return{\n",
    "      \"globals\": [G],\n",
    "      \"nodes\": nodes,\n",
    "      \"edges\": edges, \n",
    "      \"receivers\": receivers, \n",
    "      \"senders\": senders \n",
    "    }  "
   ]
  },
  {
   "cell_type": "markdown",
   "metadata": {},
   "source": [
    "## Integration Functions"
   ]
  },
  {
   "cell_type": "code",
   "execution_count": 4,
   "metadata": {},
   "outputs": [],
   "source": [
    "def generate_random_planets(mstar_lims = [0.9, 1.1], \n",
    "                            mplanet_lims = [0.4, 5],\n",
    "                            rplanet_lims = [0.4, 1],\n",
    "                            nplanets=1,\n",
    "                           ellipcity_noise = 0.):\n",
    " \n",
    "    star = Body()\n",
    "    star.name = 'star'\n",
    "    star.mass = np.random.uniform(mstar_lims[0], mstar_lims[1]) # solar masses\n",
    "    #star.mass = 1\n",
    "    \n",
    "    planets = [star]\n",
    "    total_mom = np.zeros(3)\n",
    "    total_cm = np.zeros(3)\n",
    "    \n",
    "    for i in range(nplanets):\n",
    "        planet = Body()\n",
    "        planet.name = 'planet_' + str(i)\n",
    "        planet.mass = np.random.uniform(mplanet_lims[0], mplanet_lims[1])*1e24/MSUN # solar masses\n",
    "        #planet.mass = mercury.mass\n",
    "        #pos_planet = pos_mercury\n",
    "        pos_planet = np.random.uniform(rplanet_lims[0], rplanet_lims[1])\n",
    "        vel_planet = get_orbital_velocity(pos_planet, planet.mass, star.mass, G, ellipcity_noise)\n",
    "        planet.initiate(pos_planet, vel_planet)\n",
    "        planets.append(planet)\n",
    "        total_mom += np.array(planet.vel)*planet.mass\n",
    "        total_cm += np.array(planet.pos)*planet.mass\n",
    "        \n",
    "    planets[0].vel = - total_mom/star.mass\n",
    "    planets[0].pos = - total_cm/star.mass\n",
    "    \n",
    "    return planets"
   ]
  },
  {
   "cell_type": "code",
   "execution_count": 5,
   "metadata": {},
   "outputs": [],
   "source": [
    "def generate_batch(planets, total_time, delta_time, batch_size, norm_factor = 1, ellipcity_noise = 0):\n",
    "    num_time_steps = int(total_time/delta_time)\n",
    "    x_traj_ls = []\n",
    "    p_traj_ls = []\n",
    "    dp_traj_ls = []\n",
    "    for i in range(batch_size):\n",
    "        if isinstance(planets[0],list): # If we are using different planet lists for each batch\n",
    "            planets_batch = deepcopy(planets[i])\n",
    "        else:\n",
    "            planets_batch = deepcopy(planets)\n",
    "        for planet in planets_batch:\n",
    "            if planet.name not in ['Sun', 'star']:\n",
    "                pos_planet = np.linalg.norm(planet.pos)\n",
    "                vel_planet = get_orbital_velocity(pos_planet, \n",
    "                                                  planet.mass, \n",
    "                                                  planets_batch[0].mass, \n",
    "                                                  G, \n",
    "                                                  ellipcity_noise)\n",
    "                planet.initiate(pos_planet, vel_planet)\n",
    "        \n",
    "        simulate(planets_batch, total_time, delta_time)\n",
    "        x_traj_np, p_traj_np = get_trajectory(planets_batch, int(total_time/delta_time))\n",
    "        dp_traj_np = p_traj_np[1:] - p_traj_np[:-1]\n",
    "        \n",
    "        x_traj_ls.append(x_traj_np)\n",
    "        p_traj_ls.append(p_traj_np)\n",
    "        dp_traj_ls.append(dp_traj_np/norm_factor)\n",
    "\n",
    "    x_traj = tf.convert_to_tensor(np.asarray(x_traj_ls), dtype=np.float32)\n",
    "    dp_traj = tf.convert_to_tensor(np.asarray(dp_traj_ls), dtype=np.float32)\n",
    "    p_traj = tf.convert_to_tensor(np.asarray(p_traj_ls), dtype=np.float32)\n",
    "        \n",
    "    return x_traj, dp_traj, p_traj\n"
   ]
  },
  {
   "cell_type": "code",
   "execution_count": 6,
   "metadata": {},
   "outputs": [],
   "source": [
    "def get_distances(x, input_graph):\n",
    "    '''\n",
    "    Convert positions to distances\n",
    "    '''\n",
    "    new_graph = input_graph.replace(nodes = x)\n",
    "    e1 = blocks.broadcast_sender_nodes_to_edges(new_graph)\n",
    "    e2 = blocks.broadcast_receiver_nodes_to_edges(new_graph)\n",
    "    dx = e1 - e2\n",
    "    return dx\n",
    "\n",
    "def model_gn(dx, input_graph, num_processing_steps, normalization = 1):\n",
    "    '''\n",
    "    Use the model to go from dx to dp\n",
    "    '''\n",
    "    graph = input_graph.replace(edges = dx)\n",
    "    outputs = model(graph, num_processing_steps)\n",
    "    outputs_p = get_momentum_update(outputs)\n",
    "    output = sum(outputs_p)/num_processing_steps\n",
    "    dp = output*normalization\n",
    "\n",
    "    edges = [output.edges for output in outputs]\n",
    "    forces_unnorm = sum(edges)/num_processing_steps\n",
    "    forces = forces_unnorm*normalization\n",
    "    return dp, forces\n",
    "\n",
    "def get_leapfrog_step(x0, ph, delta_time, input_graph, model, num_processing_steps, normalization = 1):\n",
    "    \n",
    "    delta_x = delta_time/input_graph.nodes\n",
    "    \n",
    "    x1 = x0 + ph*delta_x\n",
    "    \n",
    "    dx = get_distances(x0, input_graph)\n",
    "    \n",
    "    dp, force = model(dx, input_graph, num_processing_steps, normalization)\n",
    "    ph3 = ph + dp\n",
    "\n",
    "    return x1, ph3, dp, force\n",
    "\n",
    "def leapfrog_integration(x0, p0, delta_time, input_graph, num_steps, model, num_processing_steps, normalization = 1):\n",
    "    '''\n",
    "    Learn the orbit through leapfrom integration\n",
    "    '''\n",
    "    def body(i, x0, p0, x_pred, dp_pred, f_pred):\n",
    "        x, ph, dp, force =  get_leapfrog_step(\n",
    "            x0, p0, delta_time, \n",
    "            input_graph, \n",
    "            model, \n",
    "            num_processing_steps, \n",
    "            normalization)\n",
    "        return i+1, x, ph, x_pred.write(i, x), dp_pred.write(i-1, dp/normalization), f_pred.write(i-1, force)\n",
    "    \n",
    "    # Distance\n",
    "    dx = get_distances(x0, input_graph)\n",
    "\n",
    "    # Model predict*norm_p = F*dt\n",
    "    # (ph = phalf)\n",
    "    dph, fh = model(dx, input_graph, num_processing_steps, normalization)\n",
    "    ph = p0 + 0.5*dph\n",
    "    x = tf.identity(x0)\n",
    "    \n",
    "    i = 0\n",
    "\n",
    "    x_pred = tf.TensorArray(\n",
    "      dtype=tf.float32, size=num_steps, element_shape=x0.shape)\n",
    "    dp_pred = tf.TensorArray(\n",
    "      dtype=tf.float32, size=num_steps-1, element_shape=x0.shape)\n",
    "    f_pred = tf.TensorArray(\n",
    "      dtype=tf.float32, size=num_steps-1, element_shape=fh.shape)\n",
    "\n",
    "    x_pred = x_pred.write(0, x0)\n",
    "    \n",
    "    _, _, _, x_pred, dp_pred, f_pred = tf.while_loop(\n",
    "    lambda i, *unused_args: i < num_steps,\n",
    "        body,\n",
    "        loop_vars = [1, x0, ph, x_pred, dp_pred, f_pred]\n",
    "    )\n",
    "    return x_pred.stack(), dp_pred.stack(), f_pred.stack()"
   ]
  },
  {
   "cell_type": "markdown",
   "metadata": {},
   "source": [
    "# OLD"
   ]
  },
  {
   "cell_type": "code",
   "execution_count": 7,
   "metadata": {},
   "outputs": [],
   "source": [
    "def get_distances_old(x0, nplanets, as_tensor = True):\n",
    "    '''\n",
    "    Convert positions to distances\n",
    "    '''\n",
    "    dx = []\n",
    "    for i in range(nplanets):\n",
    "        for j in range(nplanets):\n",
    "            if i > j:\n",
    "                dx.append(x0[j] - x0[i])\n",
    "    \n",
    "    if as_tensor == True:\n",
    "        dx = tf.convert_to_tensor(dx, dtype=np.float32)\n",
    "    else:\n",
    "        dx = np.array(dx)\n",
    "        \n",
    "    return dx\n",
    "\n",
    "def model_gn_old(dx, num_processing_steps):\n",
    "    '''\n",
    "    Use the model to go from dx to dp\n",
    "    '''\n",
    "    graph = input_graph_test_old.replace(edges=dx)\n",
    "    outputs = model(graph, num_processing_steps)\n",
    "    outputs_p = get_momentum_update(outputs)\n",
    "    output = sum(outputs_p)/num_processing_steps\n",
    "    dp = output*np.std(dp_traj_np)\n",
    "\n",
    "    edges = [output.edges for output in outputs]\n",
    "    forces_unnorm = sum(edges)/num_processing_steps\n",
    "    forces = forces_unnorm*np.std(dp_traj_np)\n",
    "    return dp, forces\n",
    "\n",
    "def get_leapfrog_step_old(x, ph, dt, planets, model, num_processing_steps):   #(x, ph, dt, m1, m2, model):\n",
    "    '''\n",
    "    Perform a step for the leapfrog integration\n",
    "    '''\n",
    "    dtm = []\n",
    "    for planet in planets:\n",
    "        dtm.append([dt/planet.mass])\n",
    "    \n",
    "    deltax=ph*tf.convert_to_tensor(dtm,dtype = np.float32)\n",
    "    \n",
    "    x1 = x+deltax\n",
    "\n",
    "    dx = get_distances_old(x, len(planets))\n",
    "\n",
    "    dp, force = model(dx, num_processing_steps)\n",
    "    ph3 = ph + dp\n",
    "\n",
    "    return x1, ph3, dp, force\n",
    "\n",
    "def leapfrog_integration_old(x0, p0, planets,dt, num_steps, model, num_processing_steps):\n",
    "    '''\n",
    "    Learn the orbit through leapfrom integration\n",
    "    '''\n",
    "    def body(i, x0, p0, x_pred, dp_pred, f_pred):\n",
    "        x, ph, dp, force =  get_leapfrog_step_old(x0, p0, dt, planets,model, num_processing_steps)\n",
    "        return i+1, x, ph, x_pred.write(i, x), dp_pred.write(i-1, dp/np.std(dp_traj_np)), f_pred.write(i-1, force)\n",
    "    \n",
    "    # Distance\n",
    "    dx = get_distances_old(x0, len(planets))\n",
    "\n",
    "    # Model predict*norm_p = F*dt\n",
    "    # (ph = phalf)\n",
    "    dph, fh = model(dx,  num_processing_steps)\n",
    "    ph = p0 + 0.5*dph\n",
    "    x = tf.identity(x0)\n",
    "    \n",
    "    i = 0\n",
    "\n",
    "    x_pred = tf.TensorArray(\n",
    "      dtype=tf.float32, size=num_steps, element_shape=x0.shape)\n",
    "    dp_pred = tf.TensorArray(\n",
    "      dtype=tf.float32, size=num_steps-1, element_shape=x0.shape)\n",
    "    f_pred = tf.TensorArray(\n",
    "      dtype=tf.float32, size=num_steps-1, element_shape=fh.shape)\n",
    "\n",
    "    x_pred = x_pred.write(0, x0)\n",
    "    \n",
    "    _, _, _, x_pred, dp_pred, f_pred = tf.while_loop(\n",
    "    lambda i, *unused_args: i < num_steps,\n",
    "        body,\n",
    "        loop_vars = [1, x0, ph, x_pred, dp_pred, f_pred]\n",
    "    )\n",
    "    return x_pred.stack(), dp_pred.stack(), f_pred.stack()"
   ]
  },
  {
   "cell_type": "code",
   "execution_count": 8,
   "metadata": {},
   "outputs": [
    {
     "name": "stdout",
     "output_type": "stream",
     "text": [
      "WARNING:tensorflow:From /Users/Pablo/Projets/orbits/conda-env/lib/python3.7/site-packages/tensorflow_core/python/ops/array_ops.py:1475: where (from tensorflow.python.ops.array_ops) is deprecated and will be removed in a future version.\n",
      "Instructions for updating:\n",
      "Use tf.where in 2.0, which has the same broadcast rule as np.where\n"
     ]
    }
   ],
   "source": [
    "# Global constants\n",
    "DAY = 24*3600. # Day in seconds\n",
    "YEAR = 365.25*DAY #Year\n",
    "delta_time = (1/24.)*DAY/YEAR # 1 hour\n",
    "\n",
    "total_time_test = 5000*delta_time\n",
    "num_time_steps_test = int(total_time_test/delta_time)\n",
    "\n",
    "total_time_tr = 200*delta_time\n",
    "num_time_steps_tr = int(total_time_tr/delta_time)\n",
    "\n",
    "batch_size_table = 50\n",
    "total_time_table = 200*delta_time\n",
    "num_time_steps_table = int(total_time_table/delta_time)\n",
    "\n",
    "num_processing_steps_tr = 3\n",
    "patience = 10\n",
    "batch_size = 1000\n",
    "d_patience = 1e-5\n",
    "#d_patience = 0\n",
    "noise_level = 0.05\n",
    "\n",
    "# How much time between logging and printing the current results.\n",
    "log_every_iterations = 1000\n",
    "num_training_iterations = 100000\n",
    "\n",
    "sun = Body()\n",
    "sun.name = 'Sun'\n",
    "sun.mass = 1. # solar masses\n",
    "sun.pos = np.zeros(3) \n",
    "\n",
    "mercury = Body()\n",
    "mercury.name = 'Mercury'\n",
    "mercury.mass = 0.33011 * 10**24/MSUN # solar masses\n",
    "pos_mercury = 0.387 # AU\n",
    "vel_mercury = get_orbital_velocity(pos_mercury, \n",
    "                                   mercury.mass, \n",
    "                                   sun.mass, \n",
    "                                   G,\n",
    "                                   ellipcity_noise = 0.01\n",
    "                                  )\n",
    "mercury.initiate(pos_mercury, vel_mercury)\n",
    "    \n",
    "venus = Body()\n",
    "venus.name = 'Venus'\n",
    "venus.mass = 4.8685 * 10**24/MSUN # solar masses\n",
    "pos_venus = 0.723 # AU\n",
    "vel_venus = get_orbital_velocity(pos_venus, \n",
    "                                 venus.mass, \n",
    "                                 sun.mass, \n",
    "                                 G,\n",
    "                                ellipcity_noise = 0.01)\n",
    "venus.initiate(pos_venus, vel_venus)\n",
    "    \n",
    "earth = Body()\n",
    "earth.name = 'Earth'\n",
    "earth.mass = 5.9742 * 10**24/MSUN # solar masses\n",
    "pos_earth = 1 # AU\n",
    "vel_earth = get_orbital_velocity(pos_earth, \n",
    "                                 earth.mass, \n",
    "                                 sun.mass, \n",
    "                                 G, \n",
    "                                ellipcity_noise = 0.01)\n",
    "earth.initiate(pos_earth, vel_earth)\n",
    "\n",
    "\n",
    "sun.vel = -(np.array(mercury.vel)*mercury.mass + \n",
    "            np.array(venus.vel)*venus.mass +\n",
    "            np.array(earth.vel)*earth.mass\n",
    "            )/sun.mass\n",
    "\n",
    "# Center at zero (improves stability)\n",
    "sun.pos = -(np.array(mercury.pos)*mercury.mass + \n",
    "            np.array(venus.pos)*venus.mass +\n",
    "            np.array(earth.pos)*earth.mass\n",
    "            )/sun.mass\n",
    "#sun.pos = np.zeros(3)\n",
    "\n",
    "planets = [sun, mercury, venus, earth]\n",
    "nplanets = len(planets)\n",
    "    \n",
    "planets_gn = deepcopy(planets)\n",
    "\n",
    "simulate(planets, total_time_test, delta_time)\n",
    "\n",
    "x_traj_np, p_traj_np = get_trajectory(planets, num_time_steps_test)\n",
    "dp_traj_np = p_traj_np[1:] - p_traj_np[:-1]\n",
    "\n",
    "dp_traj_norm = tf.convert_to_tensor(\n",
    "    dp_traj_np/np.std(dp_traj_np), dtype=np.float32)\n",
    "\n",
    "p_norm = np.std(dp_traj_np)\n",
    "\n",
    "x_traj_test = tf.convert_to_tensor(x_traj_np, dtype=np.float32)\n",
    "p_traj_test = tf.convert_to_tensor(p_traj_np, dtype=np.float32)\n",
    "\n",
    "input_dict_test = get_input_graph(planets, x_traj_test, 0, noise_level = 0)\n",
    "\n",
    "input_graph_test = utils_tf.data_dicts_to_graphs_tuple([input_dict_test])\n",
    "input_graph_test_old = utils_tf.data_dicts_to_graphs_tuple([input_dict_test])"
   ]
  },
  {
   "cell_type": "code",
   "execution_count": 9,
   "metadata": {},
   "outputs": [],
   "source": [
    "x_traj_tr, dp_traj_tr, _ = generate_batch(\n",
    "    planets_gn, total_time_tr, delta_time, batch_size, norm_factor = p_norm, ellipcity_noise = 0.01)"
   ]
  },
  {
   "cell_type": "code",
   "execution_count": 10,
   "metadata": {},
   "outputs": [
    {
     "data": {
      "text/plain": [
       "Text(0.5, 1.0, 'Graph')"
      ]
     },
     "execution_count": 10,
     "metadata": {},
     "output_type": "execute_result"
    },
    {
     "data": {
      "image/png": "[encoded data removed]",
      "text/plain": [
       "<Figure size 216x216 with 1 Axes>"
      ]
     },
     "metadata": {},
     "output_type": "display_data"
    }
   ],
   "source": [
    "# Generate and visualize a Graph\n",
    "\n",
    "data_dict = get_input_graph(planets, x_traj_test,0)\n",
    "graphs_tuple = utils_np.data_dicts_to_graphs_tuple([data_dict])\n",
    "graphs_nx = utils_np.graphs_tuple_to_networkxs(graphs_tuple)\n",
    "\n",
    "ax = plt.figure(figsize=(3, 3)).gca()\n",
    "nx.draw(graphs_nx[0], ax=ax)\n",
    "ax.set_title(\"Graph\")"
   ]
  },
  {
   "cell_type": "code",
   "execution_count": 11,
   "metadata": {},
   "outputs": [],
   "source": [
    "graphs_tuple = utils_tf.data_dicts_to_graphs_tuple([data_dict])"
   ]
  },
  {
   "cell_type": "code",
   "execution_count": 12,
   "metadata": {},
   "outputs": [],
   "source": [
    "# Get sum over all received nodes for each body\n",
    "\n",
    "reducer = tf.unsorted_segment_sum\n",
    "t1 = blocks.ReceivedEdgesToNodesAggregator(reducer=reducer)(graphs_tuple)\n",
    "t2 = blocks.SentEdgesToNodesAggregator(reducer=reducer)(graphs_tuple)\n",
    "\n",
    "#with tf.Session() as sess:\n",
    "#    print(t.eval())\n",
    "\n",
    "#print(t1)\n",
    "#print(t2)\n",
    "#print(t1-t2)"
   ]
  },
  {
   "cell_type": "code",
   "execution_count": 13,
   "metadata": {},
   "outputs": [],
   "source": [
    "# Create the model.\n",
    "model = models.EncodeProcessDecode(node_output_size=0, edge_output_size=2, global_output_size=0)"
   ]
  },
  {
   "cell_type": "code",
   "execution_count": 14,
   "metadata": {},
   "outputs": [],
   "source": [
    "def get_momentum_update(output_ops):\n",
    "    reducer = tf.unsorted_segment_sum\n",
    "    \n",
    "    dp = []\n",
    "    for output_op in output_ops:\n",
    "        b1 = blocks.ReceivedEdgesToNodesAggregator(reducer=reducer)(output_op)\n",
    "        b2 = blocks.SentEdgesToNodesAggregator(reducer=reducer)(output_op)\n",
    "        dp.append(b1-b2)\n",
    "    '''\n",
    "    dp = [\n",
    "        blocks.ReceivedEdgesToNodesAggregator(reducer=reducer)(output_op)\n",
    "        for output_op in output_ops]\n",
    "    '''\n",
    "    return dp\n",
    "\n",
    "\n",
    "def create_loss_ops(target_op, output_ops):\n",
    "    \"\"\"Create supervised loss operations from targets and outputs.\n",
    "\n",
    "    Args:\n",
    "        target_op: The target velocity tf.Tensor.\n",
    "        output_ops: The list of output graphs from the model.\n",
    "\n",
    "    Returns:\n",
    "        A list of loss values (tf.Tensor), one per output op.\n",
    "    \"\"\"\n",
    "    loss_ops = [\n",
    "        tf.reduce_mean(\n",
    "            tf.reduce_sum((output_op - target_op)**2, axis=-1))\n",
    "        for output_op in output_ops\n",
    "    ]\n",
    "    return loss_ops"
   ]
  },
  {
   "cell_type": "code",
   "execution_count": 15,
   "metadata": {},
   "outputs": [
    {
     "name": "stdout",
     "output_type": "stream",
     "text": [
      "WARNING:tensorflow:From /Users/Pablo/Projets/orbits/conda-env/lib/python3.7/site-packages/sonnet/python/modules/basic.py:127: calling TruncatedNormal.__init__ (from tensorflow.python.ops.init_ops) with dtype is deprecated and will be removed in a future version.\n",
      "Instructions for updating:\n",
      "Call initializer instance with the dtype argument instead of passing it to the constructor\n",
      "WARNING:tensorflow:From /Users/Pablo/Projets/orbits/conda-env/lib/python3.7/site-packages/sonnet/python/modules/basic.py:132: calling Zeros.__init__ (from tensorflow.python.ops.init_ops) with dtype is deprecated and will be removed in a future version.\n",
      "Instructions for updating:\n",
      "Call initializer instance with the dtype argument instead of passing it to the constructor\n"
     ]
    }
   ],
   "source": [
    "t = tf.random_uniform([], minval=0, maxval=num_time_steps_tr - 1, dtype=tf.int32)\n",
    "input_dict_tr = []\n",
    "for i in range(batch_size):\n",
    "    input_dict_tr.append(get_input_graph(planets, x_traj_tr[i], t, noise_level = noise_level))\n",
    "    \n",
    "input_graph_tr = utils_tf.data_dicts_to_graphs_tuple(input_dict_tr)\n",
    "output_model = model(input_graph_tr, num_processing_steps_tr)\n",
    "output_ops_tr = get_momentum_update(output_model)\n",
    "target_nodes_tr = tf.reshape(dp_traj_tr[:,t], shape=[batch_size*nplanets, 2])\n",
    "\n"
   ]
  },
  {
   "cell_type": "code",
   "execution_count": 16,
   "metadata": {},
   "outputs": [],
   "source": [
    "# Integration (test)\n",
    "x0 = x_traj_test[0]\n",
    "p0 = p_traj_test[0]\n",
    "xp, pp, fp = leapfrog_integration(\n",
    "    x0, p0, \n",
    "    delta_time, \n",
    "    input_graph_test, \n",
    "    num_time_steps_test, \n",
    "    model_gn, \n",
    "    num_processing_steps_tr,\n",
    "    normalization = p_norm)\n",
    "\n",
    "loss_test = tf.reduce_mean(\n",
    "    tf.reduce_sum(\n",
    "    (pp - dp_traj_norm)**2., axis = -1\n",
    "    ))"
   ]
  },
  {
   "cell_type": "code",
   "execution_count": 17,
   "metadata": {},
   "outputs": [
    {
     "data": {
      "text/plain": [
       "'\\n# Integration (old)\\nnsteps_int = num_time_steps_test\\nx0_old = x_traj_test[0]\\np0_old = p_traj_test[0]\\nxp_old, pp_old, fp_old = leapfrog_integration_old(\\n    x0_old, p0_old, planets_gn, delta_time, nsteps_int, model_gn_old, num_processing_steps_tr)\\n\\nloss_test_old = tf.reduce_mean(\\n    tf.reduce_sum(\\n    (pp_old - dp_traj_norm[:nsteps_int-1])**2., axis = -1\\n    ))\\n'"
      ]
     },
     "execution_count": 17,
     "metadata": {},
     "output_type": "execute_result"
    }
   ],
   "source": [
    "'''\n",
    "# Integration (old)\n",
    "nsteps_int = num_time_steps_test\n",
    "x0_old = x_traj_test[0]\n",
    "p0_old = p_traj_test[0]\n",
    "xp_old, pp_old, fp_old = leapfrog_integration_old(\n",
    "    x0_old, p0_old, planets_gn, delta_time, nsteps_int, model_gn_old, num_processing_steps_tr)\n",
    "\n",
    "loss_test_old = tf.reduce_mean(\n",
    "    tf.reduce_sum(\n",
    "    (pp_old - dp_traj_norm[:nsteps_int-1])**2., axis = -1\n",
    "    ))\n",
    "'''"
   ]
  },
  {
   "cell_type": "code",
   "execution_count": 18,
   "metadata": {},
   "outputs": [],
   "source": [
    "planets_table = []\n",
    "for i in range(batch_size_table):\n",
    "    planets_table.append(generate_random_planets())\n",
    "    \n",
    "x_traj_table, dp_traj_table, p_traj_table = generate_batch(\n",
    "    planets_table, total_time_table, delta_time, batch_size_table, norm_factor = p_norm, ellipcity_noise = 0.0)\n",
    "\n",
    "# Integration (table)\n",
    "input_dict_table= []\n",
    "for i in range(batch_size_table):\n",
    "    input_dict_table.append(get_input_graph(planets_table[i], x_traj_table[i], 0, noise_level = 0))\n",
    "    \n",
    "input_graph_table = utils_tf.data_dicts_to_graphs_tuple(input_dict_table)"
   ]
  },
  {
   "cell_type": "code",
   "execution_count": 19,
   "metadata": {},
   "outputs": [],
   "source": [
    "planets_flat = sum(planets_table, [])\n",
    "#get_leapfrog_step(x0, p0, delta_time, input_graph_table, model_gn, num_processing_steps_tr, p_norm)\n",
    "x0_table = tf.reshape(x_traj_table[:,0], shape=(len(planets_flat),2))\n",
    "p0_table = tf.reshape(p_traj_table[:,0], shape=(len(planets_flat),2))\n",
    "xp_table, dp_table, fp_table = leapfrog_integration(\n",
    "    x0_table, p0_table, delta_time, input_graph_table, \n",
    "    num_time_steps_table, model_gn, num_processing_steps_tr, p_norm)\n",
    "\n",
    "dp_traj_table_flat = tf.transpose(dp_traj_table, perm=[1,0,2,3])\n",
    "dp_traj_table_flat = tf.reshape(dp_traj_table_flat, shape=(num_time_steps_table-1, len(planets_flat), 2))\n",
    "\n",
    "loss_table = tf.reduce_mean(\n",
    "    tf.reduce_sum(\n",
    "    (dp_table - dp_traj_table_flat)**2., axis = -1\n",
    "    ))\n",
    "\n",
    "#xp_table = tf.reshape(xp_table, shape=x_traj_table.shape)\n",
    "#fp_table = tf.reshape(fp_table, shape=(num_time_steps_table-1, len(input_dict_table), 2))"
   ]
  },
  {
   "cell_type": "code",
   "execution_count": 20,
   "metadata": {},
   "outputs": [],
   "source": [
    "# Training loss.\n",
    "loss_ops_tr = create_loss_ops(target_nodes_tr, output_ops_tr)\n",
    "# Training loss across processing steps.\n",
    "loss_op_tr = sum(loss_ops_tr) / num_processing_steps_tr"
   ]
  },
  {
   "cell_type": "code",
   "execution_count": 21,
   "metadata": {},
   "outputs": [],
   "source": [
    "# Optimizer.\n",
    "learning_rate = 1e-5\n",
    "optimizer = tf.train.AdamOptimizer(learning_rate)\n",
    "step_op = optimizer.minimize(loss_op_tr)"
   ]
  },
  {
   "cell_type": "code",
   "execution_count": 22,
   "metadata": {},
   "outputs": [],
   "source": [
    "# This cell resets the Tensorflow session, but keeps the same computational\n",
    "# graph.\n",
    "\n",
    "try:\n",
    "    sess.close()\n",
    "except NameError:\n",
    "    pass\n",
    "sess = tf.Session()\n",
    "sess.run(tf.global_variables_initializer())\n",
    "\n",
    "nsteps_no_improvement = 0\n",
    "last_iteration = 0\n",
    "previous_loss = 0\n",
    "iterations = []\n",
    "losses_tr = []\n",
    "losses_test = []\n",
    "losses_table = []"
   ]
  },
  {
   "cell_type": "code",
   "execution_count": 23,
   "metadata": {},
   "outputs": [
    {
     "name": "stdout",
     "output_type": "stream",
     "text": [
      "# (iteration number), T (elapsed seconds), Ltr (training 1-step loss), \n",
      "# 000000, T 79.5, Ltr 14.635333, Ltest 15.883999, Ltable 4.303777\n",
      "# 001000, T 178.4, Ltr 1.494348, Ltest 2.023709, Ltable 2.320004\n",
      "# 002000, T 278.2, Ltr 0.935398, Ltest 1.710996, Ltable 2.047608\n",
      "# 003000, T 377.8, Ltr 0.678590, Ltest 1.532702, Ltable 1.771188\n",
      "# 004000, T 478.0, Ltr 0.457260, Ltest 1.359221, Ltable 1.588019\n",
      "# 005000, T 578.4, Ltr 0.301219, Ltest 1.228615, Ltable 1.577801\n",
      "# 006000, T 678.7, Ltr 0.212890, Ltest 1.004058, Ltable 1.336657\n",
      "# 007000, T 778.6, Ltr 0.154026, Ltest 0.761810, Ltable 1.344008\n",
      "# 008000, T 879.5, Ltr 0.109579, Ltest 0.586680, Ltable 1.334569\n",
      "# 009000, T 979.7, Ltr 0.078641, Ltest 0.474363, Ltable 1.309782\n",
      "# 010000, T 1080.4, Ltr 0.064021, Ltest 0.450389, Ltable 1.323537\n",
      "# 011000, T 1181.0, Ltr 0.053843, Ltest 0.405178, Ltable 1.335158\n",
      "# 012000, T 1282.3, Ltr 0.045584, Ltest 0.370288, Ltable 1.339017\n",
      "# 013000, T 1383.7, Ltr 0.038696, Ltest 0.324284, Ltable 1.336002\n",
      "# 014000, T 1484.3, Ltr 0.032452, Ltest 0.294425, Ltable 1.316575\n",
      "# 015000, T 1584.3, Ltr 0.027203, Ltest 0.263986, Ltable 1.306115\n",
      "# 016000, T 1685.0, Ltr 0.023722, Ltest 0.236842, Ltable 1.297718\n",
      "# 017000, T 1786.0, Ltr 0.021398, Ltest 0.208374, Ltable 1.295702\n",
      "# 018000, T 1886.6, Ltr 0.018491, Ltest 0.188760, Ltable 1.296337\n",
      "# 019000, T 1987.0, Ltr 0.016906, Ltest 0.169259, Ltable 1.293310\n",
      "# 020000, T 2087.6, Ltr 0.015018, Ltest 0.154953, Ltable 1.293045\n",
      "# 021000, T 2188.0, Ltr 0.013537, Ltest 0.145820, Ltable 1.294455\n",
      "# 022000, T 2288.5, Ltr 0.012526, Ltest 0.130384, Ltable 1.299608\n",
      "# 023000, T 2389.0, Ltr 0.011031, Ltest 0.119685, Ltable 1.303549\n",
      "# 024000, T 2489.4, Ltr 0.009693, Ltest 0.105009, Ltable 1.307556\n",
      "# 025000, T 2589.9, Ltr 0.008728, Ltest 0.095292, Ltable 1.314150\n",
      "# 026000, T 2690.7, Ltr 0.007794, Ltest 0.090211, Ltable 1.319711\n",
      "# 027000, T 2791.1, Ltr 0.007397, Ltest 0.085624, Ltable 1.325981\n",
      "# 028000, T 2891.7, Ltr 0.007286, Ltest 0.082062, Ltable 1.330730\n",
      "# 029000, T 2992.3, Ltr 0.006756, Ltest 0.078153, Ltable 1.335520\n",
      "# 030000, T 3092.5, Ltr 0.006282, Ltest 0.076011, Ltable 1.338946\n",
      "# 031000, T 3195.1, Ltr 0.006180, Ltest 0.074759, Ltable 1.339534\n",
      "# 032000, T 3294.8, Ltr 0.005605, Ltest 0.074900, Ltable 1.342814\n",
      "# 033000, T 3395.3, Ltr 0.005698, Ltest 0.071875, Ltable 1.344811\n",
      "# 034000, T 3494.9, Ltr 0.005221, Ltest 0.073546, Ltable 1.347195\n",
      "# 035000, T 3598.3, Ltr 0.004956, Ltest 0.070813, Ltable 1.347105\n",
      "# 036000, T 3701.3, Ltr 0.005008, Ltest 0.069797, Ltable 1.346219\n",
      "# 037000, T 3804.3, Ltr 0.004812, Ltest 0.067534, Ltable 1.345942\n",
      "# 038000, T 3908.0, Ltr 0.004641, Ltest 0.066135, Ltable 1.346093\n",
      "# 039000, T 4011.1, Ltr 0.004240, Ltest 0.065648, Ltable 1.346341\n",
      "# 040000, T 4115.5, Ltr 0.004340, Ltest 0.064138, Ltable 1.346167\n",
      "# 041000, T 4214.7, Ltr 0.004237, Ltest 0.065041, Ltable 1.346804\n",
      "# 042000, T 4315.2, Ltr 0.003988, Ltest 0.062639, Ltable 1.348264\n",
      "# 043000, T 4420.1, Ltr 0.004111, Ltest 0.062598, Ltable 1.349431\n",
      "# 044000, T 4522.1, Ltr 0.003991, Ltest 0.061902, Ltable 1.348324\n",
      "# 045000, T 4623.0, Ltr 0.003846, Ltest 0.061074, Ltable 1.349794\n",
      "# 046000, T 4723.6, Ltr 0.003746, Ltest 0.062672, Ltable 1.351738\n",
      "# 047000, T 4823.7, Ltr 0.003639, Ltest 0.061329, Ltable 1.351640\n",
      "# 048000, T 4924.0, Ltr 0.003791, Ltest 0.062638, Ltable 1.353053\n",
      "# 049000, T 5024.5, Ltr 0.003344, Ltest 0.063602, Ltable 1.353591\n",
      "# 050000, T 5126.5, Ltr 0.003415, Ltest 0.063123, Ltable 1.354610\n",
      "# 051000, T 5233.3, Ltr 0.003284, Ltest 0.062310, Ltable 1.354667\n",
      "# 052000, T 5340.0, Ltr 0.003425, Ltest 0.062461, Ltable 1.356637\n",
      "# 053000, T 5446.2, Ltr 0.003399, Ltest 0.061554, Ltable 1.356181\n",
      "# 054000, T 5552.4, Ltr 0.003245, Ltest 0.062337, Ltable 1.357685\n",
      "# 055000, T 5657.1, Ltr 0.003385, Ltest 0.062035, Ltable 1.357688\n",
      "# 056000, T 5759.6, Ltr 0.003406, Ltest 0.060906, Ltable 1.359975\n",
      "# 057000, T 5867.8, Ltr 0.003326, Ltest 0.061742, Ltable 1.359314\n",
      "# 058000, T 5972.8, Ltr 0.003351, Ltest 0.061790, Ltable 1.362280\n",
      "# 059000, T 6075.8, Ltr 0.003045, Ltest 0.061480, Ltable 1.362666\n",
      "# 060000, T 6178.7, Ltr 0.003225, Ltest 0.062555, Ltable 1.362338\n",
      "# 061000, T 6284.1, Ltr 0.002895, Ltest 0.060991, Ltable 1.363275\n",
      "# 062000, T 6390.4, Ltr 0.003051, Ltest 0.062027, Ltable 1.364441\n",
      "# 063000, T 6494.7, Ltr 0.002938, Ltest 0.061522, Ltable 1.362385\n",
      "# 064000, T 6597.5, Ltr 0.002927, Ltest 0.060423, Ltable 1.364037\n",
      "# 065000, T 6703.7, Ltr 0.003135, Ltest 0.061639, Ltable 1.363405\n",
      "# 066000, T 6809.5, Ltr 0.002893, Ltest 0.060348, Ltable 1.364267\n",
      "# 067000, T 6914.7, Ltr 0.002964, Ltest 0.060399, Ltable 1.364075\n",
      "# 068000, T 7028.5, Ltr 0.002813, Ltest 0.061197, Ltable 1.364443\n",
      "# 069000, T 7136.7, Ltr 0.002887, Ltest 0.061309, Ltable 1.366471\n",
      "# 070000, T 7238.9, Ltr 0.002711, Ltest 0.060201, Ltable 1.366481\n",
      "# 071000, T 7342.0, Ltr 0.002888, Ltest 0.061100, Ltable 1.366454\n",
      "# 072000, T 7446.0, Ltr 0.002841, Ltest 0.059552, Ltable 1.368208\n",
      "# 073000, T 7549.7, Ltr 0.002905, Ltest 0.061641, Ltable 1.369398\n",
      "# 074000, T 7653.4, Ltr 0.002682, Ltest 0.060374, Ltable 1.368903\n"
     ]
    },
    {
     "ename": "KeyboardInterrupt",
     "evalue": "",
     "output_type": "error",
     "traceback": [
      "\u001b[0;31m---------------------------------------------------------------------------\u001b[0m",
      "\u001b[0;31mKeyboardInterrupt\u001b[0m                         Traceback (most recent call last)",
      "\u001b[0;32m<ipython-input-23-71bed22d083f>\u001b[0m in \u001b[0;36m<module>\u001b[0;34m\u001b[0m\n\u001b[1;32m     12\u001b[0m         \u001b[0;34m\"input_graph\"\u001b[0m\u001b[0;34m:\u001b[0m \u001b[0minput_graph_tr\u001b[0m\u001b[0;34m,\u001b[0m\u001b[0;34m\u001b[0m\u001b[0;34m\u001b[0m\u001b[0m\n\u001b[1;32m     13\u001b[0m         \u001b[0;34m\"target_nodes\"\u001b[0m\u001b[0;34m:\u001b[0m \u001b[0mtarget_nodes_tr\u001b[0m\u001b[0;34m,\u001b[0m\u001b[0;34m\u001b[0m\u001b[0;34m\u001b[0m\u001b[0m\n\u001b[0;32m---> 14\u001b[0;31m         \u001b[0;34m\"outputs\"\u001b[0m\u001b[0;34m:\u001b[0m \u001b[0moutput_ops_tr\u001b[0m\u001b[0;34m\u001b[0m\u001b[0;34m\u001b[0m\u001b[0m\n\u001b[0m\u001b[1;32m     15\u001b[0m     })\n\u001b[1;32m     16\u001b[0m     \u001b[0mthe_time\u001b[0m \u001b[0;34m=\u001b[0m \u001b[0mtime\u001b[0m\u001b[0;34m.\u001b[0m\u001b[0mtime\u001b[0m\u001b[0;34m(\u001b[0m\u001b[0;34m)\u001b[0m\u001b[0;34m\u001b[0m\u001b[0;34m\u001b[0m\u001b[0m\n",
      "\u001b[0;32m~/Projets/orbits/conda-env/lib/python3.7/site-packages/tensorflow_core/python/client/session.py\u001b[0m in \u001b[0;36mrun\u001b[0;34m(self, fetches, feed_dict, options, run_metadata)\u001b[0m\n\u001b[1;32m    954\u001b[0m     \u001b[0;32mtry\u001b[0m\u001b[0;34m:\u001b[0m\u001b[0;34m\u001b[0m\u001b[0;34m\u001b[0m\u001b[0m\n\u001b[1;32m    955\u001b[0m       result = self._run(None, fetches, feed_dict, options_ptr,\n\u001b[0;32m--> 956\u001b[0;31m                          run_metadata_ptr)\n\u001b[0m\u001b[1;32m    957\u001b[0m       \u001b[0;32mif\u001b[0m \u001b[0mrun_metadata\u001b[0m\u001b[0;34m:\u001b[0m\u001b[0;34m\u001b[0m\u001b[0;34m\u001b[0m\u001b[0m\n\u001b[1;32m    958\u001b[0m         \u001b[0mproto_data\u001b[0m \u001b[0;34m=\u001b[0m \u001b[0mtf_session\u001b[0m\u001b[0;34m.\u001b[0m\u001b[0mTF_GetBuffer\u001b[0m\u001b[0;34m(\u001b[0m\u001b[0mrun_metadata_ptr\u001b[0m\u001b[0;34m)\u001b[0m\u001b[0;34m\u001b[0m\u001b[0;34m\u001b[0m\u001b[0m\n",
      "\u001b[0;32m~/Projets/orbits/conda-env/lib/python3.7/site-packages/tensorflow_core/python/client/session.py\u001b[0m in \u001b[0;36m_run\u001b[0;34m(self, handle, fetches, feed_dict, options, run_metadata)\u001b[0m\n\u001b[1;32m   1178\u001b[0m     \u001b[0;32mif\u001b[0m \u001b[0mfinal_fetches\u001b[0m \u001b[0;32mor\u001b[0m \u001b[0mfinal_targets\u001b[0m \u001b[0;32mor\u001b[0m \u001b[0;34m(\u001b[0m\u001b[0mhandle\u001b[0m \u001b[0;32mand\u001b[0m \u001b[0mfeed_dict_tensor\u001b[0m\u001b[0;34m)\u001b[0m\u001b[0;34m:\u001b[0m\u001b[0;34m\u001b[0m\u001b[0;34m\u001b[0m\u001b[0m\n\u001b[1;32m   1179\u001b[0m       results = self._do_run(handle, final_targets, final_fetches,\n\u001b[0;32m-> 1180\u001b[0;31m                              feed_dict_tensor, options, run_metadata)\n\u001b[0m\u001b[1;32m   1181\u001b[0m     \u001b[0;32melse\u001b[0m\u001b[0;34m:\u001b[0m\u001b[0;34m\u001b[0m\u001b[0;34m\u001b[0m\u001b[0m\n\u001b[1;32m   1182\u001b[0m       \u001b[0mresults\u001b[0m \u001b[0;34m=\u001b[0m \u001b[0;34m[\u001b[0m\u001b[0;34m]\u001b[0m\u001b[0;34m\u001b[0m\u001b[0;34m\u001b[0m\u001b[0m\n",
      "\u001b[0;32m~/Projets/orbits/conda-env/lib/python3.7/site-packages/tensorflow_core/python/client/session.py\u001b[0m in \u001b[0;36m_do_run\u001b[0;34m(self, handle, target_list, fetch_list, feed_dict, options, run_metadata)\u001b[0m\n\u001b[1;32m   1357\u001b[0m     \u001b[0;32mif\u001b[0m \u001b[0mhandle\u001b[0m \u001b[0;32mis\u001b[0m \u001b[0;32mNone\u001b[0m\u001b[0;34m:\u001b[0m\u001b[0;34m\u001b[0m\u001b[0;34m\u001b[0m\u001b[0m\n\u001b[1;32m   1358\u001b[0m       return self._do_call(_run_fn, feeds, fetches, targets, options,\n\u001b[0;32m-> 1359\u001b[0;31m                            run_metadata)\n\u001b[0m\u001b[1;32m   1360\u001b[0m     \u001b[0;32melse\u001b[0m\u001b[0;34m:\u001b[0m\u001b[0;34m\u001b[0m\u001b[0;34m\u001b[0m\u001b[0m\n\u001b[1;32m   1361\u001b[0m       \u001b[0;32mreturn\u001b[0m \u001b[0mself\u001b[0m\u001b[0;34m.\u001b[0m\u001b[0m_do_call\u001b[0m\u001b[0;34m(\u001b[0m\u001b[0m_prun_fn\u001b[0m\u001b[0;34m,\u001b[0m \u001b[0mhandle\u001b[0m\u001b[0;34m,\u001b[0m \u001b[0mfeeds\u001b[0m\u001b[0;34m,\u001b[0m \u001b[0mfetches\u001b[0m\u001b[0;34m)\u001b[0m\u001b[0;34m\u001b[0m\u001b[0;34m\u001b[0m\u001b[0m\n",
      "\u001b[0;32m~/Projets/orbits/conda-env/lib/python3.7/site-packages/tensorflow_core/python/client/session.py\u001b[0m in \u001b[0;36m_do_call\u001b[0;34m(self, fn, *args)\u001b[0m\n\u001b[1;32m   1363\u001b[0m   \u001b[0;32mdef\u001b[0m \u001b[0m_do_call\u001b[0m\u001b[0;34m(\u001b[0m\u001b[0mself\u001b[0m\u001b[0;34m,\u001b[0m \u001b[0mfn\u001b[0m\u001b[0;34m,\u001b[0m \u001b[0;34m*\u001b[0m\u001b[0margs\u001b[0m\u001b[0;34m)\u001b[0m\u001b[0;34m:\u001b[0m\u001b[0;34m\u001b[0m\u001b[0;34m\u001b[0m\u001b[0m\n\u001b[1;32m   1364\u001b[0m     \u001b[0;32mtry\u001b[0m\u001b[0;34m:\u001b[0m\u001b[0;34m\u001b[0m\u001b[0;34m\u001b[0m\u001b[0m\n\u001b[0;32m-> 1365\u001b[0;31m       \u001b[0;32mreturn\u001b[0m \u001b[0mfn\u001b[0m\u001b[0;34m(\u001b[0m\u001b[0;34m*\u001b[0m\u001b[0margs\u001b[0m\u001b[0;34m)\u001b[0m\u001b[0;34m\u001b[0m\u001b[0;34m\u001b[0m\u001b[0m\n\u001b[0m\u001b[1;32m   1366\u001b[0m     \u001b[0;32mexcept\u001b[0m \u001b[0merrors\u001b[0m\u001b[0;34m.\u001b[0m\u001b[0mOpError\u001b[0m \u001b[0;32mas\u001b[0m \u001b[0me\u001b[0m\u001b[0;34m:\u001b[0m\u001b[0;34m\u001b[0m\u001b[0;34m\u001b[0m\u001b[0m\n\u001b[1;32m   1367\u001b[0m       \u001b[0mmessage\u001b[0m \u001b[0;34m=\u001b[0m \u001b[0mcompat\u001b[0m\u001b[0;34m.\u001b[0m\u001b[0mas_text\u001b[0m\u001b[0;34m(\u001b[0m\u001b[0me\u001b[0m\u001b[0;34m.\u001b[0m\u001b[0mmessage\u001b[0m\u001b[0;34m)\u001b[0m\u001b[0;34m\u001b[0m\u001b[0;34m\u001b[0m\u001b[0m\n",
      "\u001b[0;32m~/Projets/orbits/conda-env/lib/python3.7/site-packages/tensorflow_core/python/client/session.py\u001b[0m in \u001b[0;36m_run_fn\u001b[0;34m(feed_dict, fetch_list, target_list, options, run_metadata)\u001b[0m\n\u001b[1;32m   1348\u001b[0m       \u001b[0mself\u001b[0m\u001b[0;34m.\u001b[0m\u001b[0m_extend_graph\u001b[0m\u001b[0;34m(\u001b[0m\u001b[0;34m)\u001b[0m\u001b[0;34m\u001b[0m\u001b[0;34m\u001b[0m\u001b[0m\n\u001b[1;32m   1349\u001b[0m       return self._call_tf_sessionrun(options, feed_dict, fetch_list,\n\u001b[0;32m-> 1350\u001b[0;31m                                       target_list, run_metadata)\n\u001b[0m\u001b[1;32m   1351\u001b[0m \u001b[0;34m\u001b[0m\u001b[0m\n\u001b[1;32m   1352\u001b[0m     \u001b[0;32mdef\u001b[0m \u001b[0m_prun_fn\u001b[0m\u001b[0;34m(\u001b[0m\u001b[0mhandle\u001b[0m\u001b[0;34m,\u001b[0m \u001b[0mfeed_dict\u001b[0m\u001b[0;34m,\u001b[0m \u001b[0mfetch_list\u001b[0m\u001b[0;34m)\u001b[0m\u001b[0;34m:\u001b[0m\u001b[0;34m\u001b[0m\u001b[0;34m\u001b[0m\u001b[0m\n",
      "\u001b[0;32m~/Projets/orbits/conda-env/lib/python3.7/site-packages/tensorflow_core/python/client/session.py\u001b[0m in \u001b[0;36m_call_tf_sessionrun\u001b[0;34m(self, options, feed_dict, fetch_list, target_list, run_metadata)\u001b[0m\n\u001b[1;32m   1441\u001b[0m     return tf_session.TF_SessionRun_wrapper(self._session, options, feed_dict,\n\u001b[1;32m   1442\u001b[0m                                             \u001b[0mfetch_list\u001b[0m\u001b[0;34m,\u001b[0m \u001b[0mtarget_list\u001b[0m\u001b[0;34m,\u001b[0m\u001b[0;34m\u001b[0m\u001b[0;34m\u001b[0m\u001b[0m\n\u001b[0;32m-> 1443\u001b[0;31m                                             run_metadata)\n\u001b[0m\u001b[1;32m   1444\u001b[0m \u001b[0;34m\u001b[0m\u001b[0m\n\u001b[1;32m   1445\u001b[0m   \u001b[0;32mdef\u001b[0m \u001b[0m_call_tf_sessionprun\u001b[0m\u001b[0;34m(\u001b[0m\u001b[0mself\u001b[0m\u001b[0;34m,\u001b[0m \u001b[0mhandle\u001b[0m\u001b[0;34m,\u001b[0m \u001b[0mfeed_dict\u001b[0m\u001b[0;34m,\u001b[0m \u001b[0mfetch_list\u001b[0m\u001b[0;34m)\u001b[0m\u001b[0;34m:\u001b[0m\u001b[0;34m\u001b[0m\u001b[0;34m\u001b[0m\u001b[0m\n",
      "\u001b[0;31mKeyboardInterrupt\u001b[0m: "
     ]
    }
   ],
   "source": [
    "start_time = time.time()\n",
    "last_log_time = start_time\n",
    "\n",
    "print(\"# (iteration number), T (elapsed seconds), \"\n",
    "      \"Ltr (training 1-step loss), \")\n",
    "\n",
    "for iteration in range(last_iteration, num_training_iterations):\n",
    "    last_iteration = iteration\n",
    "    train_values = sess.run({\n",
    "        \"step\": step_op,\n",
    "        \"loss\": loss_op_tr,\n",
    "        \"input_graph\": input_graph_tr,\n",
    "        \"target_nodes\": target_nodes_tr,\n",
    "        \"outputs\": output_ops_tr\n",
    "    })\n",
    "    the_time = time.time()\n",
    "    \n",
    "    if train_values[\"loss\"] >= (previous_loss - d_patience): \n",
    "        nsteps_no_improvement += 1\n",
    "    else: \n",
    "        nsteps_no_improvement = 0\n",
    "    \n",
    "    previous_loss = train_values[\"loss\"]\n",
    "        \n",
    "    if nsteps_no_improvement >= patience: \n",
    "        print('Convergence achieved')\n",
    "        print('Iterations = ', iteration)\n",
    "        print('Time = ', time.time() - start_time, 'seconds.')\n",
    "        print('Training 1-step loss = ', train_values[\"loss\"])\n",
    "        break\n",
    "    \n",
    "    if iteration%log_every_iterations == 0:\n",
    "        test_orbit = sess.run({\n",
    "            \"x_pred\": xp, \n",
    "            \"f_pred\": fp, \n",
    "            \"loss\": loss_test\n",
    "        })\n",
    "        #test_orbit_old = sess.run({\n",
    "        #    \"x_pred\": xp_old, \n",
    "        #    \"f_pred\": fp_old, \n",
    "        #    \"loss\": loss_test_old\n",
    "        #})\n",
    "        table_orbit = sess.run({\n",
    "            \"x_pred\": xp_table, \n",
    "            \"f_pred\": fp_table, \n",
    "            \"loss\": loss_table\n",
    "        })\n",
    "        last_log_time = the_time\n",
    "        elapsed = time.time() - start_time\n",
    "        iterations.append(iteration)\n",
    "        losses_tr.append(train_values[\"loss\"])\n",
    "        losses_test.append(test_orbit[\"loss\"])\n",
    "        losses_table.append(table_orbit[\"loss\"])\n",
    "        print(\n",
    "            \"# {:06d}, T {:.1f}, Ltr {:.6f}, Ltest {:.6f}, Ltable {:.6f}\".format(\n",
    "                iteration, elapsed, train_values[\"loss\"], test_orbit[\"loss\"], table_orbit[\"loss\"]))"
   ]
  },
  {
   "cell_type": "markdown",
   "metadata": {},
   "source": [
    "## Plots"
   ]
  },
  {
   "cell_type": "code",
   "execution_count": 24,
   "metadata": {},
   "outputs": [
    {
     "data": {
      "text/plain": [
       "Text(0.5, 0, 'iteration')"
      ]
     },
     "execution_count": 24,
     "metadata": {},
     "output_type": "execute_result"
    },
    {
     "data": {
      "image/png": "[encoded data removed]",
      "text/plain": [
       "<Figure size 1296x432 with 3 Axes>"
      ]
     },
     "metadata": {
      "needs_background": "light"
     },
     "output_type": "display_data"
    }
   ],
   "source": [
    "fig, axs = plt.subplots(ncols = 3, nrows = 1, figsize = (18, 6))\n",
    "\n",
    "ax = axs[0]\n",
    "ax.plot(iterations,losses_tr)\n",
    "ax.set_title('Training loss')\n",
    "ax.set_xlabel('iteration')\n",
    "ax.set_yscale('log')\n",
    "ax.set_xscale('log')\n",
    "ax.set_ylabel('Training loss')\n",
    "\n",
    "ax = axs[1]\n",
    "ax.set_title('Test loss')\n",
    "ax.plot(iterations,losses_test)\n",
    "ax.set_yscale('log')\n",
    "ax.set_xscale('log')\n",
    "ax.set_xlabel('iteration')\n",
    "ax.set_ylabel('Test loss')\n",
    "\n",
    "ax = axs[2]\n",
    "ax.set_title('Table loss')\n",
    "ax.plot(iterations,losses_table)\n",
    "ax.set_yscale('log')\n",
    "ax.set_xscale('log')\n",
    "ax.set_xlabel('iteration')\n"
   ]
  },
  {
   "cell_type": "code",
   "execution_count": 25,
   "metadata": {},
   "outputs": [],
   "source": [
    "# Get prediction as numpy array\n",
    "x_pred = test_orbit[\"x_pred\"]\n",
    "#p_pred = test_orbit[\"p_pred\"]\n",
    "f_pred = test_orbit[\"f_pred\"]"
   ]
  },
  {
   "cell_type": "code",
   "execution_count": 38,
   "metadata": {},
   "outputs": [
    {
     "data": {
      "image/png": "[encoded data removed]",
      "text/plain": [
       "<Figure size 2880x720 with 4 Axes>"
      ]
     },
     "metadata": {
      "needs_background": "light"
     },
     "output_type": "display_data"
    }
   ],
   "source": [
    "nsteps_plot = 5000\n",
    "plt.rcParams.update({'font.size': 30})\n",
    "fig, axs =plt.subplots(nrows = 1, ncols = len(planets), figsize = (10*len(planets), 10))\n",
    "\n",
    "periods = np.array([225, 88, 225, 1000])\n",
    "factor = 10*periods\n",
    "\n",
    "axs[0].set_ylabel('Y [km]')\n",
    "for i in range(len(planets)):\n",
    "    ax = axs[i]\n",
    "    \n",
    "    shift = x_traj_np[:,i,0].max()/factor[i]*np.arange(nsteps_plot)\n",
    "    shift = 0\n",
    "\n",
    "    ax.set_title(planets[i].name, fontsize = 32)\n",
    "    ax.scatter(x_traj_np[:nsteps_plot,i,0]+shift, x_traj_np[:nsteps_plot,i,1]+shift, label='Truth')\n",
    "    ax.scatter(x_pred[:nsteps_plot,i,0]+shift, x_pred[:nsteps_plot,i,1]+shift, label='Prediction')\n",
    "    ax.set_xlabel('X [km]')\n",
    "\n",
    "plt.legend();\n",
    "    \n",
    "#plt.savefig('/Users/Pablo/Desktop/orbits')"
   ]
  },
  {
   "cell_type": "code",
   "execution_count": 37,
   "metadata": {},
   "outputs": [
    {
     "data": {
      "text/plain": [
       "<matplotlib.collections.PathCollection at 0x15ce83950>"
      ]
     },
     "execution_count": 37,
     "metadata": {},
     "output_type": "execute_result"
    },
    {
     "data": {
      "image/png": "[encoded data removed]",
      "text/plain": [
       "<Figure size 432x288 with 1 Axes>"
      ]
     },
     "metadata": {
      "needs_background": "light"
     },
     "output_type": "display_data"
    }
   ],
   "source": [
    "plt.scatter(x_traj_np[:nsteps_plot,0,0], x_traj_np[:nsteps_plot,0,1])"
   ]
  },
  {
   "cell_type": "code",
   "execution_count": 35,
   "metadata": {},
   "outputs": [
    {
     "data": {
      "text/plain": [
       "[<matplotlib.lines.Line2D at 0x15ce05910>]"
      ]
     },
     "execution_count": 35,
     "metadata": {},
     "output_type": "execute_result"
    },
    {
     "data": {
      "image/png": "[encoded data removed]",
      "text/plain": [
       "<Figure size 432x288 with 1 Axes>"
      ]
     },
     "metadata": {
      "needs_background": "light"
     },
     "output_type": "display_data"
    }
   ],
   "source": [
    "plt.plot(x_traj_np[:nsteps_plot,0,1])"
   ]
  },
  {
   "cell_type": "code",
   "execution_count": null,
   "metadata": {},
   "outputs": [],
   "source": [
    "nplanets = len(planets_gn)\n",
    "nforce = len(f_pred[0])\n",
    "order = [[0,1], [0,2], [1,2], [0,3], [1,3], [2,3]]\n",
    "#order = [[0,1], [0,2], [1,2]]\n",
    "\n",
    "masses_arr = np.zeros([nplanets, 1])\n",
    "for i in range(nplanets):\n",
    "    masses_arr[i] = planets_gn[i].mass\n",
    "\n",
    "nsteps_table = 1000\n",
    "\n",
    "table = np.zeros([nsteps_table*len(f_pred[0]), 7])\n",
    "it = 0\n",
    "for i in range(nsteps_table):\n",
    "    x = x_pred[i]\n",
    "    dx = get_distances(x, nplanets, as_tensor=False)\n",
    "    for j in range(nforce):\n",
    "        ind = order[j]\n",
    "        #print([planets[ind[0]].mass, planets[ind[1]].mass], dx[j], np.linalg.norm(dx[j]), f_pred[i, j])\n",
    "        table[it] = np.concatenate([[planets[ind[0]].mass, planets[ind[1]].mass], dx[j], [np.linalg.norm(dx[j])], f_pred[i, j]/delta_time])\n",
    "        it+=1\n",
    "    #table[i] =  np.concatenate([masses_arr, dx, f_pred[i]], axis = 1)"
   ]
  },
  {
   "cell_type": "code",
   "execution_count": 41,
   "metadata": {},
   "outputs": [],
   "source": [
    "np.savetxt('/Users/Pablo/Desktop/orbits.txt', table)"
   ]
  },
  {
   "cell_type": "code",
   "execution_count": 56,
   "metadata": {},
   "outputs": [
    {
     "data": {
      "text/plain": [
       "array([[ 1.00000000e+00,  1.65974499e-07, -1.25495222e-13,\n",
       "         2.58386433e-12,  2.58690991e-12, -1.72347613e-02,\n",
       "         3.08284193e-01],\n",
       "       [ 1.00000000e+00,  2.44781087e-06, -2.89144251e-12,\n",
       "         3.87254898e-12,  4.83291552e-12, -7.80550897e-01,\n",
       "         1.01481616e+00],\n",
       "       [ 1.00000000e+00,  3.00374072e-06, -5.38754371e-12,\n",
       "         3.95691899e-12,  6.68452146e-12, -5.93923807e-01,\n",
       "         4.24465984e-01],\n",
       "       [ 1.00000000e+00,  1.65974499e-07, -1.17742106e-13,\n",
       "         2.58422927e-12,  2.58690991e-12, -1.63331758e-02,\n",
       "         3.08635116e-01],\n",
       "       [ 1.00000000e+00,  2.44781087e-06, -2.88700465e-12,\n",
       "         3.87585840e-12,  4.83291552e-12, -7.79535115e-01,\n",
       "         1.01538599e+00]])"
      ]
     },
     "execution_count": 56,
     "metadata": {},
     "output_type": "execute_result"
    }
   ],
   "source": [
    "table[:5]"
   ]
  },
  {
   "cell_type": "code",
   "execution_count": null,
   "metadata": {},
   "outputs": [],
   "source": [
    "input_graph_tr.receivers.eval(session=sess)[:6]"
   ]
  },
  {
   "cell_type": "code",
   "execution_count": 40,
   "metadata": {},
   "outputs": [],
   "source": [
    "nplanets = len(planets_gn)\n",
    "nforce = len(f_pred[0])\n",
    "order = [[0,1], [0,2], [1,2], [0,3], [1,3], [2,3]]\n",
    "#order = [[0,1], [0,2], [1,2]]\n",
    "\n",
    "masses_arr = np.zeros([nplanets, 1])\n",
    "for i in range(nplanets):\n",
    "    masses_arr[i] = planets_gn[i].mass\n",
    "\n",
    "nsteps_table = 2000\n",
    "\n",
    "table = np.zeros([int(nsteps_table*len(f_pred[0])/2), 7])\n",
    "it = 0\n",
    "for i in range(nsteps_table):\n",
    "    x = x_pred[i]\n",
    "    dx = get_distances_old(x, nplanets, as_tensor=False)\n",
    "    for j in range(nforce):\n",
    "        if j in [0,1,3]: #Keep only interactions between sun and planets\n",
    "            #All in units of solar mass, AU, year\n",
    "            ind = order[j]\n",
    "            table[it] = np.concatenate([[\n",
    "                planets[ind[0]].mass/sun.mass, planets[ind[1]].mass/sun.mass], \n",
    "                dx[j]/AU, \n",
    "                [np.linalg.norm(dx[j])/AU], \n",
    "                f_pred[i, j]/delta_time/sun.mass/AU*YEAR**2])\n",
    "            it+=1\n"
   ]
  },
  {
   "cell_type": "code",
   "execution_count": null,
   "metadata": {},
   "outputs": [],
   "source": []
  },
  {
   "cell_type": "code",
   "execution_count": 50,
   "metadata": {},
   "outputs": [],
   "source": [
    "xpt = table_orbit[\"f_pred\"]"
   ]
  },
  {
   "cell_type": "code",
   "execution_count": 54,
   "metadata": {},
   "outputs": [
    {
     "data": {
      "text/plain": [
       "<matplotlib.collections.PathCollection at 0x1603f97d0>"
      ]
     },
     "execution_count": 54,
     "metadata": {},
     "output_type": "execute_result"
    },
    {
     "data": {
      "image/png": "[encoded data removed]",
      "text/plain": [
       "<Figure size 432x288 with 1 Axes>"
      ]
     },
     "metadata": {
      "needs_background": "light"
     },
     "output_type": "display_data"
    }
   ],
   "source": [
    "index = 0\n",
    "plt.scatter(xpt[:,index,0], xpt[:,index,1])"
   ]
  },
  {
   "cell_type": "code",
   "execution_count": 52,
   "metadata": {},
   "outputs": [
    {
     "data": {
      "text/plain": [
       "(199, 50, 2)"
      ]
     },
     "execution_count": 52,
     "metadata": {},
     "output_type": "execute_result"
    }
   ],
   "source": [
    "xpt.shape"
   ]
  },
  {
   "cell_type": "code",
   "execution_count": null,
   "metadata": {},
   "outputs": [],
   "source": []
  },
  {
   "cell_type": "code",
   "execution_count": null,
   "metadata": {},
   "outputs": [],
   "source": []
  },
  {
   "cell_type": "code",
   "execution_count": null,
   "metadata": {},
   "outputs": [],
   "source": []
  },
  {
   "cell_type": "code",
   "execution_count": null,
   "metadata": {},
   "outputs": [],
   "source": []
  },
  {
   "cell_type": "markdown",
   "metadata": {},
   "source": [
    "# DEBUG"
   ]
  },
  {
   "cell_type": "code",
   "execution_count": null,
   "metadata": {},
   "outputs": [],
   "source": [
    "xt = dp_traj_table.numpy()\n",
    "good = tf.reshape(xp_table, shape=x_traj_table.shape).numpy()\n",
    "bad = tf.reshape(dp_traj_table, shape=(num_time_steps_table-1, len(planets_flat), 2)).numpy()"
   ]
  },
  {
   "cell_type": "code",
   "execution_count": null,
   "metadata": {},
   "outputs": [],
   "source": [
    "#a = np.transpose(xt, (1,0,2,3))\n",
    "a = tf.transpose(xt, perm=[1,0,2,3])\n",
    "#good = a.reshape(1999,100,2)\n",
    "good = tf.reshape(a, shape =(1999,100,2) ).numpy()"
   ]
  },
  {
   "cell_type": "code",
   "execution_count": null,
   "metadata": {},
   "outputs": [],
   "source": [
    "plt.scatter(good[:,1,0], good[:,1,1])"
   ]
  },
  {
   "cell_type": "code",
   "execution_count": null,
   "metadata": {},
   "outputs": [],
   "source": [
    "plt.scatter(xt[0,:,1,0], xt[0,:,1,1])\n",
    "#plt.scatter(xt[:,5,0], xt[:,5,1])"
   ]
  },
  {
   "cell_type": "code",
   "execution_count": null,
   "metadata": {},
   "outputs": [],
   "source": [
    "xt = dp_traj_tr.numpy()\n",
    "plt.scatter(xt[0,:,1,0], xt[0,:,1,1])"
   ]
  },
  {
   "cell_type": "code",
   "execution_count": null,
   "metadata": {},
   "outputs": [],
   "source": [
    "dp_table"
   ]
  },
  {
   "cell_type": "code",
   "execution_count": null,
   "metadata": {},
   "outputs": [],
   "source": [
    "# Global constants\n",
    "DAY = 24*3600. # Day in seconds\n",
    "YEAR = 365.25*DAY #Year\n",
    "delta_time = (1/24.)*DAY/YEAR # 1 hour\n",
    "\n",
    "total_time_test = 5000*delta_time\n",
    "num_time_steps_test = int(total_time_test/delta_time)\n",
    "\n",
    "total_time_tr = 200*delta_time\n",
    "num_time_steps_tr = int(total_time_tr/delta_time)\n",
    "\n",
    "batch_size_table = 5\n",
    "#total_time_table = 200*delta_time\n",
    "total_time_table = 20*delta_time\n",
    "num_time_steps_table = int(total_time_table/delta_time)\n",
    "\n",
    "num_processing_steps_tr = 1\n",
    "patience = 10\n",
    "batch_size = 500\n",
    "d_patience = 1e-5\n",
    "#d_patience = 0\n",
    "noise_level = 0.05\n",
    "\n",
    "# How much time between logging and printing the current results.\n",
    "log_every_iterations = 1000\n",
    "num_training_iterations = 100000\n",
    "\n",
    "sun = Body()\n",
    "sun.name = 'Sun'\n",
    "sun.mass = 1. # solar masses\n",
    "sun.pos = np.zeros(3) \n",
    "\n",
    "mercury = Body()\n",
    "mercury.name = 'Mercury'\n",
    "mercury.mass = 0.33011 * 10**24/MSUN # solar masses\n",
    "pos_mercury = 0.387 # AU\n",
    "vel_mercury = get_orbital_velocity(pos_mercury, \n",
    "                                   mercury.mass, \n",
    "                                   sun.mass, \n",
    "                                   G,\n",
    "                                   ellipcity_noise = 0.01\n",
    "                                  )\n",
    "mercury.initiate(pos_mercury, vel_mercury)\n",
    "    \n",
    "venus = Body()\n",
    "venus.name = 'Venus'\n",
    "venus.mass = 4.8685 * 10**24/MSUN # solar masses\n",
    "pos_venus = 0.723 # AU\n",
    "vel_venus = get_orbital_velocity(pos_venus, \n",
    "                                 venus.mass, \n",
    "                                 sun.mass, \n",
    "                                 G,\n",
    "                                ellipcity_noise = 0.01)\n",
    "venus.initiate(pos_venus, vel_venus)\n",
    "    \n",
    "earth = Body()\n",
    "earth.name = 'Earth'\n",
    "earth.mass = 5.9742 * 10**24/MSUN # solar masses\n",
    "pos_earth = 1 # AU\n",
    "vel_earth = get_orbital_velocity(pos_earth, \n",
    "                                 earth.mass, \n",
    "                                 sun.mass, \n",
    "                                 G, \n",
    "                                ellipcity_noise = 0.01)\n",
    "earth.initiate(pos_earth, vel_earth)\n",
    "\n",
    "\n",
    "sun.vel = -(np.array(mercury.vel)*mercury.mass #+ \n",
    "            #np.array(venus.vel)*venus.mass +\n",
    "            #np.array(earth.vel)*earth.mass\n",
    "            )/sun.mass\n",
    "\n",
    "# Center at zero (improves stability)\n",
    "sun.pos = -(np.array(mercury.pos)*mercury.mass #+ \n",
    "            #np.array(venus.pos)*venus.mass +\n",
    "            #np.array(earth.pos)*earth.mass\n",
    "            )/sun.mass\n",
    "#sun.pos = np.zeros(3)\n",
    "\n",
    "planets = [sun, mercury]#, venus, earth]\n",
    "nplanets = len(planets)\n",
    "    \n",
    "planets_gn = deepcopy(planets)\n",
    "\n",
    "simulate(planets, total_time_test, delta_time)\n",
    "\n",
    "x_traj_np, p_traj_np = get_trajectory(planets, num_time_steps_test)\n",
    "dp_traj_np = p_traj_np[1:] - p_traj_np[:-1]\n",
    "\n",
    "dp_traj_norm = tf.convert_to_tensor(\n",
    "    dp_traj_np/np.std(dp_traj_np), dtype=np.float32)\n",
    "\n",
    "p_norm = np.std(dp_traj_np)\n",
    "\n",
    "x_traj_test = tf.convert_to_tensor(x_traj_np, dtype=np.float32)\n",
    "p_traj_test = tf.convert_to_tensor(p_traj_np, dtype=np.float32)\n",
    "\n",
    "input_dict_test = get_input_graph(planets, x_traj_test, 0, noise_level = 0)\n",
    "\n",
    "input_graph_test = utils_tf.data_dicts_to_graphs_tuple([input_dict_test])\n",
    "input_graph_test_old = utils_tf.data_dicts_to_graphs_tuple([input_dict_test])"
   ]
  },
  {
   "cell_type": "code",
   "execution_count": null,
   "metadata": {},
   "outputs": [],
   "source": [
    "planets_table = []\n",
    "for i in range(batch_size_table):\n",
    "    planets_table.append(generate_random_planets())\n",
    "    \n",
    "x_traj_table, dp_traj_table, p_traj_table = generate_batch(\n",
    "    planets_table, total_time_table, delta_time, batch_size_table, norm_factor = p_norm, ellipcity_noise = 0.01)\n",
    "\n",
    "# Integration (table)\n",
    "input_dict_table= []\n",
    "for i in range(batch_size_table):\n",
    "    input_dict_table.append(get_input_graph(planets_table[i], x_traj_table[i], 0, noise_level = 0))\n",
    "    \n",
    "input_graph_table = utils_tf.data_dicts_to_graphs_tuple(input_dict_table)\n",
    "\n",
    "x_traj_table[:,0]\n",
    "x0_table = tf.reshape(x_traj_table[:,0], shape=(len(planets_flat),2))"
   ]
  },
  {
   "cell_type": "code",
   "execution_count": null,
   "metadata": {},
   "outputs": [],
   "source": [
    "tf.reshape(dp_traj_table, shape=(num_time_steps_table-1, len(planets_flat), 2))"
   ]
  },
  {
   "cell_type": "code",
   "execution_count": null,
   "metadata": {},
   "outputs": [],
   "source": [
    "tf.reshape(dp_traj_table[:,t], shape=[batch_size_table*2, 2])"
   ]
  },
  {
   "cell_type": "code",
   "execution_count": null,
   "metadata": {},
   "outputs": [],
   "source": [
    "xpt = test_orbit[\"x_pred\"]"
   ]
  },
  {
   "cell_type": "code",
   "execution_count": null,
   "metadata": {},
   "outputs": [],
   "source": [
    "xtt = x_traj_table.eval(session=sess)"
   ]
  },
  {
   "cell_type": "code",
   "execution_count": null,
   "metadata": {},
   "outputs": [],
   "source": [
    "xtt.shape"
   ]
  },
  {
   "cell_type": "code",
   "execution_count": null,
   "metadata": {},
   "outputs": [],
   "source": [
    "plt.scatter(xtt)"
   ]
  }
 ],
 "metadata": {
  "kernelspec": {
   "display_name": "Python [conda env:conda-env] *",
   "language": "python",
   "name": "conda-env-conda-env-py"
  },
  "language_info": {
   "codemirror_mode": {
    "name": "ipython",
    "version": 3
   },
   "file_extension": ".py",
   "mimetype": "text/x-python",
   "name": "python",
   "nbconvert_exporter": "python",
   "pygments_lexer": "ipython3",
   "version": "3.7.6"
  }
 },
 "nbformat": 4,
 "nbformat_minor": 2
}
