{
 "cells": [
  {
   "cell_type": "code",
   "execution_count": 1,
   "metadata": {},
   "outputs": [
    {
     "name": "stderr",
     "output_type": "stream",
     "text": [
      "Using TensorFlow backend.\n"
     ]
    }
   ],
   "source": [
    "import numpy as np\n",
    "from matplotlib import pyplot as plt\n",
    "import time\n",
    "import sys\n",
    "\n",
    "import pandas as pd\n",
    "import tensorflow as tf\n",
    "from tensorflow import keras\n",
    "from tensorflow.keras import layers\n",
    "\n",
    "import tensorflow_docs as tfdocs\n",
    "import tensorflow_docs.plots\n",
    "import tensorflow_docs.modeling\n",
    "\n",
    "from keras.layers import Dense, Dropout, LeakyReLU, Input\n",
    "from keras.layers import concatenate, BatchNormalization\n",
    "from keras.models import Model\n",
    "from keras import optimizers\n",
    "\n",
    "import integrator"
   ]
  },
  {
   "cell_type": "markdown",
   "metadata": {},
   "source": [
    "# Learn Force"
   ]
  },
  {
   "cell_type": "markdown",
   "metadata": {},
   "source": [
    "##  Helper Functions"
   ]
  },
  {
   "cell_type": "code",
   "execution_count": 2,
   "metadata": {},
   "outputs": [],
   "source": [
    "def read_data(path='./orbits/planet_0.npy'):\n",
    "    ''' \n",
    "    Reads the data file and returns positions, momenta, and number of samples\n",
    "    \n",
    "    Parameters\n",
    "    ----------\n",
    "    path : str\n",
    "        The path to the file (must have dimensions (body, time_step, coordinate), \\\n",
    "                  where coordinate is (x, y, z, vx, vy, vz))\n",
    "\n",
    "    Returns\n",
    "    -------\n",
    "    X: float(nsamples, 4)\n",
    "        Particle positions\n",
    "    P: float(nsamples, 2)\n",
    "        Mercury's momentum\n",
    "    nsamples: int\n",
    "        The number of samples\n",
    "    '''\n",
    "    try:\n",
    "        orbits = np.load(path)\n",
    "    except:\n",
    "        sys.exit('No File found. Please provide Path to file')\n",
    " \n",
    "    try:  \n",
    "        _, nsamples, _ = orbits.shape\n",
    "    except:\n",
    "        sys.exit('File should have dimensions (body, time_step, coordinate), \\\n",
    "                  where coordinate is (x, y, z, vx, vy, vz)')\n",
    "\n",
    "    # Create empty arrays for positions, distances and velocities (X, D, P)\n",
    "    X=np.empty([nsamples, 4]) # x1, y1, x2, y2\n",
    "    P=np.empty([nsamples, 2]) # px,  py (Mercury's momentum, Sun's momentum is -p)\n",
    "\n",
    "    # Get positions\n",
    "    X1 = orbits[0,:,0].T\n",
    "    Y1 = orbits[0,:,1].T\n",
    "    X2 = orbits[1,:,0].T\n",
    "    Y2 = orbits[1,:,1].T\n",
    "    X[:,0] = X1\n",
    "    X[:,1] = Y1\n",
    "    X[:,2] = X2\n",
    "    X[:,3] = Y2\n",
    "\n",
    "    # Get planets's momentum\n",
    "    P[:,0] = orbits[1,:,3].T\n",
    "    P[:,1] = orbits[1,:,4].T\n",
    "    P *= M_MERC\n",
    "\n",
    "    return X, P, nsamples\n",
    "\n",
    "def generate_dataset(npoints, D, dP_red, noise_level = 0.05):\n",
    "    ''' Generates a dataset that is then fed to the MLP\n",
    "    \n",
    "    Parameters\n",
    "    ----------\n",
    "    npoints: int\n",
    "        The number of training points that will be generated\n",
    "    D: float(nsamples, 2)\n",
    "        The distances between planets (Dx, Dy)\n",
    "    dP_red: float(nsamples-1, 2)\n",
    "        The momentum update at each point, normalized. \n",
    "    noise level: float\n",
    "        The fractional magnitude of the noise introduced. Defaults to 0.05\n",
    "        \n",
    "    Returns\n",
    "    -------\n",
    "    X_out, Y_out: float(nsamples, 2)\n",
    "        The input and output that will be used by the MLP\n",
    "    '''\n",
    "    X_out = np.zeros([npoints, 2])\n",
    "    Y_out = np.zeros([npoints, 2])\n",
    "    ran = range(1, nsamples-1, 1)\n",
    "    indices = np.random.choice(ran, size = npoints)\n",
    "    if noise_level > 0: X_noise = np.random.normal(0, noise_level, X_out.shape)\n",
    "\n",
    "    for i in range(npoints):\n",
    "        X_out[i] =  D[indices[i]]\n",
    "        Y_out[i] =  dP_red[indices[i]]\n",
    "\n",
    "    if noise_level>0: X_out += X_out*X_noise\n",
    "\n",
    "    return X_out, Y_out"
   ]
  },
  {
   "cell_type": "markdown",
   "metadata": {},
   "source": [
    "### Model"
   ]
  },
  {
   "cell_type": "code",
   "execution_count": 3,
   "metadata": {},
   "outputs": [],
   "source": [
    "class simple_leaky:\n",
    "    \"\"\"\n",
    "    A simple MLP with LeakyReLU activation\n",
    "    \"\"\"\n",
    "    \n",
    "    def __init__(self, input_size, output_size, learning_rate=None):\n",
    "        \"\"\"\n",
    "        Initialisation\n",
    "        :param map_size: size of square image (there are map_size**2 pixels)\n",
    "        :param learning_rate: learning rate for the optimizer\n",
    "        \"\"\"\n",
    "        self.input_size = input_size\n",
    "        self.learning_rate = learning_rate\n",
    "        self.output_size = output_size\n",
    "        \n",
    "    def model(self):\n",
    "        print(self.input_size)\n",
    "        \n",
    "        input_data = (Input(shape=(self.input_size,)))\n",
    "\n",
    "        x1 = Dense(100, input_dim=self.input_size, kernel_initializer='normal')(input_data)\n",
    "        x1 = LeakyReLU(alpha=0.1)(x1)\n",
    "        x2 = Dense(100, kernel_initializer='normal')(x1)\n",
    "        x2 = LeakyReLU(alpha=0.1)(x2)\n",
    "        # x2 = Dropout(0.5)(x2)\n",
    "        x3 = Dense(100, kernel_initializer='normal')(x2)\n",
    "        x3 = LeakyReLU(alpha=0.1)(x3)\n",
    "        x3 = Dense(100, kernel_initializer='normal')(x3)\n",
    "        x3 = LeakyReLU(alpha=0.1)(x3)\n",
    "        # x3 = Dropout(0.5)(x3)\n",
    "        x4 = Dense(self.output_size, kernel_initializer='normal')(x3)\n",
    "        \n",
    "\n",
    "        dense_model = Model(input_data, x4)\n",
    "        dense_model.summary()\n",
    "\n",
    "        if self.learning_rate is None:\n",
    "            # dense_model.compile(optimizer='adam', loss='mse')\n",
    "            dense_model.compile(optimizer='adam', loss='mean_absolute_error')\n",
    "        else:\n",
    "            dense_model.compile(optimizer=optimizers.Adam(lr=self.learning_rate), loss='mean_absolute_error')\n",
    "\n",
    "        return dense_model"
   ]
  },
  {
   "cell_type": "markdown",
   "metadata": {},
   "source": [
    "## Prepare Data"
   ]
  },
  {
   "cell_type": "code",
   "execution_count": 4,
   "metadata": {},
   "outputs": [],
   "source": [
    "# Global constants\n",
    "DAY = 24*3600. # Day in seconds\n",
    "YEAR = 365.25*DAY #Year\n",
    "M_SUN = 1.98892 * 10**30 # kg\n",
    "M_MERC = 0.33011 * 10**24 #kg\n",
    "DELTA_TIME = 0.1*DAY/YEAR\n",
    "\n",
    "# Read data\n",
    "X, P, nsamples = read_data()\n",
    "\n",
    "# Planet distances\n",
    "D = X[:,2:] - X[:,:2]\n",
    "\n",
    "# Momentum difference\n",
    "dP = P[1:] - P[:-1]\n",
    "\n",
    "# Normalize the planet's momentum difference\n",
    "STD_P = np.std(dP)\n",
    "dP_red = dP/STD_P# Fitting parameters\n",
    "\n",
    "npoints_training=100000\n",
    "npoints_test=5000\n",
    "noise_level = 0.05 # How much to perturb the points being learned\n",
    "EPOCHS = 1000\n",
    "patience = 20\n",
    "\n",
    "# Get train and test data\n",
    "X_train, Y_train = generate_dataset(\n",
    "    npoints_training, D, dP_red, noise_level)\n",
    "X_test, Y_test = generate_dataset(\n",
    "    npoints_test, D, dP_red, noise_level = 0)\n",
    "\n",
    "# Convert data to Pandas arrays\n",
    "train_dataset = pd.DataFrame(X_train, columns=[\"dx\", \"dy\"])\n",
    "train_labels = pd.DataFrame(Y_train, columns=[\"dPx_merc\", \"dPy_merc\"])\n",
    "test_dataset = pd.DataFrame(X_test, columns=[\"dx\", \"dy\"])\n",
    "test_labels = pd.DataFrame(Y_test, columns=[\"dPx_merc\", \"dPy_merc\"])\n"
   ]
  },
  {
   "cell_type": "markdown",
   "metadata": {},
   "source": [
    "# Fit Data"
   ]
  },
  {
   "cell_type": "code",
   "execution_count": 5,
   "metadata": {},
   "outputs": [
    {
     "name": "stdout",
     "output_type": "stream",
     "text": [
      "2\n",
      "WARNING:tensorflow:From /usr/local/lib/python3.7/site-packages/tensorflow_core/python/ops/resource_variable_ops.py:1630: calling BaseResourceVariable.__init__ (from tensorflow.python.ops.resource_variable_ops) with constraint is deprecated and will be removed in a future version.\n",
      "Instructions for updating:\n",
      "If using Keras pass *_constraint arguments to layers.\n",
      "Model: \"model_1\"\n",
      "_________________________________________________________________\n",
      "Layer (type)                 Output Shape              Param #   \n",
      "=================================================================\n",
      "input_1 (InputLayer)         (None, 2)                 0         \n",
      "_________________________________________________________________\n",
      "dense_1 (Dense)              (None, 100)               300       \n",
      "_________________________________________________________________\n",
      "leaky_re_lu_1 (LeakyReLU)    (None, 100)               0         \n",
      "_________________________________________________________________\n",
      "dense_2 (Dense)              (None, 100)               10100     \n",
      "_________________________________________________________________\n",
      "leaky_re_lu_2 (LeakyReLU)    (None, 100)               0         \n",
      "_________________________________________________________________\n",
      "dense_3 (Dense)              (None, 100)               10100     \n",
      "_________________________________________________________________\n",
      "leaky_re_lu_3 (LeakyReLU)    (None, 100)               0         \n",
      "_________________________________________________________________\n",
      "dense_4 (Dense)              (None, 100)               10100     \n",
      "_________________________________________________________________\n",
      "leaky_re_lu_4 (LeakyReLU)    (None, 100)               0         \n",
      "_________________________________________________________________\n",
      "dense_5 (Dense)              (None, 2)                 202       \n",
      "=================================================================\n",
      "Total params: 30,802\n",
      "Trainable params: 30,802\n",
      "Non-trainable params: 0\n",
      "_________________________________________________________________\n",
      "WARNING:tensorflow:From /usr/local/lib/python3.7/site-packages/keras/backend/tensorflow_backend.py:422: The name tf.global_variables is deprecated. Please use tf.compat.v1.global_variables instead.\n",
      "\n",
      "\n",
      "Epoch: 0, loss:0.0396,  val_loss:0.0293,  \n",
      "....................................................................................................\n",
      "Epoch: 100, loss:0.0173,  val_loss:0.0196,  \n",
      "....................................................................................................\n",
      "Epoch: 200, loss:0.0168,  val_loss:0.0174,  \n",
      "........................."
     ]
    }
   ],
   "source": [
    "#@title Fit { form-width: \"30%\" }\n",
    "\n",
    "model_instance = simple_leaky(\n",
    "    train_dataset.shape[1], train_labels.shape[1], learning_rate=1e-3)\n",
    "model = model_instance.model()\n",
    "\n",
    "# The patience parameter is the amount of epochs to check for improvement\n",
    "early_stop = keras.callbacks.EarlyStopping(monitor='loss', patience=patience)\n",
    "\n",
    "early_history = model.fit(train_dataset, train_labels, \n",
    "                    epochs=EPOCHS, validation_split = 0.1, verbose=0, \n",
    "                    callbacks=[early_stop, tfdocs.modeling.EpochDots()])"
   ]
  },
  {
   "cell_type": "markdown",
   "metadata": {},
   "source": [
    "# Performance Plots"
   ]
  },
  {
   "cell_type": "code",
   "execution_count": 6,
   "metadata": {},
   "outputs": [
    {
     "data": {
      "image/png": "[encoded data removed]",
      "text/plain": [
       "<Figure size 432x288 with 1 Axes>"
      ]
     },
     "metadata": {
      "needs_background": "light"
     },
     "output_type": "display_data"
    },
    {
     "data": {
      "image/png": "[encoded data removed]",
      "text/plain": [
       "<Figure size 864x432 with 2 Axes>"
      ]
     },
     "metadata": {
      "needs_background": "light"
     },
     "output_type": "display_data"
    },
    {
     "data": {
      "text/plain": [
       "<matplotlib.lines.Line2D at 0x143b8b710>"
      ]
     },
     "execution_count": 6,
     "metadata": {},
     "output_type": "execute_result"
    },
    {
     "data": {
      "image/png": "[encoded data removed]",
      "text/plain": [
       "<Figure size 864x432 with 2 Axes>"
      ]
     },
     "metadata": {
      "needs_background": "light"
     },
     "output_type": "display_data"
    }
   ],
   "source": [
    "# Get test predictions\n",
    "test_predictions = model.predict(test_dataset)\n",
    "z = np.arange(len(test_predictions[:,0]))\n",
    "zz = np.arange(-1.5, 1.5, 0.01)\n",
    "\n",
    "# Loss\n",
    "fig = plt.figure()\n",
    "plotter = tfdocs.plots.HistoryPlotter(smoothing_std=2)\n",
    "plotter.plot({'Early Stopping': early_history}, metric = \"loss\")\n",
    "plt.ylabel('Loss')\n",
    "plt.show()\n",
    "\n",
    "# Predicted v Truth\n",
    "fig, [ax1, ax2] = plt.subplots(1, 2, sharey=True, figsize=(12, 6))\n",
    "fig.subplots_adjust(wspace=0.)\n",
    "\n",
    "ax1.set_xlabel('Truth')\n",
    "ax1.set_title('$P_x$')\n",
    "ax1.set_ylabel('Predicted')\n",
    "\n",
    "ax2.set_xlabel('Truth')\n",
    "ax2.set_title('$P_y$')\n",
    "\n",
    "ax1.scatter(\n",
    "    test_labels[\"dPx_merc\"].values, test_predictions[:,0],marker = '.')\n",
    "ax1.plot(zz,zz,ls='--', color='k')\n",
    "\n",
    "ax2.scatter(\n",
    "    test_labels[\"dPy_merc\"].values, test_predictions[:,1],marker = '.')\n",
    "ax2.plot(zz,zz,ls='--', color='k')\n",
    "plt.show()\n",
    "\n",
    "# Predicted v Truth (Percent errors)\n",
    "fig, [ax1, ax2] = plt.subplots(1, 2, sharey=True, figsize=(12, 6))\n",
    "fig.subplots_adjust(wspace=0.)\n",
    "\n",
    "ax1.set_xlabel('sample #')\n",
    "ax1.set_title('$P_x$')\n",
    "ax1.set_ylabel('$\\%$ error')\n",
    "\n",
    "ax2.set_xlabel('sample #')\n",
    "ax2.set_title('$P_y$')\n",
    "\n",
    "ax1.scatter(\n",
    "    z, (test_predictions[:,0]-test_labels[\"dPx_merc\"].values\n",
    "        )/test_labels[\"dPx_merc\"].values,marker = '.')\n",
    "ax1.axhline(0, ls = '--', color = 'k')\n",
    "\n",
    "ax2.scatter(\n",
    "    z, (test_predictions[:,1]-test_labels[\"dPy_merc\"].values\n",
    "        )/test_labels[\"dPy_merc\"].values,marker = '.')\n",
    "ax2.axhline(0, ls = '--', color = 'k')"
   ]
  },
  {
   "cell_type": "markdown",
   "metadata": {},
   "source": [
    "# Integrator"
   ]
  },
  {
   "cell_type": "code",
   "execution_count": 7,
   "metadata": {},
   "outputs": [],
   "source": [
    "def mlp(X):\n",
    "    pred = model.predict(X[np.newaxis])\n",
    "    dp = pred*STD_P\n",
    "    return dp"
   ]
  },
  {
   "cell_type": "code",
   "execution_count": 8,
   "metadata": {},
   "outputs": [],
   "source": [
    "# Number of integration steps\n",
    "nsteps = 5000\n",
    "\n",
    "x_pred, dp_pred = integrator.integrate_leapfrog(\n",
    "    X0 = X[0], \n",
    "    P0 = P[0], \n",
    "    dt = DELTA_TIME, \n",
    "    m1 = M_SUN, \n",
    "    m2 = M_MERC, \n",
    "    nsteps = nsteps, \n",
    "    model = mlp)"
   ]
  },
  {
   "cell_type": "code",
   "execution_count": 9,
   "metadata": {},
   "outputs": [
    {
     "data": {
      "text/plain": [
       "<matplotlib.legend.Legend at 0x143bc7950>"
      ]
     },
     "execution_count": 9,
     "metadata": {},
     "output_type": "execute_result"
    },
    {
     "data": {
      "image/png": "[encoded data removed]",
      "text/plain": [
       "<Figure size 432x288 with 1 Axes>"
      ]
     },
     "metadata": {
      "needs_background": "light"
     },
     "output_type": "display_data"
    }
   ],
   "source": [
    "#@title Plot Predicted v True trajectories { form-width: \"30%\" }\n",
    "\n",
    "shift = 0.5/880*np.arange(nsteps)\n",
    "\n",
    "fig = plt.figure()\n",
    "plt.scatter(X[:nsteps,2]+shift, X[:nsteps,3]+shift, marker ='o', label = 'true', color='blue')\n",
    "plt.scatter(x_pred[:nsteps,2]+shift, x_pred[:nsteps,3]+shift, marker ='.', label = 'predicted', color='orange')\n",
    "plt.xlabel('X')\n",
    "plt.ylabel('Y')\n",
    "plt.title(\"Mercury's Orbit\")\n",
    "plt.legend()\n",
    "#plt.savefig('orbits.pdf')"
   ]
  },
  {
   "cell_type": "code",
   "execution_count": 10,
   "metadata": {},
   "outputs": [
    {
     "data": {
      "text/plain": [
       "(100000, 4)"
      ]
     },
     "execution_count": 10,
     "metadata": {},
     "output_type": "execute_result"
    }
   ],
   "source": [
    "X.shape"
   ]
  },
  {
   "cell_type": "markdown",
   "metadata": {},
   "source": [
    "# To do:\n",
    "\n",
    "- Clean up code and merge it with other existing code in the repo\n",
    "- Add a third planet\n",
    "- Convert to GraphNets"
   ]
  }
 ],
 "metadata": {
  "kernelspec": {
   "display_name": "Python 3",
   "language": "python",
   "name": "python3"
  },
  "language_info": {
   "codemirror_mode": {
    "name": "ipython",
    "version": 3
   },
   "file_extension": ".py",
   "mimetype": "text/x-python",
   "name": "python",
   "nbconvert_exporter": "python",
   "pygments_lexer": "ipython3",
   "version": "3.7.6"
  }
 },
 "nbformat": 4,
 "nbformat_minor": 4
}
