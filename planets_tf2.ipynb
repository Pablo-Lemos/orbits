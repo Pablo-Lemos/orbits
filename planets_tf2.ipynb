{
 "cells": [
  {
   "cell_type": "markdown",
   "metadata": {},
   "source": [
    "This works really well! Tomorrow, first thing, is to upload to GitHub! \n",
    "\n",
    "Then, I will try to change my model to overriide the train_step and test_step functions as explained here: \n",
    "\n",
    "https://www.tensorflow.org/guide/keras/customizing_what_happens_in_fit\n",
    "\n",
    "Then I can just run model.compile and model.fit! I can also easily add things like early stopping"
   ]
  },
  {
   "cell_type": "code",
   "execution_count": 1,
   "metadata": {},
   "outputs": [],
   "source": [
    "import numpy as np\n",
    "import tensorflow as tf\n",
    "import graph_nets as gn\n",
    "import sonnet as snt\n",
    "import matplotlib.pyplot as plt"
   ]
  },
  {
   "cell_type": "markdown",
   "metadata": {},
   "source": [
    "Global Constants"
   ]
  },
  {
   "cell_type": "code",
   "execution_count": 2,
   "metadata": {},
   "outputs": [],
   "source": [
    "# Global constants\n",
    "DAY = 24*3600. # Day in seconds\n",
    "YEAR = 365.25*DAY #Year\n",
    "delta_time = (2/24.)*DAY/YEAR # 1 hour\n",
    "MSUN = 1.98892e+30\n",
    "MEARTH = 5.9742e+24"
   ]
  },
  {
   "cell_type": "markdown",
   "metadata": {},
   "source": [
    "Helper functions"
   ]
  },
  {
   "cell_type": "code",
   "execution_count": 3,
   "metadata": {},
   "outputs": [],
   "source": [
    "#def shuffle_data(X):\n",
    "#    indices = np.random.permutation(np.arange(len(X)))\n",
    "#    Y = np.empty(X.shape)\n",
    "#    for i in range(len(X)):\n",
    "#        Y[i] = X[indices[i]]       \n",
    "#    return Y\n",
    "\n",
    "def reshape_senders_receivers(senders, receivers, batch_size, nplanets, nedges):\n",
    "    ''' Reshape receivers and senders to use in graph'''\n",
    "    x = np.arange(batch_size)\n",
    "    xx = x.reshape(batch_size,1)\n",
    "    y = np.ones(nedges)\n",
    "    z = np.reshape(xx+y-1, batch_size*nedges)*nplanets\n",
    "\n",
    "    senders = np.concatenate([senders]*batch_size) + z\n",
    "    receivers = np.concatenate([receivers]*batch_size) + z\n",
    "    \n",
    "    return senders, receivers"
   ]
  },
  {
   "cell_type": "markdown",
   "metadata": {},
   "source": [
    "Training variables"
   ]
  },
  {
   "cell_type": "code",
   "execution_count": 4,
   "metadata": {},
   "outputs": [],
   "source": [
    "# Training variables\n",
    "batch_size_tr = 75\n",
    "patience = 5\n",
    "d_patience = 0\n",
    "noise_level = 0.05\n",
    "log_every_iterations = 1000\n",
    "num_training_iterations = 200000\n",
    "\n",
    "# Do not change this\n",
    "total_time_traj = 20 #Years\n",
    "num_time_steps_total = int(total_time_traj/delta_time)\n",
    "num_time_steps_tr = 75000 \n",
    "#num_time_steps_val = int(total_time_traj/delta_time) - num_time_steps_tr"
   ]
  },
  {
   "cell_type": "markdown",
   "metadata": {},
   "source": [
    "Read the data"
   ]
  },
  {
   "cell_type": "code",
   "execution_count": 5,
   "metadata": {},
   "outputs": [],
   "source": [
    "orbit_sun = np.loadtxt('nasa_orbits/sun_center/sun.txt', usecols = [2,3,4, 5, 6, 7], unpack=True, delimiter=',')\n",
    "orbit_mercury = np.loadtxt('nasa_orbits/sun_center/mercury.txt', usecols = [2,3,4, 5, 6, 7], unpack=True, delimiter=',')\n",
    "orbit_venus = np.loadtxt('nasa_orbits/sun_center/venus.txt', usecols = [2,3,4, 5, 6, 7], unpack=True, delimiter=',')"
   ]
  },
  {
   "cell_type": "code",
   "execution_count": 6,
   "metadata": {},
   "outputs": [],
   "source": [
    "masses = np.array([MSUN/MEARTH, \n",
    "          0.33011 * 10**24/MEARTH,\n",
    "          4.8685 * 10**24/MEARTH\n",
    "          ])\n",
    "\n",
    "nplanets = len(masses)\n",
    "nedges = nplanets*(nplanets-1)//2"
   ]
  },
  {
   "cell_type": "code",
   "execution_count": 7,
   "metadata": {},
   "outputs": [],
   "source": [
    "data = np.stack([orbit_sun, \n",
    "                 orbit_mercury, \n",
    "                 orbit_venus,\n",
    "                ])\n",
    "data = data.transpose(2,0,1)\n",
    "\n",
    "# Change frame of reference to the barycenter of the planets we are using\n",
    "P = masses[np.newaxis, :, np.newaxis]*data[:,:,3:]\n",
    "V_ref = np.sum(P, axis = 1,keepdims=True)/np.sum(masses)\n",
    "data[:,:,3:] -= V_ref\n",
    "\n",
    "A = data[1:,:,3:] - data[:-1,:,3:]\n",
    "data[:-1, :, 3:] = A \n",
    "data = data[:-1]\n",
    "\n",
    "# Split into training and validation\n",
    "data_tr = data[:num_time_steps_tr]\n",
    "data_val = data[num_time_steps_tr:]\n",
    "\n",
    "num_time_steps_val = len(data_val)\n",
    "\n",
    "# Shuffle the data\n",
    "np.random.shuffle(data_tr)\n",
    "np.random.shuffle(data_val)\n",
    "\n",
    "D_tr = np.empty([len(data_tr), nedges, 3])\n",
    "D_val = np.empty([len(data_val), nedges, 3])\n",
    "k=0\n",
    "senders, receivers = [], []\n",
    "for i in range(nplanets):\n",
    "    for j in range(nplanets):\n",
    "        if i > j:\n",
    "            d_tr = data_tr[:,j,:3] - data_tr[:,i,:3]\n",
    "            d_val = data_val[:,j,:3] - data_val[:,i,:3]\n",
    "            D_tr[:,k,:] = d_tr#cartesian_to_spherical_coordinates(d_tr)\n",
    "            D_val[:,k,:] = d_val #cartesian_to_spherical_coordinates(d_val)\n",
    "            \n",
    "            k+=1 \n",
    "            receivers.append(i)\n",
    "            senders.append(j)\n",
    "\n",
    "A_tr = data_tr[:,:,3:]\n",
    "A_val = data_val[:,:,3:]\n",
    "A_norm =np.std(A_tr) \n",
    "\n",
    "D_tr_flat = tf.reshape(D_tr[:,:,:], shape = [num_time_steps_tr*nedges, 3])\n",
    "num_time_steps_val = len(A_val)\n",
    "D_val_flat = tf.reshape(D_val[:,:,:], shape = [num_time_steps_val*nedges, 3])\n",
    "\n",
    "D_tr = tf.convert_to_tensor(D_tr_flat)\n",
    "A_tr = tf.convert_to_tensor(A_tr/A_norm)\n",
    "D_tr_batches = tf.split(D_tr,  1000)\n",
    "A_tr_batches = tf.split(A_tr,  1000)\n",
    "\n",
    "D_val = tf.convert_to_tensor(D_val[:-1,:,:])\n",
    "A_val = tf.convert_to_tensor(A_val/A_norm)\n",
    "\n",
    "nodes_tr = np.concatenate([np.log(masses)]*batch_size_tr)[:,np.newaxis]\n",
    "nodes_val = np.concatenate([np.log(masses)]*num_time_steps_val)[:,np.newaxis]\n",
    "\n",
    "senders_tr, receivers_tr = reshape_senders_receivers(senders, receivers, batch_size_tr, nplanets, nedges)\n",
    "senders_val, receivers_val = reshape_senders_receivers(senders, receivers, num_time_steps_val, nplanets, nedges)"
   ]
  },
  {
   "cell_type": "code",
   "execution_count": 8,
   "metadata": {},
   "outputs": [],
   "source": [
    "#nplanets, _, ntime = X.shape\n",
    "class LearnForces(tf.keras.Model):\n",
    "    def __init__(self):\n",
    "        super(LearnForces, self).__init__()\n",
    "        self.nplanets = nplanets\n",
    "        \n",
    "        #m_init = tf.random_normal_initializer()\n",
    "        #self.m = tf.Variable(\n",
    "        #    initial_value=m_init(shape=(self.nplanets,), dtype=\"float32\"),\n",
    "        #    trainable=True,\n",
    "        #)\n",
    "        \n",
    "        self.graph_network = gn.blocks.EdgeBlock(\n",
    "            #edge_model_fn=lambda: snt.Linear(output_size=3),\n",
    "            edge_model_fn=lambda: snt.nets.MLP([32, 32, 3]), \n",
    "            use_edges = True,\n",
    "            use_receiver_nodes = True,\n",
    "            use_sender_nodes = True,\n",
    "            use_globals = False,\n",
    "        )\n",
    "\n",
    "    def sum_forces(self, graph):\n",
    "        b1_tr = gn.blocks.ReceivedEdgesToNodesAggregator(reducer = tf.math.unsorted_segment_sum)(graph)\n",
    "        b2_tr = gn.blocks.SentEdgesToNodesAggregator(reducer = tf.math.unsorted_segment_sum)(graph)\n",
    "        summed_forces = b1_tr-b2_tr\n",
    "        return summed_forces\n",
    "            \n",
    "    def get_acceleration(self, forces, graph):\n",
    "        acceleration_tr = tf.divide(forces, tf.exp(graph.nodes))\n",
    "        output_ops_tr = tf.reshape(acceleration_tr, shape=[self.ntime, self.nplanets, 3])\n",
    "        return output_ops_tr\n",
    "        \n",
    "    def call(self, g):\n",
    "        self.ntime = len(g.nodes)//nplanets\n",
    "        g = self.graph_network(g)\n",
    "        f = self.sum_forces(g)\n",
    "        a = self.get_acceleration(f, g)\n",
    "        return a\n"
   ]
  },
  {
   "cell_type": "code",
   "execution_count": 9,
   "metadata": {},
   "outputs": [],
   "source": [
    "optimizer = tf.keras.optimizers.Adam(learning_rate=0.001)\n",
    "loss_fn = tf.keras.losses.MeanAbsoluteError()\n",
    "\n",
    "train_loss = tf.keras.metrics.Mean(name='train_loss')\n",
    "test_loss = tf.keras.metrics.MeanAbsoluteError(name='test_loss')\n",
    "\n",
    "model = LearnForces()"
   ]
  },
  {
   "cell_type": "code",
   "execution_count": 10,
   "metadata": {},
   "outputs": [],
   "source": [
    "@tf.function\n",
    "def train_step(D, A):\n",
    "\n",
    "    graph_dict = { \n",
    "          \"nodes\": nodes_tr,\n",
    "          \"edges\": D, \n",
    "          \"receivers\": receivers_tr, \n",
    "          \"senders\": senders_tr \n",
    "           } \n",
    "    \n",
    "    g = gn.utils_tf.data_dicts_to_graphs_tuple([graph_dict])\n",
    "    \n",
    "    with tf.GradientTape() as tape:\n",
    "        predictions = model(g)\n",
    "        loss = loss_fn(A, predictions)\n",
    "    gradients = tape.gradient(loss, model.graph_network.trainable_variables)\n",
    "    optimizer.apply_gradients(zip(gradients, model.graph_network.trainable_variables))\n",
    "\n",
    "    train_loss(loss)"
   ]
  },
  {
   "cell_type": "code",
   "execution_count": 11,
   "metadata": {},
   "outputs": [],
   "source": [
    "@tf.function\n",
    "def test_step(D, A):\n",
    "    graph_dict = { \n",
    "          \"nodes\": nodes_val,\n",
    "          \"edges\": D, \n",
    "          \"receivers\": receivers_val,\n",
    "          \"senders\": senders_val \n",
    "           } \n",
    "    \n",
    "    g = gn.utils_tf.data_dicts_to_graphs_tuple([graph_dict])\n",
    "    \n",
    "    predictions = model(g)\n",
    "\n",
    "    test_loss(A, predictions)"
   ]
  },
  {
   "cell_type": "code",
   "execution_count": 12,
   "metadata": {},
   "outputs": [
    {
     "name": "stdout",
     "output_type": "stream",
     "text": [
      "Epoch 1, Loss: 0.28060176968574524, Test Loss: 0.18375995755195618, \n",
      "Epoch 2, Loss: 0.18796057999134064, Test Loss: 0.13913562893867493, \n",
      "Epoch 3, Loss: 0.15799008309841156, Test Loss: 0.14879578351974487, \n",
      "Epoch 4, Loss: 0.11870390176773071, Test Loss: 0.10613763332366943, \n",
      "Epoch 5, Loss: 0.10328705608844757, Test Loss: 0.12367016077041626, \n",
      "Epoch 6, Loss: 0.11478692293167114, Test Loss: 0.08180970698595047, \n",
      "Epoch 7, Loss: 0.10861177742481232, Test Loss: 0.06721899658441544, \n",
      "Epoch 8, Loss: 0.10144142061471939, Test Loss: 0.11977587640285492, \n",
      "Epoch 9, Loss: 0.09304135292768478, Test Loss: 0.07711447030305862, \n",
      "Epoch 10, Loss: 0.08120410144329071, Test Loss: 0.05936294049024582, \n",
      "Epoch 11, Loss: 0.06635263562202454, Test Loss: 0.04915495216846466, \n",
      "Epoch 12, Loss: 0.06483232975006104, Test Loss: 0.035514120012521744, \n",
      "Epoch 13, Loss: 0.06003820151090622, Test Loss: 0.09069428592920303, \n",
      "Epoch 14, Loss: 0.06572110950946808, Test Loss: 0.03403957188129425, \n",
      "Epoch 15, Loss: 0.0571788027882576, Test Loss: 0.07448484748601913, \n",
      "Epoch 16, Loss: 0.056208040565252304, Test Loss: 0.05708952620625496, \n",
      "Epoch 17, Loss: 0.06186262518167496, Test Loss: 0.07724270969629288, \n",
      "Epoch 18, Loss: 0.06013808399438858, Test Loss: 0.06321630626916885, \n",
      "Epoch 19, Loss: 0.04983755573630333, Test Loss: 0.03391799330711365, \n",
      "Epoch 20, Loss: 0.05107680708169937, Test Loss: 0.02951582334935665, \n",
      "Epoch 21, Loss: 0.05158226937055588, Test Loss: 0.06936913728713989, \n",
      "Epoch 22, Loss: 0.06038593873381615, Test Loss: 0.07341234385967255, \n",
      "Epoch 23, Loss: 0.05219230055809021, Test Loss: 0.05804869532585144, \n",
      "Epoch 24, Loss: 0.04689250886440277, Test Loss: 0.08362677693367004, \n",
      "Epoch 25, Loss: 0.04834305867552757, Test Loss: 0.05433952063322067, \n",
      "Epoch 26, Loss: 0.04919252544641495, Test Loss: 0.03519265353679657, \n",
      "Epoch 27, Loss: 0.04843970388174057, Test Loss: 0.05966153368353844, \n",
      "Epoch 28, Loss: 0.04233766347169876, Test Loss: 0.037650417536497116, \n",
      "Epoch 29, Loss: 0.03840946406126022, Test Loss: 0.05641355738043785, \n",
      "Epoch 30, Loss: 0.042851828038692474, Test Loss: 0.077215276658535, \n",
      "Epoch 31, Loss: 0.04454484209418297, Test Loss: 0.029020732268691063, \n",
      "Epoch 32, Loss: 0.03898737579584122, Test Loss: 0.022711200639605522, \n",
      "Epoch 33, Loss: 0.034698501229286194, Test Loss: 0.039139170199632645, \n",
      "Epoch 34, Loss: 0.03329132869839668, Test Loss: 0.04219997301697731, \n",
      "Epoch 35, Loss: 0.037810318171978, Test Loss: 0.039217863231897354, \n",
      "Epoch 36, Loss: 0.03361109644174576, Test Loss: 0.03638804331421852, \n",
      "Epoch 37, Loss: 0.03315192461013794, Test Loss: 0.03891066834330559, \n",
      "Epoch 38, Loss: 0.033280570060014725, Test Loss: 0.018778512254357338, \n",
      "Epoch 39, Loss: 0.031833749264478683, Test Loss: 0.018878992646932602, \n",
      "Epoch 40, Loss: 0.030977286398410797, Test Loss: 0.030366824939846992, \n",
      "Epoch 41, Loss: 0.028645195066928864, Test Loss: 0.016317272558808327, \n"
     ]
    },
    {
     "ename": "KeyboardInterrupt",
     "evalue": "",
     "output_type": "error",
     "traceback": [
      "\u001b[0;31m---------------------------------------------------------------------------\u001b[0m",
      "\u001b[0;31mKeyboardInterrupt\u001b[0m                         Traceback (most recent call last)",
      "\u001b[0;32m<ipython-input-12-40ae32736ebb>\u001b[0m in \u001b[0;36m<module>\u001b[0;34m\u001b[0m\n\u001b[1;32m      7\u001b[0m \u001b[0;34m\u001b[0m\u001b[0m\n\u001b[1;32m      8\u001b[0m     \u001b[0;32mfor\u001b[0m \u001b[0mimages\u001b[0m\u001b[0;34m,\u001b[0m \u001b[0mlabels\u001b[0m \u001b[0;32min\u001b[0m \u001b[0mzip\u001b[0m\u001b[0;34m(\u001b[0m\u001b[0mD_tr_batches\u001b[0m\u001b[0;34m,\u001b[0m \u001b[0mA_tr_batches\u001b[0m\u001b[0;34m)\u001b[0m\u001b[0;34m:\u001b[0m\u001b[0;34m\u001b[0m\u001b[0;34m\u001b[0m\u001b[0m\n\u001b[0;32m----> 9\u001b[0;31m         \u001b[0mtrain_step\u001b[0m\u001b[0;34m(\u001b[0m\u001b[0mimages\u001b[0m\u001b[0;34m,\u001b[0m \u001b[0mlabels\u001b[0m\u001b[0;34m)\u001b[0m\u001b[0;34m\u001b[0m\u001b[0;34m\u001b[0m\u001b[0m\n\u001b[0m\u001b[1;32m     10\u001b[0m \u001b[0;34m\u001b[0m\u001b[0m\n\u001b[1;32m     11\u001b[0m \u001b[0;34m\u001b[0m\u001b[0m\n",
      "\u001b[0;32m~/Projets/orbits_tf2/conda-env/lib/python3.7/site-packages/tensorflow/python/eager/def_function.py\u001b[0m in \u001b[0;36m__call__\u001b[0;34m(self, *args, **kwds)\u001b[0m\n\u001b[1;32m    826\u001b[0m     \u001b[0mtracing_count\u001b[0m \u001b[0;34m=\u001b[0m \u001b[0mself\u001b[0m\u001b[0;34m.\u001b[0m\u001b[0mexperimental_get_tracing_count\u001b[0m\u001b[0;34m(\u001b[0m\u001b[0;34m)\u001b[0m\u001b[0;34m\u001b[0m\u001b[0;34m\u001b[0m\u001b[0m\n\u001b[1;32m    827\u001b[0m     \u001b[0;32mwith\u001b[0m \u001b[0mtrace\u001b[0m\u001b[0;34m.\u001b[0m\u001b[0mTrace\u001b[0m\u001b[0;34m(\u001b[0m\u001b[0mself\u001b[0m\u001b[0;34m.\u001b[0m\u001b[0m_name\u001b[0m\u001b[0;34m)\u001b[0m \u001b[0;32mas\u001b[0m \u001b[0mtm\u001b[0m\u001b[0;34m:\u001b[0m\u001b[0;34m\u001b[0m\u001b[0;34m\u001b[0m\u001b[0m\n\u001b[0;32m--> 828\u001b[0;31m       \u001b[0mresult\u001b[0m \u001b[0;34m=\u001b[0m \u001b[0mself\u001b[0m\u001b[0;34m.\u001b[0m\u001b[0m_call\u001b[0m\u001b[0;34m(\u001b[0m\u001b[0;34m*\u001b[0m\u001b[0margs\u001b[0m\u001b[0;34m,\u001b[0m \u001b[0;34m**\u001b[0m\u001b[0mkwds\u001b[0m\u001b[0;34m)\u001b[0m\u001b[0;34m\u001b[0m\u001b[0;34m\u001b[0m\u001b[0m\n\u001b[0m\u001b[1;32m    829\u001b[0m       \u001b[0mcompiler\u001b[0m \u001b[0;34m=\u001b[0m \u001b[0;34m\"xla\"\u001b[0m \u001b[0;32mif\u001b[0m \u001b[0mself\u001b[0m\u001b[0;34m.\u001b[0m\u001b[0m_experimental_compile\u001b[0m \u001b[0;32melse\u001b[0m \u001b[0;34m\"nonXla\"\u001b[0m\u001b[0;34m\u001b[0m\u001b[0;34m\u001b[0m\u001b[0m\n\u001b[1;32m    830\u001b[0m       \u001b[0mnew_tracing_count\u001b[0m \u001b[0;34m=\u001b[0m \u001b[0mself\u001b[0m\u001b[0;34m.\u001b[0m\u001b[0mexperimental_get_tracing_count\u001b[0m\u001b[0;34m(\u001b[0m\u001b[0;34m)\u001b[0m\u001b[0;34m\u001b[0m\u001b[0;34m\u001b[0m\u001b[0m\n",
      "\u001b[0;32m~/Projets/orbits_tf2/conda-env/lib/python3.7/site-packages/tensorflow/python/eager/def_function.py\u001b[0m in \u001b[0;36m_call\u001b[0;34m(self, *args, **kwds)\u001b[0m\n\u001b[1;32m    853\u001b[0m       \u001b[0;31m# In this case we have created variables on the first call, so we run the\u001b[0m\u001b[0;34m\u001b[0m\u001b[0;34m\u001b[0m\u001b[0;34m\u001b[0m\u001b[0m\n\u001b[1;32m    854\u001b[0m       \u001b[0;31m# defunned version which is guaranteed to never create variables.\u001b[0m\u001b[0;34m\u001b[0m\u001b[0;34m\u001b[0m\u001b[0;34m\u001b[0m\u001b[0m\n\u001b[0;32m--> 855\u001b[0;31m       \u001b[0;32mreturn\u001b[0m \u001b[0mself\u001b[0m\u001b[0;34m.\u001b[0m\u001b[0m_stateless_fn\u001b[0m\u001b[0;34m(\u001b[0m\u001b[0;34m*\u001b[0m\u001b[0margs\u001b[0m\u001b[0;34m,\u001b[0m \u001b[0;34m**\u001b[0m\u001b[0mkwds\u001b[0m\u001b[0;34m)\u001b[0m  \u001b[0;31m# pylint: disable=not-callable\u001b[0m\u001b[0;34m\u001b[0m\u001b[0;34m\u001b[0m\u001b[0m\n\u001b[0m\u001b[1;32m    856\u001b[0m     \u001b[0;32melif\u001b[0m \u001b[0mself\u001b[0m\u001b[0;34m.\u001b[0m\u001b[0m_stateful_fn\u001b[0m \u001b[0;32mis\u001b[0m \u001b[0;32mnot\u001b[0m \u001b[0;32mNone\u001b[0m\u001b[0;34m:\u001b[0m\u001b[0;34m\u001b[0m\u001b[0;34m\u001b[0m\u001b[0m\n\u001b[1;32m    857\u001b[0m       \u001b[0;31m# Release the lock early so that multiple threads can perform the call\u001b[0m\u001b[0;34m\u001b[0m\u001b[0;34m\u001b[0m\u001b[0;34m\u001b[0m\u001b[0m\n",
      "\u001b[0;32m~/Projets/orbits_tf2/conda-env/lib/python3.7/site-packages/tensorflow/python/eager/function.py\u001b[0m in \u001b[0;36m__call__\u001b[0;34m(self, *args, **kwargs)\u001b[0m\n\u001b[1;32m   2941\u001b[0m        filtered_flat_args) = self._maybe_define_function(args, kwargs)\n\u001b[1;32m   2942\u001b[0m     return graph_function._call_flat(\n\u001b[0;32m-> 2943\u001b[0;31m         filtered_flat_args, captured_inputs=graph_function.captured_inputs)  # pylint: disable=protected-access\n\u001b[0m\u001b[1;32m   2944\u001b[0m \u001b[0;34m\u001b[0m\u001b[0m\n\u001b[1;32m   2945\u001b[0m   \u001b[0;34m@\u001b[0m\u001b[0mproperty\u001b[0m\u001b[0;34m\u001b[0m\u001b[0;34m\u001b[0m\u001b[0m\n",
      "\u001b[0;32m~/Projets/orbits_tf2/conda-env/lib/python3.7/site-packages/tensorflow/python/eager/function.py\u001b[0m in \u001b[0;36m_call_flat\u001b[0;34m(self, args, captured_inputs, cancellation_manager)\u001b[0m\n\u001b[1;32m   1917\u001b[0m       \u001b[0;31m# No tape is watching; skip to running the function.\u001b[0m\u001b[0;34m\u001b[0m\u001b[0;34m\u001b[0m\u001b[0;34m\u001b[0m\u001b[0m\n\u001b[1;32m   1918\u001b[0m       return self._build_call_outputs(self._inference_function.call(\n\u001b[0;32m-> 1919\u001b[0;31m           ctx, args, cancellation_manager=cancellation_manager))\n\u001b[0m\u001b[1;32m   1920\u001b[0m     forward_backward = self._select_forward_and_backward_functions(\n\u001b[1;32m   1921\u001b[0m         \u001b[0margs\u001b[0m\u001b[0;34m,\u001b[0m\u001b[0;34m\u001b[0m\u001b[0;34m\u001b[0m\u001b[0m\n",
      "\u001b[0;32m~/Projets/orbits_tf2/conda-env/lib/python3.7/site-packages/tensorflow/python/eager/function.py\u001b[0m in \u001b[0;36mcall\u001b[0;34m(self, ctx, args, cancellation_manager)\u001b[0m\n\u001b[1;32m    558\u001b[0m               \u001b[0minputs\u001b[0m\u001b[0;34m=\u001b[0m\u001b[0margs\u001b[0m\u001b[0;34m,\u001b[0m\u001b[0;34m\u001b[0m\u001b[0;34m\u001b[0m\u001b[0m\n\u001b[1;32m    559\u001b[0m               \u001b[0mattrs\u001b[0m\u001b[0;34m=\u001b[0m\u001b[0mattrs\u001b[0m\u001b[0;34m,\u001b[0m\u001b[0;34m\u001b[0m\u001b[0;34m\u001b[0m\u001b[0m\n\u001b[0;32m--> 560\u001b[0;31m               ctx=ctx)\n\u001b[0m\u001b[1;32m    561\u001b[0m         \u001b[0;32melse\u001b[0m\u001b[0;34m:\u001b[0m\u001b[0;34m\u001b[0m\u001b[0;34m\u001b[0m\u001b[0m\n\u001b[1;32m    562\u001b[0m           outputs = execute.execute_with_cancellation(\n",
      "\u001b[0;32m~/Projets/orbits_tf2/conda-env/lib/python3.7/site-packages/tensorflow/python/eager/execute.py\u001b[0m in \u001b[0;36mquick_execute\u001b[0;34m(op_name, num_outputs, inputs, attrs, ctx, name)\u001b[0m\n\u001b[1;32m     58\u001b[0m     \u001b[0mctx\u001b[0m\u001b[0;34m.\u001b[0m\u001b[0mensure_initialized\u001b[0m\u001b[0;34m(\u001b[0m\u001b[0;34m)\u001b[0m\u001b[0;34m\u001b[0m\u001b[0;34m\u001b[0m\u001b[0m\n\u001b[1;32m     59\u001b[0m     tensors = pywrap_tfe.TFE_Py_Execute(ctx._handle, device_name, op_name,\n\u001b[0;32m---> 60\u001b[0;31m                                         inputs, attrs, num_outputs)\n\u001b[0m\u001b[1;32m     61\u001b[0m   \u001b[0;32mexcept\u001b[0m \u001b[0mcore\u001b[0m\u001b[0;34m.\u001b[0m\u001b[0m_NotOkStatusException\u001b[0m \u001b[0;32mas\u001b[0m \u001b[0me\u001b[0m\u001b[0;34m:\u001b[0m\u001b[0;34m\u001b[0m\u001b[0;34m\u001b[0m\u001b[0m\n\u001b[1;32m     62\u001b[0m     \u001b[0;32mif\u001b[0m \u001b[0mname\u001b[0m \u001b[0;32mis\u001b[0m \u001b[0;32mnot\u001b[0m \u001b[0;32mNone\u001b[0m\u001b[0;34m:\u001b[0m\u001b[0;34m\u001b[0m\u001b[0;34m\u001b[0m\u001b[0m\n",
      "\u001b[0;31mKeyboardInterrupt\u001b[0m: "
     ]
    }
   ],
   "source": [
    "EPOCHS = 200\n",
    "\n",
    "for epoch in range(EPOCHS):\n",
    "    # Reset the metrics at the start of the next epoch\n",
    "    train_loss.reset_states()\n",
    "    test_loss.reset_states()\n",
    "\n",
    "    for images, labels in zip(D_tr_batches, A_tr_batches):\n",
    "        train_step(images, labels)\n",
    "\n",
    "    \n",
    "    test_step(D_val_flat, A_val)\n",
    "\n",
    "    print(\n",
    "        f'Epoch {epoch + 1}, '\n",
    "        f'Loss: {train_loss.result()}, '\n",
    "        f'Test Loss: {test_loss.result()}, '\n",
    "  )"
   ]
  },
  {
   "cell_type": "code",
   "execution_count": 13,
   "metadata": {},
   "outputs": [],
   "source": [
    "graph_dict = { \n",
    "          \"nodes\": nodes_val,\n",
    "          \"edges\": D_val_flat, \n",
    "          \"receivers\": receivers_val,\n",
    "          \"senders\": senders_val \n",
    "           } \n",
    "    \n",
    "g = gn.utils_tf.data_dicts_to_graphs_tuple([graph_dict])\n",
    "    \n",
    "A_pred =  model(g)\n",
    "\n"
   ]
  },
  {
   "cell_type": "code",
   "execution_count": 14,
   "metadata": {},
   "outputs": [
    {
     "data": {
      "text/plain": [
       "[<matplotlib.lines.Line2D at 0x7fe009264f10>,\n",
       " <matplotlib.lines.Line2D at 0x7fdfefbe22d0>,\n",
       " <matplotlib.lines.Line2D at 0x7fe0092648d0>]"
      ]
     },
     "execution_count": 14,
     "metadata": {},
     "output_type": "execute_result"
    },
    {
     "data": {
      "image/png": "[encoded data removed]",
      "text/plain": [
       "<Figure size 432x288 with 1 Axes>"
      ]
     },
     "metadata": {
      "needs_background": "light"
     },
     "output_type": "display_data"
    }
   ],
   "source": [
    "plt.plot(A_pred[:,:,0], A_pred[:,:,1], '.')"
   ]
  },
  {
   "cell_type": "code",
   "execution_count": 15,
   "metadata": {},
   "outputs": [
    {
     "data": {
      "text/plain": [
       "[<matplotlib.lines.Line2D at 0x7fdfef8fc610>,\n",
       " <matplotlib.lines.Line2D at 0x7fdfef906fd0>,\n",
       " <matplotlib.lines.Line2D at 0x7fdfef8fce90>]"
      ]
     },
     "execution_count": 15,
     "metadata": {},
     "output_type": "execute_result"
    },
    {
     "data": {
      "image/png": "[encoded data removed]",
      "text/plain": [
       "<Figure size 432x288 with 1 Axes>"
      ]
     },
     "metadata": {
      "needs_background": "light"
     },
     "output_type": "display_data"
    }
   ],
   "source": [
    "plt.plot(A_val[:,:,0], A_val[:,:,1], '.')"
   ]
  },
  {
   "cell_type": "code",
   "execution_count": 16,
   "metadata": {},
   "outputs": [
    {
     "data": {
      "text/plain": [
       "[<matplotlib.lines.Line2D at 0x7fdfefe2e410>]"
      ]
     },
     "execution_count": 16,
     "metadata": {},
     "output_type": "execute_result"
    },
    {
     "data": {
      "image/png": "[encoded data removed]",
      "text/plain": [
       "<Figure size 432x288 with 1 Axes>"
      ]
     },
     "metadata": {
      "needs_background": "light"
     },
     "output_type": "display_data"
    }
   ],
   "source": [
    "plt.plot(A_pred[:,2,0], A_pred[:,2,1], '.')"
   ]
  },
  {
   "cell_type": "code",
   "execution_count": null,
   "metadata": {},
   "outputs": [],
   "source": [
    "x = np.arange(batch_size_tr)\n",
    "xx = x.reshape(batch_size_tr,1)\n",
    "y = np.ones(nedges)\n",
    "z = np.reshape(xx+y-1, batch_size_tr*nedges)*nplanets"
   ]
  },
  {
   "cell_type": "code",
   "execution_count": null,
   "metadata": {},
   "outputs": [],
   "source": [
    "z"
   ]
  },
  {
   "cell_type": "code",
   "execution_count": null,
   "metadata": {},
   "outputs": [],
   "source": [
    "plt.plot(D_tr_flat[-10:,0], D_tr_flat[-10:,1], '.')"
   ]
  },
  {
   "cell_type": "code",
   "execution_count": null,
   "metadata": {},
   "outputs": [],
   "source": [
    "plt.plot(A_tr[-10:,1,0], A_tr[-10:,1,1], '.')"
   ]
  },
  {
   "cell_type": "code",
   "execution_count": null,
   "metadata": {},
   "outputs": [],
   "source": [
    "masses"
   ]
  },
  {
   "cell_type": "code",
   "execution_count": null,
   "metadata": {},
   "outputs": [],
   "source": [
    "nodes_tr"
   ]
  },
  {
   "cell_type": "code",
   "execution_count": null,
   "metadata": {},
   "outputs": [],
   "source": [
    "masses"
   ]
  },
  {
   "cell_type": "code",
   "execution_count": null,
   "metadata": {},
   "outputs": [],
   "source": []
  }
 ],
 "metadata": {
  "kernelspec": {
   "display_name": "gn_tf2",
   "language": "python",
   "name": "gn_tf2"
  },
  "language_info": {
   "codemirror_mode": {
    "name": "ipython",
    "version": 3
   },
   "file_extension": ".py",
   "mimetype": "text/x-python",
   "name": "python",
   "nbconvert_exporter": "python",
   "pygments_lexer": "ipython3",
   "version": "3.7.8"
  }
 },
 "nbformat": 4,
 "nbformat_minor": 2
}
