{
 "cells": [
  {
   "cell_type": "code",
   "execution_count": 1,
   "id": "f313f0af",
   "metadata": {},
   "outputs": [],
   "source": [
    "import numpy as np\n",
    "import matplotlib.pyplot as plt\n",
    "import read_orbits"
   ]
  },
  {
   "cell_type": "code",
   "execution_count": 26,
   "id": "42e2897d",
   "metadata": {},
   "outputs": [],
   "source": [
    "# Global constants\n",
    "\n",
    "# Everything in solar masses, AU, year\n",
    "\n",
    "AU = 149.6e6 * 1000 # Astronomical Unit in meters.\n",
    "DAY = 24*3600. # Day in seconds\n",
    "YEAR = 365.25*DAY #Year\n",
    "delta_time = (0.5/24.) # 2 hours\n",
    "MSUN = 1.9885e+30\n",
    "MEARTH = 5.9724e+24\n",
    "G = 6.67428e-11/AU**3*MSUN*YEAR**2"
   ]
  },
  {
   "cell_type": "code",
   "execution_count": 27,
   "id": "d8078ab0",
   "metadata": {},
   "outputs": [
    {
     "name": "stdout",
     "output_type": "stream",
     "text": [
      "Reading data in Solar System barycenter reference frame\n",
      "Reading data for mercury\n",
      "Reading data for venus\n",
      "Reading data for earth\n",
      "Reading data for moon\n",
      "Reading data for mars\n",
      "Reading data for jupiter\n",
      "Reading data for io\n",
      "Reading data for europa\n",
      "Reading data for ganymede\n",
      "Reading data for callisto\n",
      "Reading data for saturn\n",
      "Reading data for mimas\n",
      "Reading data for enceladus\n",
      "Reading data for tethys\n",
      "Reading data for dione\n",
      "Reading data for rhea\n",
      "Reading data for titan\n",
      "Reading data for hyperion\n",
      "Reading data for iapetus\n",
      "Reading data for phoebe\n",
      "Reading data for uranus\n",
      "Reading data for ariel\n",
      "Reading data for umbriel\n",
      "Reading data for titania\n",
      "Reading data for oberon\n",
      "Reading data for miranda\n",
      "Reading data for neptune\n",
      "Reading data for triton\n",
      "Reading data for nereid\n",
      "Reading data for proteus\n",
      "Finished reading data\n",
      "The data array contains 31 bodies.\n"
     ]
    }
   ],
   "source": [
    "nplanets = 8\n",
    "data, masses, names = read_orbits.main(nplanets=nplanets, frame='b', use_moons=True,\n",
    "                                           path='/Users/Pablo/Dropbox/data/orbits/7parts/part1/',)\n",
    "\n",
    "masses /= masses[0]\n",
    "nplanets = len(data[0])\n",
    "nedges = nplanets*(nplanets-1)//2"
   ]
  },
  {
   "cell_type": "code",
   "execution_count": 28,
   "id": "2771a0a7",
   "metadata": {},
   "outputs": [],
   "source": [
    "def force_newton_norm(x, m1, m2):\n",
    "    return G*m1*m2/np.linalg.norm(x, axis = -1, keepdims=False)**2\n",
    "\n",
    "def grav_energy(x, m1, m2):\n",
    "    return G*m1*m2/np.linalg.norm(x, axis = -1, keepdims=False)"
   ]
  },
  {
   "cell_type": "code",
   "execution_count": 29,
   "id": "0867fa81",
   "metadata": {},
   "outputs": [],
   "source": [
    "Fsum = np.zeros([len(data), nplanets])\n",
    "Esum = np.zeros([len(data), nplanets])\n",
    "for i in range(nplanets):\n",
    "    for j in range(nplanets):\n",
    "        if i != j:\n",
    "            d = data[:,j,:3] - data[:,i,:3]\n",
    "            f = force_newton_norm(d, masses[i], masses[j])\n",
    "            e = grav_energy(d, masses[i], masses[j])/masses[j]\n",
    "            Fsum[:,i] += f\n",
    "            Esum[:,i] += e\n"
   ]
  },
  {
   "cell_type": "code",
   "execution_count": 30,
   "id": "a51094fd",
   "metadata": {},
   "outputs": [],
   "source": [
    "ff = np.mean(Fsum, axis = 0)\n",
    "ee = np.mean(Esum, axis = 0)"
   ]
  },
  {
   "cell_type": "code",
   "execution_count": 33,
   "id": "62bba0c9",
   "metadata": {},
   "outputs": [],
   "source": [
    "np.save('./saved_models/summed_forces', ff)\n",
    "np.save('./saved_models/summed_potentials', ee)"
   ]
  }
 ],
 "metadata": {
  "kernelspec": {
   "display_name": "orbits",
   "language": "python",
   "name": "orbits"
  },
  "language_info": {
   "codemirror_mode": {
    "name": "ipython",
    "version": 3
   },
   "file_extension": ".py",
   "mimetype": "text/x-python",
   "name": "python",
   "nbconvert_exporter": "python",
   "pygments_lexer": "ipython3",
   "version": "3.7.0"
  }
 },
 "nbformat": 4,
 "nbformat_minor": 5
}
